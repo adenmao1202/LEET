{
  "cells": [
    {
      "cell_type": "markdown",
      "metadata": {
        "id": "kf9SdlGzhDx_"
      },
      "source": [
        "# Review: Programming Exercise 07"
      ]
    },
    {
      "cell_type": "markdown",
      "metadata": {
        "id": "KNr-7MwCiWRA"
      },
      "source": [
        "## Traffic Flow (MAXIMUM Spanning Tree)\n",
        "\n",
        "Prim's MST Algorithm for reference\n",
        "```\n",
        "def prim(graph:list)->list:\n",
        "    mst = []\n",
        "    for i in range(len(graph)):\n",
        "        mst.append(GraphVertex(i))\n",
        "    v = graph[0] #start\n",
        "    while not v.intree:\n",
        "        v.intree = True\n",
        "        for e in v.edges:\n",
        "            if not e.destination.intree:\n",
        "                if e.destination.candidate is None or e.destination.candidate.weight > e.weight:\n",
        "                    e.destination.candidate = e\n",
        "                    e.destination.parent = v\n",
        "        dist = float('inf')\n",
        "        mst_edge = None\n",
        "        for i in graph:\n",
        "            if not i.intree and i.candidate is not None and dist > i.candidate.weight:\n",
        "                dist = i.candidate.weight\n",
        "                mst_edge = i.candidate\n",
        "        if mst_edge is not None: #put edge into mst graph\n",
        "            s = mst_edge.source.label\n",
        "            d = mst_edge.destination.label\n",
        "            w = mst_edge.weight\n",
        "            mst[s].edges.append(GraphEdge(mst[s],mst[d], w))\n",
        "            mst[d].edges.append(GraphEdge(mst[d],mst[s], w)) #undirected graph\n",
        "            v = mst_edge.destination\n",
        "    return mst\n",
        "```"
      ]
    },
    {
      "cell_type": "code",
      "execution_count": null,
      "metadata": {
        "id": "1NHAdZp_iWxh"
      },
      "outputs": [],
      "source": [
        "class Intersection:\n",
        "    def __init__(self, label):\n",
        "        self.label = label\n",
        "        self.candidate = None #Candidate mst edge\n",
        "        self.intree = False #Is the intersection in the tree yet?\n",
        "        self.parent = None #The intersection discover me\n",
        "        self.roads = [] #Roads in Adjacency List\n",
        "\n",
        "class Road:\n",
        "    def __init__(self, source, destination, capacity):\n",
        "        self.source = source\n",
        "        self.destination = destination\n",
        "        self.capacity = capacity\n",
        "\n",
        "def initial_city(n:int, road_list:list)->list:\n",
        "    city = []\n",
        "    for i in range(n):\n",
        "        city.append(Intersection(i))\n",
        "    for r in road_list:\n",
        "        if 0 <= r[0] < n and 0 <= r[1] < n:\n",
        "            city[r[0]].roads.append(Road(city[r[0]], city[r[1]], r[2]))\n",
        "            city[r[1]].roads.append(Road(city[r[1]], city[r[0]], r[2]))\n",
        "    return city"
      ]
    },
    {
      "cell_type": "code",
      "execution_count": null,
      "metadata": {
        "id": "aiFinN46izdA"
      },
      "outputs": [],
      "source": [
        "def traffic_capacity(city:list)->int:\n",
        "    min_capacity = float('inf')\n",
        "    v = city[0] #start\n",
        "    while not v.intree:\n",
        "        v.intree = True\n",
        "        for e in v.roads:\n",
        "            if not e.destination.intree:\n",
        "                if (e.destination.candidate is None or e.destination.candidate.capacity < e.capacity) :#如果e.destination節點還沒有candidate 或 candidate的容量比目前這條路還小\n",
        "                    e.destination.candidate = e #更換candidate\n",
        "                    e.destination.parent = v\n",
        "        dist = float('-inf')\n",
        "        mst_edge = None\n",
        "        for i in city:\n",
        "            if (not i.intree and i.candidate is not None and dist < i.candidate.capacity): #如果i節點不在MST中 且 i有candidate 且 該candidat的容量比目前最大的還大\n",
        "                dist = i.candidate.capacity #更換選入MST的邊(路)\n",
        "                mst_edge = i.candidate\n",
        "        if mst_edge is not None: #如果有挑到新的MST的邊(路)\n",
        "            min_capacity = min(min_capacity, mst_edge.capacity) #和目前最小容量道路比較取出最小容量\n",
        "            v = mst_edge.destination #從新選入的MST邊的目的地節點繼續迴圈\n",
        "\n",
        "    return min_capacity"
      ]
    },
    {
      "cell_type": "code",
      "execution_count": null,
      "metadata": {
        "colab": {
          "base_uri": "https://localhost:8080/"
        },
        "id": "aL_h_y_QkxUg",
        "outputId": "2b02fabf-dc34-4e5a-e036-2df610d7113e"
      },
      "outputs": [
        {
          "name": "stdout",
          "output_type": "stream",
          "text": [
            "20\n",
            "3\n",
            "50\n",
            "60\n",
            "211\n"
          ]
        }
      ],
      "source": [
        "print(traffic_capacity(initial_city(3, [[0,1,10],[0,1,20],[0,2,30]])))\n",
        "#20\n",
        "print(traffic_capacity(initial_city(5, [[0,1,1],[3,1,2],[1,2,3],[2,3,4],[0,2,5]])))\n",
        "#3\n",
        "print(traffic_capacity(initial_city(7, [[0,1,50],[0,2,60],[1,3,120],[1,4,90],[2,5,50],[3,5,80],[3,6,70],[4,6,40],[5,6,140]])))\n",
        "#50\n",
        "print(traffic_capacity(initial_city(4, [[0,1,50],[0,2,60],[1,1,20],[1,2,59],[1,2,65],[1,3,60],[2,3,62],[3,0,45]])))\n",
        "#60\n",
        "print(traffic_capacity(initial_city(5, [[1,2,200],[1,2,2],[1,2,3],[1,3,200],[1,3,199],[1,3,201],[1,4,500],[3,4,2],[3,0,211],[4,0,333],[1,2,10],[1,2,22],[1,2,33],[1,3,200],[4,3,199],[2,3,201],[2,4,500],[3,4,2],[2,0,211],[1,0,333]])))\n",
        "#211"
      ]
    },
    {
      "cell_type": "markdown",
      "metadata": {
        "id": "4jqbUI3Ne5AN"
      },
      "source": [
        "## Road Network\n",
        "Floyd-Warshall's All Pairs Shortest Path Algorithm for reference\n",
        "```\n",
        "def floyd(M:list):\n",
        "    n = len(M)\n",
        "    for k in range(n):\n",
        "        for i in range(n):\n",
        "            for j in range(n):\n",
        "                if M[i][k] != float('inf') and M[k][j] != float('inf'):\n",
        "                    M[i][j] = min(M[i][j], M[i][k]+M[k][j])\n",
        "```\n",
        "Create Adjacency Matrix from Edgelist\n",
        "```\n",
        "M = [x[:] for x in [[float('inf')]*n]*n]\n",
        "for i in range(n):\n",
        "    M[i][i] = 0\n",
        "for h in edgelist:\n",
        "    M[h[0]][h[1]] = h[2]\n",
        "    M[h[1]][h[0]] = h[2]\n",
        "```\n"
      ]
    },
    {
      "cell_type": "code",
      "execution_count": null,
      "metadata": {
        "id": "4y8tvD6Zg-Rr"
      },
      "outputs": [],
      "source": [
        "#version 1: brute force all pairs shorest path for each proposal\n",
        "def find_best_proposal(highways:list, proposals:list, n:int)->list:\n",
        "    best_p = None\n",
        "    min_distance = float('inf')\n",
        "    for p in proposals:\n",
        "        # Create Adjacency Matrix from Highways list\n",
        "        M = [x[:] for x in [[float('inf')]*n]*n]\n",
        "        for i in range(n):\n",
        "            M[i][i] = 0\n",
        "        for h in highways:\n",
        "            M[h[0]][h[1]] = h[2]\n",
        "            M[h[1]][h[0]] = h[2]\n",
        "\n",
        "        # Insert a proposal edge\n",
        "        M[p[0]][p[1]] = p[2]\n",
        "        M[p[1]][p[0]] = p[2]\n",
        "\n",
        "        # Floyd-Warshall's All Pairs Shortest Path Algorithm\n",
        "        for k in range(n):\n",
        "            for i in range(n):\n",
        "                for j in range(n):\n",
        "                    if M[i][k] != float('inf') and M[k][j] != float('inf'):\n",
        "                        M[i][j] = min(M[i][j],M[i][k]+M[k][j])# need fix: 更新透過節點k後的最短距離\n",
        "\n",
        "        # Calculate the total length of all paths\n",
        "        distance = 0\n",
        "        for i in range(n):\n",
        "            for j in range(n):\n",
        "                distance += M[i][j]\n",
        "        distance //= 2 #因為矩陣是對稱的，所以總距離是矩陣值總和除2\n",
        "\n",
        "        # Get the best proposal\n",
        "        if distance < min_distance:\n",
        "            best_p = p\n",
        "            min_distance = distance\n",
        "    return best_p"
      ]
    },
    {
      "cell_type": "code",
      "execution_count": null,
      "metadata": {
        "id": "-vWGJbnYhOsM"
      },
      "outputs": [],
      "source": [
        "#version 2: check new path only.\n",
        "def find_best_proposal(highways:list, proposals:list, n:int)->list:\n",
        "    # Create Adjacency Matrix from Highways list\n",
        "    M = [x[:] for x in [[float('inf')]*n]*n]\n",
        "    for i in range(n):\n",
        "        M[i][i] = 0\n",
        "    for h in highways:\n",
        "        M[h[0]][h[1]] = h[2]\n",
        "        M[h[1]][h[0]] = h[2]\n",
        "\n",
        "    # Floyd-Warshall's All Pairs Shortest Path Algorithm on Original graph\n",
        "    for k in range(n):\n",
        "        for i in range(n):\n",
        "            for j in range(n):\n",
        "                if M[i][k] != float('inf') and M[k][j] != float('inf'):\n",
        "                    M[i][j] = min(M[i][j], M[i][k]+M[k][j])\n",
        "\n",
        "    max_saving = float('-inf')\n",
        "    for p in proposals:\n",
        "        proposal_saving = 0\n",
        "        # 針對All pairs檢查新增proposal後影響 i 到 j 路徑變成\n",
        "        # (i, p[0]) -> p -> (p[1], j) 與 (i, p[1]) -> p -> (p[0], j)\n",
        "        # 兩者和原來 (i, j) 的最短距離中取最大改善加總\n",
        "        for i in range(n):\n",
        "            for j in range(n):\n",
        "                new_path1 = M[i][p[0]]+p[2]+M[p[1]][j] #need fix: 計算新路徑 (i, p[0]) -> p[2] -> (p[1], j) 的距離\n",
        "                new_path2 = M[i][p[1]]+p[2]+M[p[0]][j] #need fix: 計算新路徑 (i, p[1]) -> p[2] -> (p[0], j) 的距離\n",
        "                proposal_saving += max(M[i][j]-new_path1, M[i][j]-new_path2, 0) #need fix: 取改善最多的路徑數值，如果沒有改善就是0\n",
        "\n",
        "        # Get the best proposal\n",
        "        if proposal_saving > max_saving:\n",
        "            best_p = p\n",
        "            max_saving = proposal_saving\n",
        "\n",
        "    return best_p"
      ]
    },
    {
      "cell_type": "code",
      "execution_count": null,
      "metadata": {
        "colab": {
          "base_uri": "https://localhost:8080/"
        },
        "id": "kX_sCssWhZzg",
        "outputId": "f3cf2177-28e0-4bc5-d6f6-2c6169922378"
      },
      "outputs": [
        {
          "name": "stdout",
          "output_type": "stream",
          "text": [
            "[4, 0, 20]\n",
            "[4, 0, 37]\n",
            "[0, 2, 15]\n",
            "[0, 2, 7]\n",
            "[4, 6, 14]\n"
          ]
        }
      ],
      "source": [
        "highways = [[0, 1, 3498], [1, 2, 5589], [2, 3, 2131], [3, 4, 277], [4, 5, 7148], [2, 5, 7337], [5, 1, 8379], [5, 0, 5562]]\n",
        "proposals = [[4, 0, 20], [2, 4, 50], [1, 3, 48]]\n",
        "print(find_best_proposal(highways, proposals, 6))\n",
        "#[4, 0, 20]\n",
        "highways = [[0, 1, 2720], [1, 2, 3842], [2, 3, 113], [3, 4, 2418], [4, 5, 7213], [3, 0, 4965], [0, 5, 3848], [1, 5, 9469], [2, 5, 8578]]\n",
        "proposals = [[4, 2, 25], [3, 1, 6], [4, 0, 37]]\n",
        "print(find_best_proposal(highways, proposals, 6))\n",
        "#[4, 0, 37]\n",
        "highways = [[0, 1, 7825], [1, 2, 2537], [2, 3, 2749], [3, 4, 1706], [4, 5, 3725], [5, 6, 3773], [2, 4, 8566], [0, 5, 9402], [6, 2, 8007]]\n",
        "proposals = [[5, 1, 24], [0, 2, 15], [6, 1, 34]]\n",
        "print(find_best_proposal(highways, proposals, 7))\n",
        "#[0, 2, 15]\n",
        "highways = [[0, 1, 8195], [1, 2, 1607], [2, 3, 9040], [3, 4, 8708], [4, 5, 3222], [5, 6, 5487], [6, 7, 7911], [7, 8, 2520], [5, 8, 4467], [4, 1, 4694], [3, 0, 4126], [0, 4, 6489], [5, 0, 3029], [1, 7, 3924], [7, 3, 9267], [8, 0, 9568], [2, 5, 8350], [1, 3, 7223], [1, 6, 7454], [7, 4, 4304], [5, 3, 3893], [0, 7, 856], [4, 2, 760], [0, 6, 3730]]\n",
        "proposals = [[2, 7, 42], [1, 8, 31], [3, 8, 30], [8, 4, 34], [2, 6, 40], [0, 2, 7], [4, 6, 5]]\n",
        "print(find_best_proposal(highways, proposals, 9))\n",
        "#[0, 2, 7]\n",
        "highways = [[0, 1, 8284], [1, 2, 9424], [2, 3, 7475], [3, 4, 5466], [4, 5, 6197], [5, 6, 7979], [6, 7, 3821], [7, 8, 5679], [8, 9, 3847], [9, 10, 4369], [10, 8, 8800], [5, 0, 4500], [6, 2, 394], [0, 9, 6708], [0, 3, 3380], [2, 9, 6442], [7, 5, 1697], [3, 5, 8070], [6, 3, 6569], [3, 1, 9954], [7, 1, 7281], [8, 5, 7243], [7, 3, 3900], [9, 3, 935], [7, 9, 858], [4, 10, 5738], [9, 4, 22]]\n",
        "proposals = [[4, 8, 29], [2, 8, 1], [7, 0, 29], [10, 7, 40], [4, 6, 14], [10, 6, 31], [4, 2, 22], [9, 5, 35], [6, 8, 25], [1, 9, 33], [6, 0, 4], [2, 7, 31], [8, 1, 4]]\n",
        "print(find_best_proposal(highways, proposals, 11))\n",
        "#[4, 6, 14]\n"
      ]
    },
    {
      "cell_type": "markdown",
      "metadata": {
        "id": "eshOuspNnIt5"
      },
      "source": [
        "# Maximum Flow(Zuvio)"
      ]
    },
    {
      "cell_type": "code",
      "execution_count": null,
      "metadata": {
        "id": "jfYZDG_L0gd3"
      },
      "outputs": [],
      "source": [
        "# Returns tne maximum flow from source to sink in the given graph\n",
        "def max_flow(graph, source, sink)->int:\n",
        "    flow = 0 # There is no flow initially\n",
        "    parent = [None]*len(graph) # This array is filled by BFS and to store path\n",
        "\n",
        "    def BFS(start, target)->bool: # BFS on adjacency matrix\n",
        "        queue = []\n",
        "        visited = [False]*len(graph) # Mark all the vertices as not visited\n",
        "        visited[start] = True\n",
        "        queue.append(start)\n",
        "        while queue:\n",
        "            curr = queue.pop(0)\n",
        "            for index, weight in enumerate(graph[curr]):\n",
        "                # find unvisited vertex with edge has capacity\n",
        "                if visited[index] == False and weight > 0:\n",
        "                    visited[index] = True\n",
        "                    parent[index] = curr\n",
        "                    # If we find a connection to the target(sink) node,\n",
        "                    # then there is no point in BFS anymore\n",
        "                    # We just have to set its parent and can return true\n",
        "                    if index == target:\n",
        "                        return True\n",
        "                    queue.append(index)\n",
        "        # We didn't reach target in BFS starting from source, so return false\n",
        "        return False\n",
        "\n",
        "    # Augment the flow while there is path from source to sink\n",
        "    while BFS(source, sink):\n",
        "        # Find minimum residual capacity of the edges along the\n",
        "        # path filled by BFS. Or we can say find the maximum flow\n",
        "        # through the path found.\n",
        "        path_flow = float(\"Inf\")\n",
        "        s = sink\n",
        "        path=[]\n",
        "        while(s !=  source):\n",
        "            path_flow = min(path_flow, graph[parent[s]][s])\n",
        "            path.insert(0,s)\n",
        "            s = parent[s]\n",
        "        path.insert(0,s)\n",
        "        print(\"->\".join(str(i) for i in path),\", path flow =\",path_flow)\n",
        "\n",
        "        # Add path flow to overall flow\n",
        "        flow += path_flow\n",
        "\n",
        "        # update residual capacities of the edges and reverse edges\n",
        "        # along the path\n",
        "        v = sink\n",
        "        while(v !=  source):\n",
        "            u = parent[v]\n",
        "            graph[u][v] -= path_flow\n",
        "            graph[v][u] += path_flow\n",
        "            v = parent[v]\n",
        "\n",
        "    return flow"
      ]
    },
    {
      "cell_type": "code",
      "execution_count": null,
      "metadata": {
        "id": "_U31N224x1Q5"
      },
      "outputs": [],
      "source": [
        "import networkx as nx\n",
        "def draw_graph(M:list):\n",
        "    graph = nx.Graph()\n",
        "    n = len(M)\n",
        "    graph.add_nodes_from(range(n))\n",
        "    for i in range(n):\n",
        "        for j in range(n):\n",
        "            if 0 < M[i][j] < float('inf'):\n",
        "                graph.add_edge(i,j,weight=M[i][j])\n",
        "    pos=nx.planar_layout(graph)\n",
        "    labels = nx.get_edge_attributes(graph,'weight')\n",
        "    nx.draw_networkx(graph, pos, with_labels=True, font_weight='bold')\n",
        "    nx.draw_networkx_edge_labels(graph,pos,edge_labels=labels)"
      ]
    },
    {
      "cell_type": "markdown",
      "metadata": {
        "id": "HbGqCHV3F6FO"
      },
      "source": [
        "![image.png](data:image/png;base64,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)"
      ]
    },
    {
      "cell_type": "code",
      "execution_count": null,
      "metadata": {
        "colab": {
          "base_uri": "https://localhost:8080/",
          "height": 562
        },
        "id": "bq3dl795B9hs",
        "outputId": "48aab716-2cc6-4e39-8643-0d244e450165"
      },
      "outputs": [
        {
          "name": "stdout",
          "output_type": "stream",
          "text": [
            "0->1->4->7 , path flow = 1\n",
            "0->3->4->7 , path flow = 4\n",
            "0->8->6->7 , path flow = 2\n",
            "0->8->9->7 , path flow = 1\n",
            "0->1->2->4->7 , path flow = 2\n",
            "0->1->2->5->7 , path flow = 1\n",
            "0->1->3->6->7 , path flow = 1\n",
            "0->1->3->6->9->7 , path flow = 1\n",
            "The maximum possible flow is  13\n"
          ]
        },
        {
          "data": {
            "image/png": "[encoded data removed]",
            "text/plain": [
              "<Figure size 640x480 with 1 Axes>"
            ]
          },
          "metadata": {},
          "output_type": "display_data"
        }
      ],
      "source": [
        "#          A, B, C, D, E, F, G, H, I, J\n",
        "graph = [[ 0, 6, 0, 4, 0, 0, 0, 0, 9, 0],  #A\n",
        "         [ 6, 0, 3, 3, 1, 0, 0, 0, 0, 0],  #B\n",
        "         [ 0, 3, 0, 0, 2, 2, 0, 0, 0, 0],  #C\n",
        "         [ 4, 3, 0, 0, 4, 0, 6, 0, 0, 0],  #D\n",
        "         [ 0, 1, 2, 4, 0, 8, 6, 7, 0, 0],  #E\n",
        "         [ 0, 0, 2, 0, 8, 0, 0,11, 0, 0],  #F\n",
        "         [ 0, 0, 0, 6, 6, 0, 0, 3, 2, 2],  #G\n",
        "         [ 0, 0, 0, 0, 7,11, 3, 0, 0, 4],  #H\n",
        "         [ 9, 0, 0, 0, 0, 0, 2, 0, 0, 1],  #I\n",
        "         [ 0, 0, 0, 0, 0, 0, 2, 4, 1, 0]]  #J\n",
        "draw_graph(graph)\n",
        "source = 0 #A\n",
        "sink = 7 #H\n",
        "\n",
        "print(\"The maximum possible flow is \", max_flow(graph, source, sink))"
      ]
    },
    {
      "cell_type": "markdown",
      "metadata": {},
      "source": [
        "# Course starts here !! "
      ]
    },
    {
      "cell_type": "markdown",
      "metadata": {
        "id": "AHvyJkqOaOPn"
      },
      "source": [
        "# Backtracking"
      ]
    },
    {
      "cell_type": "markdown",
      "metadata": {
        "id": "lYCSP613rDxN"
      },
      "source": [
        "## Backtracking framework"
      ]
    },
    {
      "cell_type": "code",
      "execution_count": 1,
      "metadata": {},
      "outputs": [],
      "source": [
        "# Auxilliary Routines for Constructing all Subsets\n",
        "\n",
        "def is_a_solution(a:list, inputs:list)->bool:\n",
        "    return len(a) == len(inputs)\n",
        "\n",
        "def construct_candidate(a:list, inputs:list, c:list):\n",
        "    #c.append(True)\n",
        "    #c.append(False)\n",
        "    c.extend([False, True])\n",
        "\n",
        "def process_solution(a:list, inputs:list):\n",
        "    print([inputs[i] for i, x in enumerate(a) if x],\"*\")\n",
        "    #print([inputs[i] if x else '-' for i, x in enumerate(a)])\n",
        "    #print(\"*\")"
      ]
    },
    {
      "cell_type": "code",
      "execution_count": 2,
      "metadata": {
        "id": "xgh2wvdXaTUr"
      },
      "outputs": [],
      "source": [
        "def do_backtrack(a:list, inputs:list):\n",
        "    c = []\n",
        "    if (is_a_solution(a, inputs)):\n",
        "        process_solution(a, inputs)\n",
        "    else:\n",
        "        construct_candidate(a, inputs, c)\n",
        "        for i in c:\n",
        "            a.append(i)\n",
        "            #print([inputs[i] if x else '-' for i, x in enumerate(a)], end='->')\n",
        "            do_backtrack(a, inputs)\n",
        "            a.pop()\n",
        "            #print([inputs[i] if x else '-' for i, x in enumerate(a)], end='->')"
      ]
    },
    {
      "cell_type": "markdown",
      "metadata": {},
      "source": [
        "find power set "
      ]
    },
    {
      "cell_type": "code",
      "execution_count": 3,
      "metadata": {
        "colab": {
          "base_uri": "https://localhost:8080/"
        },
        "id": "UqR8G_o4qvYW",
        "outputId": "fc738cee-6439-412e-f467-a1b29d93ff39"
      },
      "outputs": [
        {
          "name": "stdout",
          "output_type": "stream",
          "text": [
            "[] *\n",
            "['d'] *\n",
            "['c'] *\n",
            "['c', 'd'] *\n",
            "['b'] *\n",
            "['b', 'd'] *\n",
            "['b', 'c'] *\n",
            "['b', 'c', 'd'] *\n",
            "['a'] *\n",
            "['a', 'd'] *\n",
            "['a', 'c'] *\n",
            "['a', 'c', 'd'] *\n",
            "['a', 'b'] *\n",
            "['a', 'b', 'd'] *\n",
            "['a', 'b', 'c'] *\n",
            "['a', 'b', 'c', 'd'] *\n",
            "end\n"
          ]
        }
      ],
      "source": [
        "do_backtrack([],['a','b','c','d'])\n",
        "print(\"end\")"
      ]
    },
    {
      "cell_type": "markdown",
      "metadata": {
        "id": "ttQJquLWrCkk"
      },
      "source": [
        "## Auxilliary Routines for Constructing all Permutations"
      ]
    },
    {
      "cell_type": "code",
      "execution_count": 4,
      "metadata": {
        "id": "VsSR-vO7abJ_"
      },
      "outputs": [],
      "source": [
        "def do_backtrack(a:list, inputs:list):\n",
        "    c = []\n",
        "    if (is_a_solution(a, inputs)):\n",
        "        process_solution(a, inputs)\n",
        "    else:\n",
        "        construct_candidate(a, inputs, c)\n",
        "        for i in c:\n",
        "            a.append(i)\n",
        "            do_backtrack(a, inputs)\n",
        "            a.pop()"
      ]
    },
    {
      "cell_type": "code",
      "execution_count": 5,
      "metadata": {
        "id": "M8LGrTJXaoD7"
      },
      "outputs": [],
      "source": [
        "def is_a_solution(a:list, inputs:list)->bool:\n",
        "    return len(a) == len(inputs)\n",
        "\n",
        "def construct_candidate(a:list, inputs:list, c:list):\n",
        "    for i in inputs:\n",
        "        if i not in a:\n",
        "            c.append(i)\n",
        "\n",
        "def process_solution(a:list, inputs:list):\n",
        "    print(a)"
      ]
    },
    {
      "cell_type": "markdown",
      "metadata": {},
      "source": [
        "do permutation "
      ]
    },
    {
      "cell_type": "code",
      "execution_count": 7,
      "metadata": {
        "colab": {
          "base_uri": "https://localhost:8080/"
        },
        "id": "R2Iiy6-oq_Nj",
        "outputId": "4d94b15c-b6f9-4344-d836-624b23bd38aa"
      },
      "outputs": [
        {
          "name": "stdout",
          "output_type": "stream",
          "text": [
            "[1, 2, 4]\n",
            "[1, 4, 2]\n",
            "[2, 1, 4]\n",
            "[2, 4, 1]\n",
            "[4, 1, 2]\n",
            "[4, 2, 1]\n"
          ]
        }
      ],
      "source": [
        "do_backtrack([],[1, 2, 4])"
      ]
    },
    {
      "cell_type": "code",
      "execution_count": 8,
      "metadata": {
        "colab": {
          "base_uri": "https://localhost:8080/"
        },
        "id": "C-4Xb5V-rBOz",
        "outputId": "4cd3fdfb-caf3-438c-dd0a-400d84aecc24"
      },
      "outputs": [
        {
          "name": "stdout",
          "output_type": "stream",
          "text": [
            "['a', 'b', 'c', 'd']\n",
            "['a', 'b', 'd', 'c']\n",
            "['a', 'c', 'b', 'd']\n",
            "['a', 'c', 'd', 'b']\n",
            "['a', 'd', 'b', 'c']\n",
            "['a', 'd', 'c', 'b']\n",
            "['b', 'a', 'c', 'd']\n",
            "['b', 'a', 'd', 'c']\n",
            "['b', 'c', 'a', 'd']\n",
            "['b', 'c', 'd', 'a']\n",
            "['b', 'd', 'a', 'c']\n",
            "['b', 'd', 'c', 'a']\n",
            "['c', 'a', 'b', 'd']\n",
            "['c', 'a', 'd', 'b']\n",
            "['c', 'b', 'a', 'd']\n",
            "['c', 'b', 'd', 'a']\n",
            "['c', 'd', 'a', 'b']\n",
            "['c', 'd', 'b', 'a']\n",
            "['d', 'a', 'b', 'c']\n",
            "['d', 'a', 'c', 'b']\n",
            "['d', 'b', 'a', 'c']\n",
            "['d', 'b', 'c', 'a']\n",
            "['d', 'c', 'a', 'b']\n",
            "['d', 'c', 'b', 'a']\n"
          ]
        }
      ],
      "source": [
        "do_backtrack([],['a', 'b', 'c', 'd'])"
      ]
    },
    {
      "cell_type": "code",
      "execution_count": 9,
      "metadata": {
        "colab": {
          "base_uri": "https://localhost:8080/"
        },
        "id": "ubKp2wtTryLz",
        "outputId": "8a055f71-d430-4123-9261-e1a2024e8987"
      },
      "outputs": [
        {
          "name": "stdout",
          "output_type": "stream",
          "text": [
            "[1, 2, 3, 4]\n",
            "[1, 2, 4, 3]\n",
            "[1, 3, 2, 4]\n",
            "[1, 3, 4, 2]\n",
            "[1, 4, 2, 3]\n",
            "[1, 4, 3, 2]\n",
            "[2, 1, 3, 4]\n",
            "[2, 1, 4, 3]\n",
            "[2, 3, 1, 4]\n",
            "[2, 3, 4, 1]\n",
            "[2, 4, 1, 3]\n",
            "[2, 4, 3, 1]\n",
            "[3, 1, 2, 4]\n",
            "[3, 1, 4, 2]\n",
            "[3, 2, 1, 4]\n",
            "[3, 2, 4, 1]\n",
            "[3, 4, 1, 2]\n",
            "[3, 4, 2, 1]\n",
            "[4, 1, 2, 3]\n",
            "[4, 1, 3, 2]\n",
            "[4, 2, 1, 3]\n",
            "[4, 2, 3, 1]\n",
            "[4, 3, 1, 2]\n",
            "[4, 3, 2, 1]\n"
          ]
        }
      ],
      "source": [
        "do_backtrack([],[1, 2, 3, 4])"
      ]
    },
    {
      "cell_type": "code",
      "execution_count": null,
      "metadata": {
        "id": "TRx9jN4fM5bM"
      },
      "outputs": [],
      "source": []
    }
  ],
  "metadata": {
    "colab": {
      "provenance": [],
      "toc_visible": true
    },
    "kernelspec": {
      "display_name": "Python 3",
      "name": "python3"
    },
    "language_info": {
      "codemirror_mode": {
        "name": "ipython",
        "version": 3
      },
      "file_extension": ".py",
      "mimetype": "text/x-python",
      "name": "python",
      "nbconvert_exporter": "python",
      "pygments_lexer": "ipython3",
      "version": "3.12.9"
    }
  },
  "nbformat": 4,
  "nbformat_minor": 0
}
