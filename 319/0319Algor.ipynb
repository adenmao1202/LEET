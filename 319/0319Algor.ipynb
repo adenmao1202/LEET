{
  "cells": [
    {
      "cell_type": "markdown",
      "metadata": {
        "id": "boKRfbLtXFSb"
      },
      "source": [
        "# Review: 0312 Zuvio"
      ]
    },
    {
      "cell_type": "markdown",
      "metadata": {
        "id": "R6r_R_UveHwk"
      },
      "source": [
        "# Review: Programming Exercise 03"
      ]
    },
    {
      "cell_type": "code",
      "execution_count": null,
      "metadata": {
        "id": "-DdjWAVUTQDI"
      },
      "outputs": [],
      "source": [
        "def two_sum(nums:list, target:int)->list:\n",
        "    d = {} # 建立空字典d，用來存放遇到的每個數值(key)與索引(value)\n",
        "    for idx, n in enumerate(nums):\n",
        "        diff = target - n # 計算目標值之差 diff\n",
        "        if ________ : #need fix\"判斷diff是否已在字典d中\":\n",
        "            return [______, idx] #need fix\"若在字典中表示找到兩數可相加為目標值，分別是該diff數值的索引與自身索引idx\n",
        "        d[n] = idx #將數值n為key，索引idx為value放入字典d\n",
        "    return [___,___] #need fix\"找不到\""
      ]
    },
    {
      "cell_type": "code",
      "execution_count": null,
      "metadata": {
        "id": "9qeh5zJGTujK"
      },
      "outputs": [],
      "source": [
        "print(two_sum([2,7,11,15],9)) #[0, 1]\n",
        "print(two_sum([3,4,5,2],10)) #[-1, -1]\n",
        "print(two_sum([3,4,5,8,7,9],10)) #[0, 4]\n",
        "print(two_sum([-1,4,-2,6,8,10],6)) #[2, 4]\n",
        "print(two_sum([0,3,4,5,8,9,13],5)) #[0, 3]"
      ]
    },
    {
      "cell_type": "code",
      "execution_count": null,
      "metadata": {
        "id": "JLmd6DRWm6G5"
      },
      "outputs": [],
      "source": [
        "print(two_sum([3,4,5,5,0],10))"
      ]
    },
    {
      "cell_type": "code",
      "execution_count": null,
      "metadata": {
        "id": "z7EDF0LgU1uq"
      },
      "outputs": [],
      "source": [
        "def find_nearest_repeated_word(s:list)->int:\n",
        "    d = {} # 建立空字典d，用來存放遇到的每個字(key)與索引(value)\n",
        "    min_dist = float(\"inf\") #因為要找最小的所以預設無窮大\n",
        "    for idx, w in enumerate(s):\n",
        "        # 檢查目前這個字元w是否出現過可使用d.get函式，如果出現過就拿現在索引idx減去字典中的索引得到距離後與min_dist比較取最小\n",
        "        i = d.get(w, float(\"-inf\")) #沒找到的話，預設為負無窮大，這樣給idx減會得到無窮大\n",
        "        min_dist = min(___ - ____, ______) # need fix\n",
        "        # 更新或加入字典d中以該字元w為key，idx為value\n",
        "        d[w] = idx\n",
        "    return ___ if min_dist == float(\"inf\") else ______ # need fix\"假如min_dist還是無窮大就回傳-1否則回傳min_dist\""
      ]
    },
    {
      "cell_type": "code",
      "execution_count": null,
      "metadata": {
        "id": "IoxsjVPiXSfE"
      },
      "outputs": [],
      "source": [
        "print(find_nearest_repeated_word([\"all\", \"work\", \"and\", \"no\", \"play\", \"makes\", \"for\", \"no\", \"work\", \"no\", \"fun\", \"and\", \"no\", \"results\"])) #2\n",
        "print(find_nearest_repeated_word([\"foo\", \"bar\", \"widget\", \"adnan\"])) #-1\n",
        "print(find_nearest_repeated_word([\"pretracing\", \"warlikeness\", \"dalar\", \"hwa\", \"lub\", \"duraquara\", \"phenacite\", \"feil\", \"choletherapy\", \"kaempferol\", \"nonesthetical\", \"hereagain\", \"othertimes\", \"inamovability\", \"imperceptibly\", \"imparipinnate\", \"stridulatory\", \"uncambered\", \"skiey\", \"epichoric\", \"ferter\", \"endostraca\", \"bowlder\", \"commuted\", \"fantastication\", \"phlyctaenae\", \"mese\", \"lub\", \"nomadization\", \"redwings\", \"nonclaimable\", \"epoophoron\", \"poi\"])) #23\n",
        "print(find_nearest_repeated_word([])) #-1\n",
        "print(find_nearest_repeated_word([\"foo\", \"foo\", \"foo\"])) #1"
      ]
    },
    {
      "cell_type": "markdown",
      "metadata": {
        "id": "uJqlhRyq9Aiv"
      },
      "source": [
        "## Heapsort(堆積排序法)"
      ]
    },
    {
      "cell_type": "markdown",
      "metadata": {},
      "source": [
        "- 最大堆（Max-Heap）：每個節點的值都大於或等於其子節點的值，因此根節點（頂端）擁有整個樹中的最大值。\n",
        "- 最小堆（Min-Heap）：每個節點的值都小於或等於其子節點的值，因此根節點（頂端）擁有整個樹中的最小值。\n"
      ]
    },
    {
      "cell_type": "markdown",
      "metadata": {},
      "source": [
        "- 新元素先插入到陣列的最後\n",
        "- 然後與其父節點比較（父節點索引 = ⌊(子節點索引-1)/2⌋）\n",
        "- 如果新元素小於父節點，則交換兩者\n",
        "- 重複此過程直到新元素不再小於其父節點或到達根節點\n",
        "\n",
        "\n"
      ]
    },
    {
      "cell_type": "markdown",
      "metadata": {
        "id": "mAw3ptWscnzI"
      },
      "source": [
        "#### 先一個個放入陣列後 Bubble Up，再一個個取出堆中最小值做 Bubble Down"
      ]
    },
    {
      "cell_type": "markdown",
      "metadata": {},
      "source": [
        "- bubble up : insert \n",
        "- bubble down : delete "
      ]
    },
    {
      "cell_type": "code",
      "execution_count": 9,
      "metadata": {
        "id": "KhUNB1l6IFBm"
      },
      "outputs": [],
      "source": [
        "def pq_insert(q:list, x:int):\n",
        "  q.append(x)  # tail insert \n",
        "  bubble_up(q, len(q)-1)  # maintain min heap \n",
        "\n",
        "def bubble_up(q:list, p:int): # q : list , p : parent index ( root index = 0)\n",
        "  if p <= 0:   # 到達根節點\n",
        "    return\n",
        "  else:\n",
        "    parent = (p-1)//2   # 計算父節點索引\n",
        "    if (q[parent] > q[p]):  # 如果父節點大於子節點\n",
        "      q[parent], q[p] = q[p], q[parent]  # 交換 \n",
        "      bubble_up(q,parent)  # 遞迴向上調整\n",
        "\n",
        "def bubble_down(q:list, p:int):  \n",
        "  c = p * 2 + 1 # child index, 與 parents node 算法相對\n",
        "  min_index = p # assume current p index is the lightest child\n",
        "  for i in range(c,c+2):  # 檢查左右兩個子節點：c, c+1 \n",
        "    if i < len(q): # make sure child exist \n",
        "      if q[min_index] > q[i]:\n",
        "        min_index = i  # update min_index to i \n",
        "  if min_index != p:   # 如果最小子節點不是父節點\n",
        "    q[min_index], q[p] = q[p], q[min_index]  # exchange \n",
        "    bubble_down(q, min_index) # recursive call \n",
        "\n",
        "def heapsort(nums:list):  # 先 bubble up 再 bubble down\n",
        "  heap = []\n",
        "  for i in nums: # 逐個插入堆中\n",
        "    pq_insert(heap,i)\n",
        "    print(heap)\n",
        "\n",
        "  print(\"bubble down\")\n",
        "  while len(heap) > 1:\n",
        "    print(heap[0], end=' ')  # heap[0]: 堆頂(min)\n",
        "    heap[0]=heap.pop()  # 將最後一個元素移到堆頂\n",
        "    bubble_down(heap, 0)  # 維護最小堆\n",
        "    print(heap)\n",
        "  else:  # 只剩一個元素，直接打印，呼應 while \n",
        "    print(heap[0])"
      ]
    },
    {
      "cell_type": "code",
      "execution_count": 10,
      "metadata": {
        "id": "HbneIrOPIoNV"
      },
      "outputs": [
        {
          "name": "stdout",
          "output_type": "stream",
          "text": [
            "[4]\n",
            "[2, 4]\n",
            "[2, 4, 8]\n",
            "[1, 2, 8, 4]\n",
            "[1, 2, 8, 4, 5]\n",
            "bubble down\n",
            "1 [2, 4, 8, 5]\n",
            "2 [4, 5, 8]\n",
            "4 [5, 8]\n",
            "5 [8]\n",
            "8\n"
          ]
        }
      ],
      "source": [
        "heapsort([4, 2, 8, 1, 5])"
      ]
    },
    {
      "cell_type": "markdown",
      "metadata": {
        "id": "3QMNN2lrckKz"
      },
      "source": [
        "## 只用 Bubble Down : heapify method "
      ]
    },
    {
      "cell_type": "code",
      "execution_count": 11,
      "metadata": {
        "id": "C_A2wAqDcUo-"
      },
      "outputs": [],
      "source": [
        "def bubble_down(q:list, p:int):  # same as before \n",
        "  c = p * 2 + 1 #child index\n",
        "  min_index = p #index of lightest child\n",
        "  for i in range(c,c+2):\n",
        "    if i < len(q):\n",
        "      if q[min_index] > q[i]:\n",
        "        min_index = i\n",
        "  if min_index != p:\n",
        "    q[min_index], q[p] = q[p], q[min_index]\n",
        "    bubble_down(q, min_index)\n",
        "\n",
        "def heapsort(nums:list):\n",
        "  #heap = []\n",
        "  #for i in nums:\n",
        "  #  pq_insert(heap,i)\n",
        "  #  print(heap)\n",
        "  heap = nums\n",
        "  for i in range(len(heap)//2-1,-1,-1):  \n",
        "    # 在一個完全二叉堆中，葉節點從索引 len(heap)//2 開始\n",
        "    # 從最後一個\"非葉節點\"開始, 逐個進行 Bubble Down\n",
        "    print(f'node:{heap[i]}')\n",
        "    print(f'child: {heap[i*2 + 1]}')\n",
        "    print(f'after bubble_down: {bubble_down(heap,i)}')\n",
        "    print(heap)\n",
        "\n",
        "  while len(heap) > 1:\n",
        "    print(heap[0], end=' ')  # heap[0]: 堆頂(min)\n",
        "    heap[0]=heap.pop()  # 移除堆頂元素\n",
        "    bubble_down(heap, 0)  # 維護最小堆\n",
        "    print(heap)  # left heap \n",
        "  else:\n",
        "    print(heap[0])"
      ]
    },
    {
      "cell_type": "code",
      "execution_count": 12,
      "metadata": {
        "id": "CFvntI3vc9EG"
      },
      "outputs": [
        {
          "name": "stdout",
          "output_type": "stream",
          "text": [
            "node:7\n",
            "child: 6\n",
            "after bubble_down: None\n",
            "[3, 0, 1, 8, 6, 2, 5, 4, 9, 7]\n",
            "node:8\n",
            "child: 4\n",
            "after bubble_down: None\n",
            "[3, 0, 1, 4, 6, 2, 5, 8, 9, 7]\n",
            "node:1\n",
            "child: 2\n",
            "after bubble_down: None\n",
            "[3, 0, 1, 4, 6, 2, 5, 8, 9, 7]\n",
            "node:0\n",
            "child: 4\n",
            "after bubble_down: None\n",
            "[3, 0, 1, 4, 6, 2, 5, 8, 9, 7]\n",
            "node:3\n",
            "child: 0\n",
            "after bubble_down: None\n",
            "[0, 3, 1, 4, 6, 2, 5, 8, 9, 7]\n",
            "0 [1, 3, 2, 4, 6, 7, 5, 8, 9]\n",
            "1 [2, 3, 5, 4, 6, 7, 9, 8]\n",
            "2 [3, 4, 5, 8, 6, 7, 9]\n",
            "3 [4, 6, 5, 8, 9, 7]\n",
            "4 [5, 6, 7, 8, 9]\n",
            "5 [6, 8, 7, 9]\n",
            "6 [7, 8, 9]\n",
            "7 [8, 9]\n",
            "8 [9]\n",
            "9\n"
          ]
        }
      ],
      "source": [
        "lis = [3,0,1,8,7,2,5,4,9,6]\n",
        "heapsort(lis)"
      ]
    },
    {
      "cell_type": "code",
      "execution_count": 13,
      "metadata": {
        "id": "a80u7ZViJBLZ"
      },
      "outputs": [
        {
          "data": {
            "text/plain": [
              "(4, 3, 2, 1, 0)"
            ]
          },
          "execution_count": 13,
          "metadata": {},
          "output_type": "execute_result"
        }
      ],
      "source": [
        "# check the index of non-leaf nodes\n",
        "tuple(range(len([3,0,1,8,7,2,5,4,9,6])//2-1,-1,-1))"
      ]
    },
    {
      "cell_type": "markdown",
      "metadata": {
        "id": "2hoN7AsEfAAs"
      },
      "source": [
        "## 請小龜幫忙把未排序前資料畫Tree出來看看"
      ]
    },
    {
      "cell_type": "code",
      "execution_count": null,
      "metadata": {
        "id": "2GwU_GqC-iwJ"
      },
      "outputs": [],
      "source": [
        "class BinaryTreeNode:\n",
        "    def __init__(self, data):\n",
        "        self.data = data\n",
        "        self.parent = None\n",
        "        self.left = None\n",
        "        self.right = None\n",
        "    def create(self, sequence, index): #create tree from list sequence\n",
        "        if index >= len(sequence) or sequence[index] == None:   # 作為遞迴呼叫的出口條件\n",
        "            return None\n",
        "        else:\n",
        "            tempNode = BinaryTreeNode(sequence[index])\n",
        "            # 建立左子樹\n",
        "            tempNode.left = self.create(sequence, 2*index+1)\n",
        "            # 建立右子樹\n",
        "            tempNode.right = self.create(sequence, 2*index+2)\n",
        "            tempNode.parent = self\n",
        "            return tempNode"
      ]
    },
    {
      "cell_type": "code",
      "execution_count": null,
      "metadata": {
        "id": "CoKJ7MeqIWmA"
      },
      "outputs": [],
      "source": [
        "from ColabTurtlePlus.Turtle import *\n",
        "import math\n",
        "\n",
        "def draw_node(x,y,text):\n",
        "    up()\n",
        "    #goto(x-8,y-15)\n",
        "    goto(x-len(str(text))*7,y-7)\n",
        "    down()\n",
        "    write(text, font=(\"Arial\", 20, \"bold\"))\n",
        "    up()\n",
        "    goto(x,y-20)\n",
        "    down()\n",
        "    seth(0)\n",
        "    circle(20)\n",
        "    up()\n",
        "    goto(x,y)\n",
        "    down()\n",
        "\n",
        "def draw_edge2(x, y, left, level):\n",
        "    up()\n",
        "    #goto(x,y-20)\n",
        "    #seth(0)\n",
        "    if left:\n",
        "        #circle(20,-45)\n",
        "        goto(x+math.cos(math.radians(225))*20,y+math.cos(math.radians(225))*20)\n",
        "        seth(225)\n",
        "    else:\n",
        "        #circle(20,45)\n",
        "        goto(x+math.cos(math.radians(-45))*20,y-math.cos(math.radians(-45))*20)\n",
        "        seth(-45)\n",
        "    down()\n",
        "    fd(round(128/2**(level if level < 3 else 2)*1.4)-25)\n",
        "    seth(0)\n",
        "\n",
        "def draw_tree2(root, x, y, level=0):\n",
        "    draw_node(x, y, root.data)\n",
        "    if root.left:\n",
        "        draw_edge2(x, y, True, level)\n",
        "        draw_tree2(root.left, x-int(128/2**(level if level < 3 else 2))*1-10,y-int(128/2**(level if level < 3 else 2))*1-10,level+1)\n",
        "    if root.right:\n",
        "        draw_edge2(x, y, False, level)\n",
        "        draw_tree2(root.right, x+int(128/2**(level if level < 3 else 2))*1+10,y-int(128/2**(level if level < 3 else 2))*1-10,level+1)"
      ]
    },
    {
      "cell_type": "code",
      "execution_count": null,
      "metadata": {
        "id": "L8GBJndqRNN6"
      },
      "outputs": [],
      "source": [
        "clearscreen()\n",
        "setup(600,600)\n",
        "shape('turtle')\n",
        "\n",
        "sequence = [3,0,1,8,7,2,5,4,9,6]\n",
        "root=BinaryTreeNode(None).create(sequence,0)\n",
        "x,y = 0,240\n",
        "draw_tree2(root, x, y)\n",
        "hideturtle()\n",
        "done()"
      ]
    },
    {
      "cell_type": "markdown",
      "metadata": {
        "id": "jHfvFyYolo8B"
      },
      "source": [
        "## 使用 heapq 套件 : for faster implementation "
      ]
    },
    {
      "cell_type": "code",
      "execution_count": 14,
      "metadata": {
        "id": "yV_Yb4uWeq5t"
      },
      "outputs": [
        {
          "name": "stdout",
          "output_type": "stream",
          "text": [
            "[1, 2, 4, 3]\n",
            "Smallest element: 1\n",
            "Heapified list: [5, 7, 6, 10, 12, 20, 15]\n",
            "Two largest number: [20, 15]\n",
            "Two smallest number: [5, 6]\n"
          ]
        }
      ],
      "source": [
        "import heapq\n",
        "\n",
        "heap = [] # Create an empty heap\n",
        "\n",
        "# Push elements onto the heap\n",
        "heapq.heappush(heap, 3)\n",
        "heapq.heappush(heap, 1)\n",
        "heapq.heappush(heap, 4)\n",
        "heapq.heappush(heap, 2)\n",
        "\n",
        "\n",
        "print(heap) # --> this will print in min heap order\n",
        "\n",
        "\n",
        "# Pop the smallest element\n",
        "smallest = heapq.heappop(heap)  # since its sorted \n",
        "print(f\"Smallest element: {smallest}\")\n",
        "\n",
        "# Heapify an existing list\n",
        "data = [10, 5, 15, 7, 12, 20, 6]\n",
        "heapq.heapify(data)\n",
        "print(f\"Heapified list: {data}\")\n",
        "\n",
        "# Get number of largest element\n",
        "largest = heapq.nlargest(2, data)\n",
        "print(f\"Two largest number: {largest}\")\n",
        "\n",
        "# Get number of smallest element\n",
        "smallest = heapq.nsmallest(2, data)\n",
        "print(f\"Two smallest number: {smallest}\")"
      ]
    },
    {
      "cell_type": "markdown",
      "metadata": {
        "id": "8rLPsN4TmJDh"
      },
      "source": [
        "## Merging Sorted Iterables with heapq.merge\n",
        "- Note : the input list should be sorted in advanced , otherwise it will be incorrect "
      ]
    },
    {
      "cell_type": "code",
      "execution_count": 39,
      "metadata": {
        "id": "lPpgAlLemDUc"
      },
      "outputs": [
        {
          "name": "stdout",
          "output_type": "stream",
          "text": [
            "Merged list: [0, 1, 2, 3, 4, 5, 6, 7, 8, 9, 10]\n"
          ]
        }
      ],
      "source": [
        "# sorted heap \n",
        "import heapq\n",
        "\n",
        "list1 = [2, 4, 6, 8]\n",
        "list2 = [1, 3, 5, 7]\n",
        "list3 = [0, 9, 10]\n",
        "\n",
        "merged_list = list(heapq.merge(list1, list2, list3))\n",
        "print(f\"Merged list: {merged_list}\")"
      ]
    },
    {
      "cell_type": "code",
      "execution_count": 40,
      "metadata": {
        "id": "yQeHxJQsmX3N"
      },
      "outputs": [
        {
          "name": "stdout",
          "output_type": "stream",
          "text": [
            "Merged list: [0, 1, 2, 4, 6, 8, 9, 10, 13, 5, 7]\n"
          ]
        }
      ],
      "source": [
        "# How about unsorted iterable? --> doesn't work \n",
        "list1 = [2, 4, 6, 8]\n",
        "list2 = [1, 13, 5, 7]\n",
        "list3 = [0, 9, 10]\n",
        "\n",
        "merged_list = list(heapq.merge(list1, list2, list3))\n",
        "print(f\"Merged list: {merged_list}\")"
      ]
    },
    {
      "cell_type": "markdown",
      "metadata": {},
      "source": [
        "sort "
      ]
    },
    {
      "cell_type": "code",
      "execution_count": 16,
      "metadata": {
        "id": "iG5V_vbJmaar"
      },
      "outputs": [
        {
          "name": "stdout",
          "output_type": "stream",
          "text": [
            "[1, 2, 3, 4, 5, 6, 7, 8, 9]\n"
          ]
        }
      ],
      "source": [
        "lis = [1, 3, 2, 5, 7, 6, 4, 8, 9]\n",
        "lis.sort()\n",
        "print(lis)\n"
      ]
    },
    {
      "cell_type": "code",
      "execution_count": 19,
      "metadata": {},
      "outputs": [
        {
          "name": "stdout",
          "output_type": "stream",
          "text": [
            "[1, 2, 3, 4, 5, 6, 7, 8, 9]\n",
            "[1, 3, 2, 5, 7, 6, 4, 8, 9]\n"
          ]
        }
      ],
      "source": [
        "lis = [1, 3, 2, 5, 7, 6, 4, 8, 9]\n",
        "print(sorted(lis))\n",
        "print(lis)   # this will not change the original list "
      ]
    },
    {
      "cell_type": "markdown",
      "metadata": {},
      "source": [
        "mergesort implementation : "
      ]
    },
    {
      "cell_type": "code",
      "execution_count": 43,
      "metadata": {},
      "outputs": [],
      "source": [
        "def merge_sort(s:list, low:int, high:int):\n",
        "    if low < high:\n",
        "        mid = (low + high) // 2\n",
        "        merge_sort(s, low, mid)\n",
        "        merge_sort(s, mid + 1, high)\n",
        "        merge(s, low, mid, high)   # merge is written below \n",
        "\n",
        "def merge(s:list, low:int, mid:int, high:int):  # mid : the end index of the left part \n",
        "    # 創建臨時陣列\n",
        "    temp = [0] * (high - low + 1)\n",
        "    i, j, k = low, mid + 1, 0\n",
        "    \n",
        "    # 合併兩個已排序的部分\n",
        "    while i <= mid and j <= high:\n",
        "        if s[i] <= s[j]:\n",
        "            temp[k] = s[i]\n",
        "            i += 1\n",
        "        else:\n",
        "            temp[k] = s[j]\n",
        "            j += 1\n",
        "        k += 1\n",
        "    \n",
        "    # 處理剩餘元素\n",
        "    while i <= mid:\n",
        "        temp[k] = s[i]\n",
        "        i += 1\n",
        "        k += 1\n",
        "    \n",
        "    while j <= high:\n",
        "        temp[k] = s[j]\n",
        "        j += 1\n",
        "        k += 1\n",
        "    \n",
        "    # 將結果複製回原陣列\n",
        "    for p in range(len(temp)):\n",
        "        s[low + p] = temp[p]"
      ]
    },
    {
      "cell_type": "code",
      "execution_count": 44,
      "metadata": {},
      "outputs": [
        {
          "name": "stdout",
          "output_type": "stream",
          "text": [
            "原始陣列: [38, 27, 43, 3, 9, 82, 10]\n",
            "排序後陣列: [3, 9, 10, 27, 38, 43, 82]\n"
          ]
        }
      ],
      "source": [
        "# 使用示例\n",
        "arr = [38, 27, 43, 3, 9, 82, 10]\n",
        "print(\"原始陣列:\", arr)\n",
        "\n",
        "# 調用排序函數\n",
        "merge_sort(arr, 0, len(arr) - 1)\n",
        "\n",
        "print(\"排序後陣列:\", arr)"
      ]
    },
    {
      "cell_type": "code",
      "execution_count": null,
      "metadata": {},
      "outputs": [],
      "source": []
    }
  ],
  "metadata": {
    "colab": {
      "provenance": [],
      "toc_visible": true
    },
    "kernelspec": {
      "display_name": "Python 3",
      "name": "python3"
    },
    "language_info": {
      "codemirror_mode": {
        "name": "ipython",
        "version": 3
      },
      "file_extension": ".py",
      "mimetype": "text/x-python",
      "name": "python",
      "nbconvert_exporter": "python",
      "pygments_lexer": "ipython3",
      "version": "3.12.9"
    }
  },
  "nbformat": 4,
  "nbformat_minor": 0
}
