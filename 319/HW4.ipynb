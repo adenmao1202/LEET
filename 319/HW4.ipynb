{
 "cells": [
  {
   "cell_type": "code",
   "execution_count": null,
   "metadata": {},
   "outputs": [],
   "source": [
    "\"\"\" \n",
    "Suppose you are given two sorted lists of integers. \n",
    "If one array has enough empty entries at its end, \n",
    "it can be used to store the combined entries of the two lists in sorted order. \n",
    "For example, consider [5,13,17, None, None, None, None] and [3,7,11,19], \n",
    "where \"None\" denotes an empty entry. \n",
    "\n",
    "Then the combined sorted entries can be stored in \n",
    "the first list as [3,5,7,11,13,17,19].\n",
    "\n",
    "Write a method in python as following :\n",
    "\n",
    "def merge_two_sorted_arrays(nums1:list, m:int, nums2:list, n:int):\n",
    "to takes as input two sorted lists of int nums1 & nums2, \n",
    "m is number of elements in nums1, n is number of elements in nums2, \n",
    "and updates the first(nums1) to the combined entries of the two arrays \n",
    "in ascending order. \n",
    "\n",
    "Assume the first list has enough empty entries at its end to hold the result.\n",
    "\n",
    "For example:\n",
    "\n",
    "Test\tResult\n",
    "nums1 = [5,13,17,None,None,None,None,None]\n",
    "merge_two_sorted_arrays(nums1, 3, [3,7,11,19], 4)\n",
    "print(nums1[:7])\n",
    "--> \n",
    "[3, 5, 7, 11, 13, 17, 19]\n",
    "\n",
    "nums1 = [-1,None,None,None,None,None,None]\n",
    "merge_two_sorted_arrays(nums1, 1, [-3,-1,0,3], 4)\n",
    "print(nums1[:5])\n",
    "--> \n",
    "[-3, -1, -1, 0, 3]\n",
    "\n",
    "\n",
    "\"\"\" "
   ]
  },
  {
   "cell_type": "code",
   "execution_count": 2,
   "metadata": {},
   "outputs": [
    {
     "name": "stdout",
     "output_type": "stream",
     "text": [
      "Merged list: [3, 5, 7, 11, 13, 17, 19]\n"
     ]
    }
   ],
   "source": [
    "import heapq \n",
    "\n",
    "nums1 = [5,13,17]\n",
    "nums2 = [3,7,11,19]\n",
    "\n",
    "\n",
    "merged_list = list(heapq.merge(nums1, nums2))\n",
    "print(f\"Merged list: {merged_list}\")"
   ]
  },
  {
   "cell_type": "code",
   "execution_count": 27,
   "metadata": {},
   "outputs": [],
   "source": [
    "import heapq  \n",
    "\n",
    "def merge_two_sorted_arrays(nums1:list, m:int, nums2:list, n:int):\n",
    "    nums1_ = nums1[:m]\n",
    "    merged_list = list(heapq.merge(nums1_, nums2))\n",
    "\n",
    "    for i in range(m + n):\n",
    "        nums1[i] = merged_list[i]\n",
    "\n"
   ]
  },
  {
   "cell_type": "code",
   "execution_count": 28,
   "metadata": {},
   "outputs": [
    {
     "data": {
      "text/plain": [
       "[3, 5, 7, 11, 13, 17, 19]"
      ]
     },
     "execution_count": 28,
     "metadata": {},
     "output_type": "execute_result"
    }
   ],
   "source": [
    "nums1 = [5,13,17,None,None,None,None,None]\n",
    "result = merge_two_sorted_arrays(nums1, 3, [3,7,11,19], 4)\n",
    "nums1[:7]\n"
   ]
  },
  {
   "cell_type": "code",
   "execution_count": 10,
   "metadata": {},
   "outputs": [
    {
     "data": {
      "text/plain": [
       "[-3, -1, -1, 0, 3]"
      ]
     },
     "execution_count": 10,
     "metadata": {},
     "output_type": "execute_result"
    }
   ],
   "source": [
    "nums1 = [-1,None,None,None,None,None,None]\n",
    "merge_two_sorted_arrays(nums1, 1, [-3,-1,0,3], 4)\n",
    "print(nums1[:5])"
   ]
  },
  {
   "cell_type": "code",
   "execution_count": null,
   "metadata": {},
   "outputs": [],
   "source": [
    "\"\"\" \n",
    "Given a sorted integer array arr, and two integers k and x, write a Python method :\n",
    "\n",
    "def find_closest_elements(arr:list, k:int, x:int):->list\n",
    "\n",
    "that returns the k closest integers to x in the array. The result should also be sorted in ascending order.\n",
    "\n",
    "Definition of Closeness:\n",
    "An integer a is considered closer to x than an integer b if one of the following conditions is met:\n",
    "\n",
    "The absolute difference between a and x is less than the absolute difference between b and x: |a - x| < |b - x|\n",
    "The absolute differences are equal, but a is smaller than b: |a - x| == |b - x| and a < b\n",
    "Hints: \n",
    "Heap Data Structure: \n",
    "A min-heap or max-heap can be useful for efficiently keeping track of the k closest elements encountered so far. \n",
    "You could store elements in the heap based on their distance from x.\n",
    "\n",
    "For example:\n",
    "\n",
    "Test\tResult\n",
    "print(find_closest_elements([1,2,3,4,5], 2, 3))\n",
    "[2, 3]\n",
    "print(find_closest_elements([1,2,3,4,5], 4, 3))\n",
    "[1, 2, 3, 4]\n",
    "\n",
    "\n",
    "\"\"\" "
   ]
  },
  {
   "cell_type": "markdown",
   "metadata": {},
   "source": [
    "ai solution "
   ]
  },
  {
   "cell_type": "code",
   "execution_count": 53,
   "metadata": {},
   "outputs": [
    {
     "name": "stdout",
     "output_type": "stream",
     "text": [
      "[2, 3]\n",
      "[1, 2, 3, 4]\n"
     ]
    }
   ],
   "source": [
    "import heapq\n",
    "\n",
    "def find_closest_elements(arr:list, k:int, x:int):\n",
    "    heap = []\n",
    "    for num in arr:\n",
    "        heapq.heappush(heap, (abs(num - x), num))  # distance : abs(num - x), the heap will be in distance order\n",
    "    result = []\n",
    "    for _ in range(k):\n",
    "        result.append(heapq.heappop(heap)[1])\n",
    "    return sorted(result)\n",
    "\n",
    "print(find_closest_elements([1,2,3,4,5], 2, 3))\n",
    "print(find_closest_elements([1,2,3,4,5], 4, 3))\n",
    "\n"
   ]
  },
  {
   "cell_type": "markdown",
   "metadata": {},
   "source": [
    "My method \n",
    "- to heapify "
   ]
  },
  {
   "cell_type": "code",
   "execution_count": 51,
   "metadata": {},
   "outputs": [
    {
     "name": "stdout",
     "output_type": "stream",
     "text": [
      "[(0, 3), (1, 4), (1, 2), (2, 1), (2, 5)]\n",
      "[1, 2, 3, 4, 5]\n"
     ]
    }
   ],
   "source": [
    "arr = [1,2,3,4,5]\n",
    "heap = []\n",
    "\n",
    "x  = 3 \n",
    "\n",
    "for num in arr:\n",
    "    heapq.heappush(heap, (abs(num-x), num))  # we need (distance, num) --> since we are returning num\n",
    "\n",
    "print(heap)\n",
    "\n",
    "\n",
    "heapq.heapify(arr)\n",
    "print(arr)\n",
    "\n"
   ]
  },
  {
   "cell_type": "code",
   "execution_count": 52,
   "metadata": {},
   "outputs": [
    {
     "name": "stdout",
     "output_type": "stream",
     "text": [
      "3\n",
      "[(1, 2), (1, 4), (2, 5), (2, 1)]\n",
      "2\n",
      "[(1, 4), (2, 1), (2, 5)]\n",
      "4\n",
      "[(2, 1), (2, 5)]\n"
     ]
    }
   ],
   "source": [
    "result = heapq.heappop(heap)[1]\n",
    "print(result)\n",
    "print(heap)\n",
    "\n",
    "result2 = heapq.heappop(heap)[1]\n",
    "print(result2)\n",
    "print(heap)\n",
    "\n",
    "result3 = heapq.heappop(heap)[1]\n",
    "print(result3)\n",
    "print(heap)\n"
   ]
  },
  {
   "cell_type": "code",
   "execution_count": null,
   "metadata": {},
   "outputs": [],
   "source": []
  },
  {
   "cell_type": "code",
   "execution_count": null,
   "metadata": {},
   "outputs": [],
   "source": []
  }
 ],
 "metadata": {
  "kernelspec": {
   "display_name": "Python 3",
   "language": "python",
   "name": "python3"
  },
  "language_info": {
   "codemirror_mode": {
    "name": "ipython",
    "version": 3
   },
   "file_extension": ".py",
   "mimetype": "text/x-python",
   "name": "python",
   "nbconvert_exporter": "python",
   "pygments_lexer": "ipython3",
   "version": "3.12.9"
  }
 },
 "nbformat": 4,
 "nbformat_minor": 2
}
