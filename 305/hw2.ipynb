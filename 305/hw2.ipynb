{
 "cells": [
  {
   "cell_type": "code",
   "execution_count": null,
   "metadata": {},
   "outputs": [],
   "source": [
    "\"\"\" \n",
    "Write a method in python as following :\n",
    "\n",
    "def is_valid_sudoku(board:list)->bool:\n",
    "Given a 2D list array board as input, \n",
    "check whether the 9x9 2D board representing a partially completed Sudoku is valid. \n",
    "Specifically, check that no row, column, or 3 x 3 2D subarray contains duplicates. \n",
    "Return True if Sudoku rules are followed, or return False.\n",
    "\n",
    "A 0-value in the 2D array indicates that entry is blank; \n",
    "every other entry is in 1,…,9\n",
    "\n",
    "Hint: magic formula for 3x3 subarray: [(i//3)*3+j//3][(i%3)*3+j%3] --> box \n",
    "\n",
    "For example:\n",
    "\n",
    "Test\tResult\n",
    "print(is_valid_sudoku(\n",
    "[[0, 0, 0, 0, 0, 0, 0, 8, 1],\n",
    " [9, 0, 0, 0, 7, 0, 3, 0, 0],\n",
    " [0, 0, 0, 9, 2, 4, 0, 6, 0],\n",
    " [0, 8, 5, 0, 0, 0, 0, 0, 0], \n",
    " [7, 4, 0, 0, 3, 0, 0, 2, 6], \n",
    " [0, 1, 0, 0, 0, 9, 7, 0, 0], \n",
    " [0, 6, 0, 0, 0, 1, 0, 0, 3], \n",
    " [3, 2, 0, 0, 8, 7, 0, 0, 0], \n",
    " [8, 0, 0, 0, 5, 6, 2, 1, 4]]))\n",
    "True\n",
    "print(is_valid_sudoku(\n",
    "[[0, 0, 0, 0, 0, 0, 0, 0, 0],\n",
    " [0, 0, 0, 0, 0, 0, 1, 0, 0], \n",
    " [0, 0, 0, 0, 7, 0, 0, 0, 0], \n",
    " [8, 0, 7, 0, 0, 0, 0, 0, 4], \n",
    " [0, 0, 3, 0, 5, 4, 0, 0, 0], \n",
    " [0, 0, 1, 0, 0, 0, 3, 4, 0], \n",
    " [0, 0, 8, 0, 0, 0, 0, 0, 0], \n",
    " [0, 0, 0, 0, 4, 2, 0, 0, 6], \n",
    " [0, 0, 0, 0, 0, 0, 0, 0, 3]]))\n",
    "False\n",
    "\n",
    "\"\"\""
   ]
  },
  {
   "cell_type": "code",
   "execution_count": 1,
   "metadata": {},
   "outputs": [],
   "source": [
    "def is_valid_sudoku(board: list) -> bool:\n",
    "    for i in range(9): \n",
    "        row_set = set()\n",
    "        col_set = set()\n",
    "        \n",
    "        for j in range(9):\n",
    "            # col \n",
    "            if board[j][i] != 0 and board[j][i] in col_set:\n",
    "                return False \n",
    "            col_set.add(board[j][i])\n",
    "            \n",
    "            # row \n",
    "            if board[i][j] != 0 and board[i][j] in row_set: \n",
    "                return False \n",
    "            row_set.add(board[i][j])\n",
    "            \n",
    "    # sub box \n",
    "    for box_row in range(3):  # 3 個大區塊 (行方向)\n",
    "        for box_col in range(3):  # 3 個大區塊 (列方向)\n",
    "            box_set = set()  # init 空 box set \n",
    "            for i in range(3):  # 3x3 小區塊內的 3 行\n",
    "                for j in range(3):  # 3x3 小區塊內的 3 列\n",
    "                    row = box_row * 3 + i\n",
    "                    col = box_col * 3 + j\n",
    "                    num = board[row][col]\n",
    "                    \n",
    "                    if num != 0:\n",
    "                        if num in box_set:\n",
    "                            return False\n",
    "                        box_set.add(num)\n",
    "                        \n",
    "    return True  # 若都符合數獨規則則回傳 True\n"
   ]
  },
  {
   "cell_type": "code",
   "execution_count": 2,
   "metadata": {},
   "outputs": [
    {
     "name": "stdout",
     "output_type": "stream",
     "text": [
      "False\n"
     ]
    }
   ],
   "source": [
    "\n",
    "\n",
    "print(is_valid_sudoku(\n",
    "    [[0, 0, 0, 0, 0, 0, 0, 0, 0],\n",
    "     [0, 0, 0, 0, 0, 0, 1, 0, 0], \n",
    "     [0, 0, 0, 0, 7, 0, 0, 0, 0], \n",
    "     [8, 0, 7, 0, 0, 0, 0, 0, 4], \n",
    "     [0, 0, 3, 0, 5, 4, 0, 0, 0], \n",
    "     [0, 0, 1, 0, 0, 0, 3, 4, 0], \n",
    "     [0, 0, 8, 0, 0, 0, 0, 0, 0], \n",
    "     [0, 0, 0, 0, 4, 2, 0, 0, 6], \n",
    "     [0, 0, 0, 0, 0, 0, 0, 0, 3]])) "
   ]
  },
  {
   "cell_type": "markdown",
   "metadata": {},
   "source": [
    "AI solution "
   ]
  },
  {
   "cell_type": "code",
   "execution_count": 9,
   "metadata": {},
   "outputs": [],
   "source": [
    "def is_valid_sudoku(board: list) -> bool:\n",
    "    # 使用集合來跟踪已經出現的數字\n",
    "    rows = [set() for _ in range(9)]\n",
    "    cols = [set() for _ in range(9)]\n",
    "    boxes = [set() for _ in range(9)]\n",
    "\n",
    "    for i in range(9):\n",
    "        for j in range(9):\n",
    "            num = board[i][j]\n",
    "            if num == 0:\n",
    "                continue  # 跳過空白格\n",
    "\n",
    "            # 計算 3x3 子數組的索引\n",
    "            box_index = (i // 3) * 3 + (j // 3)\n",
    "            \n",
    "            # 檢查行、列和子數組中是否已經存在該數字\n",
    "            if (num in rows[i]) or (num in cols[j]) or (num in boxes[box_index]):\n",
    "                return False\n",
    "\n",
    "            # 將數字添加到相應的集合中\n",
    "            rows[i].add(num)\n",
    "            cols[j].add(num)\n",
    "            boxes[box_index].add(num)\n",
    "            \n",
    "    return True  # 如果所有檢查都通過，返回 True"
   ]
  },
  {
   "cell_type": "code",
   "execution_count": 10,
   "metadata": {},
   "outputs": [
    {
     "name": "stdout",
     "output_type": "stream",
     "text": [
      "2\n",
      "1\n",
      "3\n",
      "3\n",
      "5\n",
      "3\n",
      "4\n",
      "4\n",
      "3\n",
      "5\n",
      "5\n",
      "False\n"
     ]
    }
   ],
   "source": [
    "\n",
    "\n",
    "print(is_valid_sudoku(\n",
    "    [[0, 0, 0, 0, 0, 0, 0, 0, 0],\n",
    "     [0, 0, 0, 0, 0, 0, 1, 0, 0], \n",
    "     [0, 0, 0, 0, 7, 0, 0, 0, 0], \n",
    "     [8, 0, 7, 0, 0, 0, 0, 0, 4], \n",
    "     [0, 0, 3, 0, 5, 4, 0, 0, 0], \n",
    "     [0, 0, 1, 0, 0, 0, 3, 4, 0], \n",
    "     [0, 0, 8, 0, 0, 0, 0, 0, 0], \n",
    "     [0, 0, 0, 0, 4, 2, 0, 0, 6], \n",
    "     [0, 0, 0, 0, 0, 0, 0, 0, 3]]))  # False"
   ]
  },
  {
   "cell_type": "markdown",
   "metadata": {},
   "source": [
    "test"
   ]
  },
  {
   "cell_type": "code",
   "execution_count": 8,
   "metadata": {},
   "outputs": [
    {
     "data": {
      "text/plain": [
       "[set(), set(), set(), set(), set(), set(), set(), set(), set()]"
      ]
     },
     "execution_count": 8,
     "metadata": {},
     "output_type": "execute_result"
    }
   ],
   "source": [
    "rows = [set() for _ in range(9)]\n",
    "cols = [set() for _ in range(9)]\n",
    "boxes = [set() for _ in range(9)]\n",
    "rows"
   ]
  },
  {
   "cell_type": "code",
   "execution_count": 13,
   "metadata": {},
   "outputs": [
    {
     "data": {
      "text/plain": [
       "1"
      ]
     },
     "execution_count": 13,
     "metadata": {},
     "output_type": "execute_result"
    }
   ],
   "source": [
    "i, j = 2, 3\n",
    "box_index = (i // 3) * 3 + (j // 3)\n",
    "box_index"
   ]
  },
  {
   "cell_type": "code",
   "execution_count": 1,
   "metadata": {},
   "outputs": [
    {
     "data": {
      "text/plain": [
       "\" \\nWrite a method in python as following :\\n\\ndef has_cycle(head:ListNode)->int:\\nTo take the head node of a singly linked list as input and returns None if there does not exist a cycle, and the node's data at the start of the cycle, if a cycle is present, (You do not know the length of the list in advance.)\\n\\nFor example:\\n\\nInput: 1->2->3->4->5->None\\nOutput: None\\nInput: 1->2->3->4->5->6->7->8\\n                ^___________|\\nOutput: 4\\nHint: Floyd’s Cycle Detection Algorithm a.k.a. Tortoise and Hare Algorithm\\n\\nThe ListNode Class and other supporting methods are included and declared as:\\n\\nclass ListNode:\\n    def __init__(self, data:int):\\n        self.data = data\\n        self.next = None\\n    def __iter__(self):\\n        current = self\\n        while current is not None:\\n            yield current # suspend and output current ListNode object\\n            current = current.next\\ndef init_list(seq:list)->ListNode:\\n    head = None\\n    for seq_idx,i in enumerate(seq):\\n        if head is None:\\n            head = ListNode(i)\\n            tail = head\\n        elif type(i) is int and i < 0:\\n            for idx,n in enumerate(head):\\n                if idx == seq_idx+i:\\n                    tail.next = n\\n                    break\\n        else:\\n            tail.next = ListNode(i)\\n            tail = tail.next\\n    return head\\nFor example:\\n\\nTest\\tResult\\nprint(has_cycle(init_list([1,2,3,4,5])))\\nNone\\nprint(has_cycle(init_list([1,2,3,4,5,6,7,8,-5])))\\n4\\n\\n\\n\""
      ]
     },
     "execution_count": 1,
     "metadata": {},
     "output_type": "execute_result"
    }
   ],
   "source": [
    "\"\"\" \n",
    "Write a method in python as following :\n",
    "\n",
    "def has_cycle(head:ListNode)->int:\n",
    "To take the head node of a singly linked list as input and returns None if there does not exist a cycle, and the node's data at the start of the cycle, if a cycle is present, (You do not know the length of the list in advance.)\n",
    "\n",
    "For example:\n",
    "\n",
    "Input: 1->2->3->4->5->None\n",
    "Output: None\n",
    "\n",
    "Input: 1->2->3->4->5->6->7->8\n",
    "                ^___________|\n",
    "Output: 4\n",
    "Hint: Floyd’s Cycle Detection Algorithm a.k.a. Tortoise and Hare Algorithm\n",
    "\n",
    "The ListNode Class and other supporting methods are included and declared as:\n",
    "\n",
    "class ListNode:\n",
    "    def __init__(self, data:int):\n",
    "        self.data = data\n",
    "        self.next = None\n",
    "    def __iter__(self):\n",
    "        current = self\n",
    "        while current is not None:\n",
    "            yield current # suspend and output current ListNode object\n",
    "            current = current.next\n",
    "def init_list(seq:list)->ListNode:\n",
    "    head = None\n",
    "    for seq_idx,i in enumerate(seq):\n",
    "        if head is None:\n",
    "            head = ListNode(i)\n",
    "            tail = head\n",
    "        elif type(i) is int and i < 0:\n",
    "            for idx,n in enumerate(head):\n",
    "                if idx == seq_idx+i:\n",
    "                    tail.next = n\n",
    "                    break\n",
    "        else:\n",
    "            tail.next = ListNode(i)\n",
    "            tail = tail.next\n",
    "    return head\n",
    "\n",
    "\n",
    "For example:\n",
    "\n",
    "Test\tResult\n",
    "print(has_cycle(init_list([1,2,3,4,5])))\n",
    "None\n",
    "print(has_cycle(init_list([1,2,3,4,5,6,7,8,-5])))\n",
    "4\n",
    "\n",
    "\n",
    "\"\"\""
   ]
  },
  {
   "cell_type": "code",
   "execution_count": 3,
   "metadata": {},
   "outputs": [],
   "source": [
    "# given init code \n",
    "\n",
    "class ListNode:\n",
    "    def __init__(self, data:int):\n",
    "        self.data = data\n",
    "        self.next = None\n",
    "    def __iter__(self):\n",
    "        current = self\n",
    "        while current is not None:\n",
    "            yield current # suspend and output current ListNode object\n",
    "            current = current.next\n",
    "            \n",
    "def init_list(seq:list)->ListNode:\n",
    "    head = None\n",
    "    for seq_idx,i in enumerate(seq):\n",
    "        if head is None:\n",
    "            head = ListNode(i)\n",
    "            tail = head\n",
    "        elif type(i) is int and i < 0:\n",
    "            for idx,n in enumerate(head):\n",
    "                if idx == seq_idx+i:\n",
    "                    tail.next = n\n",
    "                    break\n",
    "        else:\n",
    "            tail.next = ListNode(i)\n",
    "            tail = tail.next\n",
    "    return head\n",
    "\n",
    "\n",
    "# -----------------start here ----------------------\n",
    "\n",
    "def has_cycle(head: ListNode) -> int:  \n",
    "    # two pointers \n",
    "    slow = head\n",
    "    fast = head\n",
    "\n",
    "    while fast and fast.next:  # while fast and fast.next pointers are not None, if None --> return None \n",
    "        slow = slow.next          # one step \n",
    "        fast = fast.next.next     # two step \n",
    "\n",
    "        if slow == fast:         # if two pointers collide \n",
    "            # we follow slow since its moving one step a time \n",
    "            slow = head   # 將 slow pointer 重置為 start  \n",
    "            while slow != fast:\n",
    "                slow = slow.next\n",
    "                fast = fast.next\n",
    "            return slow.data       # return where it start \n",
    "\n",
    "    return None                   # if fast pointer and the next pointer of fast pointer is None, return None \n",
    "    "
   ]
  },
  {
   "cell_type": "markdown",
   "metadata": {},
   "source": [
    "e.g."
   ]
  },
  {
   "cell_type": "code",
   "execution_count": 4,
   "metadata": {},
   "outputs": [
    {
     "name": "stdout",
     "output_type": "stream",
     "text": [
      "4\n"
     ]
    }
   ],
   "source": [
    "lis = init_list([1,2,3,4,5,6,7,8,-5])\n",
    "print(has_cycle(lis))"
   ]
  },
  {
   "cell_type": "code",
   "execution_count": 5,
   "metadata": {},
   "outputs": [
    {
     "name": "stdout",
     "output_type": "stream",
     "text": [
      "None\n"
     ]
    }
   ],
   "source": [
    "print(has_cycle(init_list([1, 2, 3, 4, 5])))  # 輸出: None\n"
   ]
  },
  {
   "cell_type": "markdown",
   "metadata": {},
   "source": [
    "other method "
   ]
  },
  {
   "cell_type": "markdown",
   "metadata": {},
   "source": [
    "hashmap "
   ]
  },
  {
   "cell_type": "code",
   "execution_count": 8,
   "metadata": {},
   "outputs": [],
   "source": [
    "class ListNode:\n",
    "    def __init__(self, data:int):\n",
    "        self.data = data\n",
    "        self.next = None\n",
    "    def __iter__(self):\n",
    "        current = self\n",
    "        while current is not None:\n",
    "            yield current # suspend and output current ListNode object\n",
    "            current = current.next\n",
    "            \n",
    "def init_list(seq:list)->ListNode:\n",
    "    head = None\n",
    "    for seq_idx,i in enumerate(seq):\n",
    "        if head is None:\n",
    "            head = ListNode(i)\n",
    "            tail = head\n",
    "        elif type(i) is int and i < 0:\n",
    "            for idx,n in enumerate(head):\n",
    "                if idx == seq_idx+i:\n",
    "                    tail.next = n\n",
    "                    break\n",
    "        else:\n",
    "            tail.next = ListNode(i)\n",
    "            tail = tail.next\n",
    "    return head\n",
    "\n",
    "\n",
    "# -------------start--------------------\n",
    "def has_cycle(head: ListNode) -> int:\n",
    "    visited = set()  # 用於存儲已訪問的節點\n",
    "\n",
    "    current = head\n",
    "    while current:\n",
    "        if current in visited:  # 如果當前節點已經訪問過，則存在循環\n",
    "            return current.data\n",
    "        visited.add(current)  # 將當前節點添加到已訪問的集合\n",
    "        current = current.next  # 移動到下一個節點\n",
    "\n",
    "    return None  # 如果沒有循環，返回 None"
   ]
  },
  {
   "cell_type": "code",
   "execution_count": 9,
   "metadata": {},
   "outputs": [
    {
     "name": "stdout",
     "output_type": "stream",
     "text": [
      "4\n"
     ]
    }
   ],
   "source": [
    "lis = init_list([1,2,3,4,5,6,7,8,-5])\n",
    "print(has_cycle(lis))\n"
   ]
  },
  {
   "cell_type": "code",
   "execution_count": null,
   "metadata": {},
   "outputs": [],
   "source": []
  }
 ],
 "metadata": {
  "kernelspec": {
   "display_name": "Python 3",
   "language": "python",
   "name": "python3"
  },
  "language_info": {
   "codemirror_mode": {
    "name": "ipython",
    "version": 3
   },
   "file_extension": ".py",
   "mimetype": "text/x-python",
   "name": "python",
   "nbconvert_exporter": "python",
   "pygments_lexer": "ipython3",
   "version": "3.12.6"
  }
 },
 "nbformat": 4,
 "nbformat_minor": 2
}
