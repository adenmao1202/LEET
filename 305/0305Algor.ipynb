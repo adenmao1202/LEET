{
  "cells": [
    {
      "cell_type": "markdown",
      "metadata": {
        "id": "boKRfbLtXFSb"
      },
      "source": [
        "# Review: 0226 Zuvio"
      ]
    },
    {
      "cell_type": "code",
      "execution_count": null,
      "metadata": {
        "colab": {
          "base_uri": "https://localhost:8080/"
        },
        "id": "YO_vuKccXJBA",
        "outputId": "4ff9410f-c747-414b-9ad4-f4d1e940fbe4"
      },
      "outputs": [],
      "source": [
        "n = 10\n",
        "x = 0\n",
        "for i in range(1, n+1):\n",
        "    k = i + 1\n",
        "    while k <= n:\n",
        "        x = x + 1\n",
        "        k += 1\n",
        "print(x)"
      ]
    },
    {
      "cell_type": "code",
      "execution_count": null,
      "metadata": {
        "id": "RWenn-fuXvPl"
      },
      "outputs": [],
      "source": [
        "n = 10\n",
        "x = 0\n",
        "for i in range(n):\n",
        "    for k in range(i+1,n):\n",
        "        x = x + 1\n",
        "print(x)"
      ]
    },
    {
      "cell_type": "code",
      "execution_count": null,
      "metadata": {
        "id": "ucz1Y0POYBHi"
      },
      "outputs": [],
      "source": [
        "def test2(n):\n",
        "    x = 0\n",
        "    for i in range(n):\n",
        "        for j in range(n):\n",
        "            x = x + 1\n",
        "    return x"
      ]
    },
    {
      "cell_type": "code",
      "execution_count": null,
      "metadata": {
        "colab": {
          "base_uri": "https://localhost:8080/"
        },
        "id": "KsCZGB-gY4h2",
        "outputId": "e41ee5e1-5aac-4b9f-f8b8-9e1594d72adc"
      },
      "outputs": [],
      "source": [
        "test2(3)"
      ]
    },
    {
      "cell_type": "code",
      "execution_count": null,
      "metadata": {
        "colab": {
          "base_uri": "https://localhost:8080/"
        },
        "id": "WLUBXEX4Y7Qs",
        "outputId": "dd0f214d-7a48-4a82-db78-0389c00bf488"
      },
      "outputs": [],
      "source": [
        "test2(10)"
      ]
    },
    {
      "cell_type": "code",
      "execution_count": null,
      "metadata": {
        "colab": {
          "base_uri": "https://localhost:8080/",
          "height": 449
        },
        "id": "1omGvRwQY8f2",
        "outputId": "3afe5f30-ab72-48fa-ad32-00f6ada0f414"
      },
      "outputs": [],
      "source": [
        "import matplotlib.pyplot as plt\n",
        "data = [test2(n) for n in range(10)]\n",
        "plt.plot(data, \"o-b\")\n",
        "plt.xlabel(\"Data size(n)\")\n",
        "plt.ylabel(\"Steps\")\n",
        "plt.show()"
      ]
    },
    {
      "cell_type": "code",
      "execution_count": null,
      "metadata": {
        "id": "fmcuMHByas9w"
      },
      "outputs": [],
      "source": [
        "import matplotlib.pyplot as plt\n",
        "data = [test2(n) for n in range(10)]\n",
        "data_n = [n for n in range(10)]\n",
        "data_nn = [n*n for n in range(10)]\n",
        "data_nnn = [n*n*n for n in range(10)]\n",
        "data_2n = [n+n for n in range(10)]\n",
        "plt.plot(data, \"o-b\", data_n, \"o--g\", data_nn, \"o--r\", data_nnn, \"o--k\", data_2n, \"o--y\")\n",
        "plt.xlabel(\"Data size(n)\")\n",
        "plt.ylabel(\"Steps\")\n",
        "plt.show()"
      ]
    },
    {
      "cell_type": "code",
      "execution_count": null,
      "metadata": {
        "colab": {
          "base_uri": "https://localhost:8080/",
          "height": 430
        },
        "id": "6peQtmR1cWkx",
        "outputId": "5199966f-18e1-4f87-d431-c3fa7476649b"
      },
      "outputs": [],
      "source": [
        "import matplotlib.pyplot as plt\n",
        "f = [n**2+3*n+4 for n in range(10)]\n",
        "g = [6*n+7 for n in range(10)]\n",
        "plt.plot(f, \"o-b\", g, \"o--r\")\n",
        "plt.show()"
      ]
    },
    {
      "cell_type": "code",
      "execution_count": null,
      "metadata": {
        "colab": {
          "base_uri": "https://localhost:8080/",
          "height": 430
        },
        "id": "rkX47rhKc0lI",
        "outputId": "4f112269-7394-4e9b-ffb6-6e03cf1a4ef0"
      },
      "outputs": [],
      "source": [
        "import matplotlib.pyplot as plt\n",
        "f = [n*n**0.5 for n in range(10)]\n",
        "g = [n**2 - n for n in range(10)]\n",
        "plt.plot(f, \"o-b\", g, \"o--r\")\n",
        "plt.show()"
      ]
    },
    {
      "cell_type": "code",
      "execution_count": null,
      "metadata": {
        "colab": {
          "base_uri": "https://localhost:8080/",
          "height": 430
        },
        "id": "9ch5LJprdDSM",
        "outputId": "6b709301-1863-480e-8a2d-e5cd5f9ea474"
      },
      "outputs": [],
      "source": [
        "import matplotlib.pyplot as plt\n",
        "f = [2**n-n**2 for n in range(1,20)]\n",
        "g = [n**4+n**2 for n in range(1,20)]\n",
        "plt.plot(f, \"o-b\", g, \"o--r\")\n",
        "plt.show()"
      ]
    },
    {
      "cell_type": "markdown",
      "metadata": {
        "id": "R6r_R_UveHwk"
      },
      "source": [
        "# Review: Programming Exercise 01"
      ]
    },
    {
      "cell_type": "code",
      "execution_count": null,
      "metadata": {
        "id": "7oXT9Gq4fvjj"
      },
      "outputs": [],
      "source": [
        "def count_bits(n:int)->int:\n",
        "    count = 0\n",
        "    while n > 0:\n",
        "        count += n & 1 #need fix\n",
        "        n >>= 1     #need fix\n",
        "    return count"
      ]
    },
    {
      "cell_type": "code",
      "execution_count": null,
      "metadata": {
        "colab": {
          "base_uri": "https://localhost:8080/"
        },
        "id": "7HcLqCe_f6Jp",
        "outputId": "e565805c-d3e4-415d-8249-1d99a94198f7"
      },
      "outputs": [],
      "source": [
        "print(count_bits(5)) #2\n",
        "print(count_bits(15)) #4\n",
        "print(count_bits(0)) #0\n",
        "print(count_bits(1073741824)) #1\n",
        "print(count_bits(14492647)) #15"
      ]
    },
    {
      "cell_type": "code",
      "execution_count": null,
      "metadata": {
        "id": "cTYOJG11gtHr"
      },
      "outputs": [],
      "source": [
        "def remove_element(nums:list,val:int)->int:\n",
        "    for i in nums.copy() : #need fix\n",
        "        if i == val:\n",
        "            nums.remove(i)\n",
        "    return len(nums)"
      ]
    },
    {
      "cell_type": "code",
      "execution_count": null,
      "metadata": {
        "colab": {
          "base_uri": "https://localhost:8080/"
        },
        "id": "-I0-G7kTg00W",
        "outputId": "553f35ba-8837-4c49-f37a-e98d607e4054"
      },
      "outputs": [],
      "source": [
        "nums = [3,2,2,3]\n",
        "print(remove_element(nums,3),nums) #2 [2, 2]\n",
        "nums = [0,1,2,2,3,0,4,2]\n",
        "print(remove_element(nums,2),nums) #5 [0, 1, 3, 0, 4]\n",
        "nums = [3,2,2,3]\n",
        "print(remove_element(nums,1),nums) #4 [3, 2, 2, 3]\n",
        "nums = [3,3,3]\n",
        "print(remove_element(nums,3),nums) #0 []\n",
        "nums = []\n",
        "print(remove_element(nums,0),nums) #0 []"
      ]
    },
    {
      "cell_type": "code",
      "execution_count": null,
      "metadata": {
        "id": "-raFEd3bJEYD"
      },
      "outputs": [],
      "source": [
        "def get_largest_cycle(i:int, j:int)->int:\n",
        "    max_cycle = -float(\"inf\")\n",
        "    for n in range( min(i,j)  , max(i,j)+1  ):  #need fix\n",
        "        cycle = 1\n",
        "        while n > 1:\n",
        "            # 3n+1\n",
        "            n = 3*n+1 if n % 2 == 1  else n // 2  # need fix if n is odd number\n",
        "            cycle += 1\n",
        "        max_cycle = max(max_cycle, cycle)\n",
        "    return max_cycle"
      ]
    },
    {
      "cell_type": "code",
      "execution_count": null,
      "metadata": {
        "id": "GkdE5xAyhkAO"
      },
      "outputs": [],
      "source": [
        "print(get_largest_cycle(1,10)) #20\n",
        "print(get_largest_cycle(100,200)) #125\n",
        "print(get_largest_cycle(201,210)) #89\n",
        "print(get_largest_cycle(900,1000)) #174\n",
        "print(get_largest_cycle(999999,999990)) #259"
      ]
    },
    {
      "cell_type": "markdown",
      "metadata": {
        "id": "JvYge5GjhsEs"
      },
      "source": [
        "# Program Analysis"
      ]
    },
    {
      "cell_type": "markdown",
      "metadata": {
        "id": "Crlsunh_11L5"
      },
      "source": [
        "## Selection Sort"
      ]
    },
    {
      "cell_type": "markdown",
      "metadata": {},
      "source": [
        "o(n^2)\n",
        "- outer : n \n",
        "- inner : at most  n-1 \n",
        "- hence worst case : o(n^2)"
      ]
    },
    {
      "cell_type": "code",
      "execution_count": 11,
      "metadata": {
        "id": "XO4Y9AlYiUps"
      },
      "outputs": [],
      "source": [
        "def selection_sort(s):\n",
        "    min_index = 0 \n",
        "    print(f\"original : {s}\")\n",
        "    for i in range(len(s)):   # n \n",
        "        min_index = i\n",
        "        print(f\"min_index : {min_index}\")\n",
        "        for j in range(i+1,len(s)):    # n-1 \n",
        "            if s[j] < s[min_index]:\n",
        "                min_index = j\n",
        "                print(f\"found new min_index : {min_index}\")\n",
        "        if min_index != i:\n",
        "            s[min_index], s[i] = s[i], s[min_index]  # 交換\n",
        "        print(f\"Round {i+1}: {s}\")  # see round \n",
        "        print(\"--------------------------------\")\n",
        "    return s"
      ]
    },
    {
      "cell_type": "code",
      "execution_count": 12,
      "metadata": {
        "id": "u4B_CystiW-j"
      },
      "outputs": [
        {
          "name": "stdout",
          "output_type": "stream",
          "text": [
            "original : [3, 0, 1, 8, 7, 2, 5, 4, 9, 6]\n",
            "min_index : 0\n",
            "found new min_index : 1\n",
            "Round 1: [0, 3, 1, 8, 7, 2, 5, 4, 9, 6]\n",
            "--------------------------------\n",
            "min_index : 1\n",
            "found new min_index : 2\n",
            "Round 2: [0, 1, 3, 8, 7, 2, 5, 4, 9, 6]\n",
            "--------------------------------\n",
            "min_index : 2\n",
            "found new min_index : 5\n",
            "Round 3: [0, 1, 2, 8, 7, 3, 5, 4, 9, 6]\n",
            "--------------------------------\n",
            "min_index : 3\n",
            "found new min_index : 4\n",
            "found new min_index : 5\n",
            "Round 4: [0, 1, 2, 3, 7, 8, 5, 4, 9, 6]\n",
            "--------------------------------\n",
            "min_index : 4\n",
            "found new min_index : 6\n",
            "found new min_index : 7\n",
            "Round 5: [0, 1, 2, 3, 4, 8, 5, 7, 9, 6]\n",
            "--------------------------------\n",
            "min_index : 5\n",
            "found new min_index : 6\n",
            "Round 6: [0, 1, 2, 3, 4, 5, 8, 7, 9, 6]\n",
            "--------------------------------\n",
            "min_index : 6\n",
            "found new min_index : 7\n",
            "found new min_index : 9\n",
            "Round 7: [0, 1, 2, 3, 4, 5, 6, 7, 9, 8]\n",
            "--------------------------------\n",
            "min_index : 7\n",
            "Round 8: [0, 1, 2, 3, 4, 5, 6, 7, 9, 8]\n",
            "--------------------------------\n",
            "min_index : 8\n",
            "found new min_index : 9\n",
            "Round 9: [0, 1, 2, 3, 4, 5, 6, 7, 8, 9]\n",
            "--------------------------------\n",
            "min_index : 9\n",
            "Round 10: [0, 1, 2, 3, 4, 5, 6, 7, 8, 9]\n",
            "--------------------------------\n",
            "[0, 1, 2, 3, 4, 5, 6, 7, 8, 9]\n"
          ]
        }
      ],
      "source": [
        "a = [3, 0, 1, 8, 7, 2, 5, 4, 9, 6]\n",
        "print(selection_sort(a))"
      ]
    },
    {
      "cell_type": "code",
      "execution_count": 13,
      "metadata": {
        "id": "xG9kLg4qzWV3"
      },
      "outputs": [],
      "source": [
        "def selection_sort2(s): # dance version --> more direct \n",
        "    for i in range(len(s)):\n",
        "        min_index = i\n",
        "        for j in range(i+1,len(s)):\n",
        "            if s[j] < s[min_index]:\n",
        "                s[j], s[min_index] = s[min_index], s[j]\n",
        "        print(f\"Round {i+1}: {s}\")\n",
        "    return s"
      ]
    },
    {
      "cell_type": "code",
      "execution_count": 14,
      "metadata": {
        "id": "XT9l3bh8zRyn"
      },
      "outputs": [
        {
          "name": "stdout",
          "output_type": "stream",
          "text": [
            "Round 1: [0, 3, 1, 8, 7, 2, 5, 4, 9, 6]\n",
            "Round 2: [0, 1, 3, 8, 7, 2, 5, 4, 9, 6]\n",
            "Round 3: [0, 1, 2, 8, 7, 3, 5, 4, 9, 6]\n",
            "Round 4: [0, 1, 2, 3, 8, 7, 5, 4, 9, 6]\n",
            "Round 5: [0, 1, 2, 3, 4, 8, 7, 5, 9, 6]\n",
            "Round 6: [0, 1, 2, 3, 4, 5, 8, 7, 9, 6]\n",
            "Round 7: [0, 1, 2, 3, 4, 5, 6, 8, 9, 7]\n",
            "Round 8: [0, 1, 2, 3, 4, 5, 6, 7, 9, 8]\n",
            "Round 9: [0, 1, 2, 3, 4, 5, 6, 7, 8, 9]\n",
            "Round 10: [0, 1, 2, 3, 4, 5, 6, 7, 8, 9]\n",
            "[0, 1, 2, 3, 4, 5, 6, 7, 8, 9]\n"
          ]
        }
      ],
      "source": [
        "a = [3, 0, 1, 8, 7, 2, 5, 4, 9, 6]\n",
        "print(selection_sort2(a))"
      ]
    },
    {
      "cell_type": "markdown",
      "metadata": {
        "id": "PQm7ABvf2dGA"
      },
      "source": [
        "## Insertion Sort\n",
        "\n",
        "- worst case ( reversed list ) : O(n^2)"
      ]
    },
    {
      "cell_type": "code",
      "execution_count": 14,
      "metadata": {
        "id": "DEOTOtOH0p5v"
      },
      "outputs": [],
      "source": [
        "def insertion_sort(s):\n",
        "    for i in range(1,len(s)):   # from index 1 \n",
        "        j = i\n",
        "        while j > 0 and s[j] < s[j-1]:  # j > 0 確保我們不會用到負\n",
        "            s[j], s[j-1] = s[j-1], s[j]  # 交換\n",
        "            j = j-1  # 讓這個 inner round 可以繼續往前比較並持續交換\n",
        "        print(f\"Round {i}: {s}\")\n",
        "    return s"
      ]
    },
    {
      "cell_type": "code",
      "execution_count": 15,
      "metadata": {
        "id": "P0uSldLa2yR5"
      },
      "outputs": [
        {
          "name": "stdout",
          "output_type": "stream",
          "text": [
            "Round 1: [23, 29, 30, 8, 4, -14, 21, 37, 34, -9]\n",
            "Round 2: [23, 29, 30, 8, 4, -14, 21, 37, 34, -9]\n",
            "Round 3: [8, 23, 29, 30, 4, -14, 21, 37, 34, -9]\n",
            "Round 4: [4, 8, 23, 29, 30, -14, 21, 37, 34, -9]\n",
            "Round 5: [-14, 4, 8, 23, 29, 30, 21, 37, 34, -9]\n",
            "Round 6: [-14, 4, 8, 21, 23, 29, 30, 37, 34, -9]\n",
            "Round 7: [-14, 4, 8, 21, 23, 29, 30, 37, 34, -9]\n",
            "Round 8: [-14, 4, 8, 21, 23, 29, 30, 34, 37, -9]\n",
            "Round 9: [-14, -9, 4, 8, 21, 23, 29, 30, 34, 37]\n",
            "[-14, -9, 4, 8, 21, 23, 29, 30, 34, 37]\n"
          ]
        }
      ],
      "source": [
        "a = [29, 23, 30, 8, 4, -14, 21, 37, 34, -9]\n",
        "print(insertion_sort(a))"
      ]
    },
    {
      "cell_type": "markdown",
      "metadata": {
        "id": "KgiONPo97yto"
      },
      "source": [
        "## Asymptotic Dominance"
      ]
    },
    {
      "cell_type": "code",
      "execution_count": 16,
      "metadata": {
        "id": "nLLn-igC8Ahp"
      },
      "outputs": [
        {
          "data": {
            "image/png": "[encoded data removed]",
            "text/plain": [
              "<Figure size 640x480 with 1 Axes>"
            ]
          },
          "metadata": {},
          "output_type": "display_data"
        }
      ],
      "source": [
        "import math\n",
        "import matplotlib.pyplot as plt \n",
        "\n",
        "\n",
        "# data_n = [n for n in range(1,10)]\n",
        "# data_nlogn = [n*math.log(n,2) for n in range(1,10)]\n",
        "# data_nn = [n*n for n in range(1,10)]\n",
        "data_2n = [3**n for n in range(1,3)]\n",
        "data_n2 = [(2**n) + n**2  for n in range(1,3)]\n",
        "\n",
        "plt.plot(data_2n, \"o-b\", data_n2, \"o--g\")\n",
        "plt.xlabel(\"Data size(n)\")\n",
        "plt.ylabel(\"Steps\")\n",
        "plt.show()"
      ]
    },
    {
      "cell_type": "markdown",
      "metadata": {
        "id": "54vkUOli9z0f"
      },
      "source": [
        "## Binary Search"
      ]
    },
    {
      "cell_type": "code",
      "execution_count": 18,
      "metadata": {
        "id": "1btIwBUf_VVc"
      },
      "outputs": [],
      "source": [
        "\"\"\" \n",
        "n : the int you look for \n",
        "a : tot list \n",
        "s : start index \n",
        "e : end index \n",
        "\n",
        "\"\"\"\n",
        "\n",
        "def bin_search(n:int, a:list,s:int,e:int)->int:\n",
        "    if s > e:  # basically impossible --> -1 (error )\n",
        "        return -1\n",
        "    mid = (s + e) // 2  # start from the middle index to compare \n",
        "    print(f\"a[{mid}]={a[mid]}\")\n",
        "    if a[mid] == n:  # usually not the case \n",
        "        return mid\n",
        "    else:\n",
        "        return bin_search(n, a, mid+1, e) if a[mid] < n else bin_search(n, a, s, mid-1)"
      ]
    },
    {
      "cell_type": "code",
      "execution_count": 19,
      "metadata": {
        "id": "S5WvJKP8ADER"
      },
      "outputs": [
        {
          "name": "stdout",
          "output_type": "stream",
          "text": [
            "a[3]=5\n",
            "a[5]=8\n",
            "a[4]=7\n",
            "4\n"
          ]
        }
      ],
      "source": [
        "a = [0,2,3,5,7,8,9]\n",
        "print(bin_search(7, a, 0, len(a)-1))"
      ]
    },
    {
      "cell_type": "code",
      "execution_count": 20,
      "metadata": {
        "id": "hmeXnnSTAgi5"
      },
      "outputs": [
        {
          "data": {
            "text/plain": [
              "(2.807354922057604, 3)"
            ]
          },
          "execution_count": 20,
          "metadata": {},
          "output_type": "execute_result"
        }
      ],
      "source": [
        "math.log(7,2), math.ceil(math.log(7,2))"
      ]
    },
    {
      "cell_type": "code",
      "execution_count": 21,
      "metadata": {
        "id": "MRV5iNg_BhoV"
      },
      "outputs": [
        {
          "data": {
            "text/plain": [
              "(16.609640474436812, 17)"
            ]
          },
          "execution_count": 21,
          "metadata": {},
          "output_type": "execute_result"
        }
      ],
      "source": [
        "math.log(100000,2), math.ceil(math.log(100000,2))"
      ]
    },
    {
      "cell_type": "code",
      "execution_count": 22,
      "metadata": {
        "id": "UKXKgjy6r_MB"
      },
      "outputs": [
        {
          "data": {
            "text/plain": [
              "(19.416995396494418, 20)"
            ]
          },
          "execution_count": 22,
          "metadata": {},
          "output_type": "execute_result"
        }
      ],
      "source": [
        "math.log(700000,2), math.ceil(math.log(700000,2)) # ceil : upper bound\n"
      ]
    },
    {
      "cell_type": "markdown",
      "metadata": {},
      "source": [
        "## Data Structure"
      ]
    },
    {
      "cell_type": "markdown",
      "metadata": {
        "id": "uJqlhRyq9Aiv"
      },
      "source": [
        "### Linked List Structures(鏈接串列)\n",
        "- push : insert item at the top \n",
        "- pop : remove and return the top item \n",
        "- None : remember to add when ending "
      ]
    },
    {
      "cell_type": "markdown",
      "metadata": {},
      "source": [
        "Types : \n",
        "- Contiguous : 連續形 fixed size --> 移動困難  \n",
        "    - arrays \n",
        "    - matrics \n",
        "    - heaps \n",
        "    - hash \n",
        "- linked data ： non continuous --> need to set pointers to know the addess \n",
        "    - linked lists \n",
        "    - trees \n",
        "    - graph adjacent lists "
      ]
    },
    {
      "cell_type": "code",
      "execution_count": 23,
      "metadata": {
        "id": "fKCVyBN89DmF"
      },
      "outputs": [],
      "source": [
        "class ListNode:\n",
        "  def __init__(self, data):\n",
        "    self.data = data\n",
        "    self.next = None\n",
        "\n",
        "  def search(self, key):\n",
        "    L = self\n",
        "    while L and L.data != key:\n",
        "      L = L.next\n",
        "    return L #If key was not present in the linked list, L will have become None.\n",
        "  \n",
        "\n",
        "  def search_rec(self, key):  # recursive version of search \n",
        "    if self.data == key:\n",
        "      return self\n",
        "    elif self.next is None:\n",
        "      return None\n",
        "    else:\n",
        "      return self.next.search_rec(key)\n",
        "\n",
        "  def insert_after(self, new_node):  # 順序 matter \n",
        "    new_node.next = self.next  # new_node pointer 指向 原本的下一個node 的val \n",
        "    self.next = new_node # 原本的 pointer  指向 new_node 的 val \n",
        "\n",
        "\n",
        "# 這邊有bug \n",
        "  def delete_nextnode(self):  \n",
        "    if self.next is not None: \n",
        "      # save the node \n",
        "      node_to_delete = self.next # delete next node\n",
        "      self.next = self.next.next \n",
        "      node_to_delete.next = None   # delete the pointer of the node to delete \n",
        "      return True\n",
        "    else: \n",
        "      return False \n",
        "    \n",
        "  def delete_thisnode(self):   # assume this node is not tail \n",
        "    if self.next is None: \n",
        "      print ( 'cannot delete the tail node using this method' ) \n",
        "    else: \n",
        "      # save next node val\n",
        "      next_node = self.next \n",
        "      # copy next node val to current node \n",
        "      self.data = next_node.data \n",
        "      # skip next node \n",
        "      self.next = next_node.next \n",
        "      # delete next node \n",
        "      next_node.next = None \n",
        "      return True \n",
        "      \n",
        "\n",
        "  def print_list(self):\n",
        "    L = self\n",
        "    while L:\n",
        "      print(L.data, end=' ')\n",
        "      L = L.next\n",
        "    print()\n",
        "\n",
        "  def __iter__(self):  # same func as print_list ( mostly we use this one )\n",
        "    current = self\n",
        "    \n",
        "    while current is not None:\n",
        "      yield current\t# suspend and output current ListNode object\n",
        "      current = current.next\n",
        "\n",
        "  def __str__(self):  # 使linked list 可以 print \n",
        "    return \" -> \".join([L.data for L in self])"
      ]
    },
    {
      "cell_type": "code",
      "execution_count": 26,
      "metadata": {},
      "outputs": [
        {
          "name": "stdout",
          "output_type": "stream",
          "text": [
            "0\n",
            "1\n",
            "1\n",
            "2\n",
            "3\n",
            "5\n",
            "8\n",
            "13\n",
            "21\n",
            "34\n",
            "55\n",
            "89\n",
            "144\n"
          ]
        }
      ],
      "source": [
        "# practice of : while and yield \n",
        "\n",
        "def fibonacci():   # yield : python generator \n",
        "    a, b = 0, 1\n",
        "    while True:  # 無限巡還\n",
        "        yield a  # 產生當前的斐波那契數, 我們只會print 出來這個值\n",
        "        a, b = b, a + b  # 更新 a 和 b 的值\n",
        "        \n",
        "        \n",
        "fib_gen = fibonacci()\n",
        "\n",
        "# 獲取前 10 個斐波那契數\n",
        "for _ in range(13):\n",
        "    print(next(fib_gen))  # 輸出 0, 1, 1, 2, 3, 5, 8, 13, 21, 34"
      ]
    },
    {
      "cell_type": "markdown",
      "metadata": {},
      "source": [
        "### create instance"
      ]
    },
    {
      "cell_type": "markdown",
      "metadata": {},
      "source": [
        "\"\"\" \n",
        "1. 節點（Node）：\n",
        "鏈接串列的基本單位，每個節點包含兩個部分：\n",
        "數據（Data）：存儲實際的數據。\n",
        "指針（Next）：指向下一個節點的引用（或指針）。如果是最後一個節點，這個指針通常為 None。\n",
        "2. 頭節點（Head）：\n",
        "鏈接串列的第一個節點稱為頭節點（Head）。它是訪問整個鏈接串列的入口。如果頭節點為 None，則表示鏈接串列是空的。\n",
        "3. 尾節點（Tail）：\n",
        "鏈接串列的最後一個節點稱為尾節點（Tail）。尾節點的 next 指針為 None，表示鏈接串列的結束。\n",
        "\n",
        "\"\"\""
      ]
    },
    {
      "cell_type": "code",
      "execution_count": 48,
      "metadata": {
        "id": "CMQkhdP_9QsW"
      },
      "outputs": [
        {
          "name": "stdout",
          "output_type": "stream",
          "text": [
            "head : Lincoln\n",
            "tail : Lincoln\n",
            "tail : Jefferson\n",
            "tail : Clinton\n",
            "tail : Obama\n",
            "tail : Trump\n",
            "tail : Biden\n",
            "tail : Trump\n"
          ]
        }
      ],
      "source": [
        "presidents=['Lincoln', 'Jefferson', 'Clinton', 'Obama', 'Trump', 'Biden', 'Trump']\n",
        "head = None\n",
        "\n",
        "for i in presidents:\n",
        "  if head is None:\n",
        "    head = ListNode(i)\n",
        "    tail = head  # 將tail 初始化為 head node \n",
        "    print(f\"head : {head.data}\")\n",
        "    print(f\"tail : {tail.data}\")\n",
        "  else:\n",
        "    tail.next = ListNode(i)  \n",
        "    # 將現在的 next pointer 指向 new node, data : i , next (pointer) : None \n",
        "    tail = tail.next   # 將 tail 更新為 「剛添加的新節點」\n",
        "    print(f\"tail : {tail.data}\")"
      ]
    },
    {
      "cell_type": "code",
      "execution_count": 49,
      "metadata": {
        "id": "Horzv-z5AMuT"
      },
      "outputs": [
        {
          "name": "stdout",
          "output_type": "stream",
          "text": [
            "Lincoln Jefferson Clinton Obama Trump Biden Trump \n"
          ]
        }
      ],
      "source": [
        "head.print_list()"
      ]
    },
    {
      "cell_type": "code",
      "execution_count": 50,
      "metadata": {
        "id": "AYNCFiDPAK2M"
      },
      "outputs": [
        {
          "name": "stdout",
          "output_type": "stream",
          "text": [
            "Lincoln -> Jefferson -> Clinton -> Obama -> Trump -> Biden -> Trump\n"
          ]
        }
      ],
      "source": [
        "print(head)  # str 表示法 "
      ]
    },
    {
      "cell_type": "code",
      "execution_count": 52,
      "metadata": {
        "id": "yniqc_afRMVC"
      },
      "outputs": [
        {
          "data": {
            "text/plain": [
              "True"
            ]
          },
          "execution_count": 52,
          "metadata": {},
          "output_type": "execute_result"
        }
      ],
      "source": [
        "head.search('Trump').data == tail.data    #搜尋到第一個trump "
      ]
    },
    {
      "cell_type": "code",
      "execution_count": 53,
      "metadata": {
        "id": "_9btbTmFCbCr"
      },
      "outputs": [
        {
          "data": {
            "text/plain": [
              "True"
            ]
          },
          "execution_count": 53,
          "metadata": {},
          "output_type": "execute_result"
        }
      ],
      "source": [
        "head.search('Biden').delete_thisnode()"
      ]
    },
    {
      "cell_type": "code",
      "execution_count": 54,
      "metadata": {
        "id": "t3IZw01glBvD"
      },
      "outputs": [
        {
          "name": "stdout",
          "output_type": "stream",
          "text": [
            "Lincoln -> Jefferson -> Clinton -> Obama -> Trump -> Trump\n"
          ]
        }
      ],
      "source": [
        "print(head)"
      ]
    },
    {
      "cell_type": "code",
      "execution_count": 56,
      "metadata": {
        "id": "FFJTXlzWRSfw"
      },
      "outputs": [
        {
          "data": {
            "text/plain": [
              "True"
            ]
          },
          "execution_count": 56,
          "metadata": {},
          "output_type": "execute_result"
        }
      ],
      "source": [
        "head.search('Trump').data == tail.data "
      ]
    },
    {
      "cell_type": "code",
      "execution_count": 57,
      "metadata": {},
      "outputs": [
        {
          "data": {
            "text/plain": [
              "True"
            ]
          },
          "execution_count": 57,
          "metadata": {},
          "output_type": "execute_result"
        }
      ],
      "source": [
        "head.search('Trump').delete_thisnode()"
      ]
    },
    {
      "cell_type": "code",
      "execution_count": 58,
      "metadata": {},
      "outputs": [
        {
          "name": "stdout",
          "output_type": "stream",
          "text": [
            "Lincoln -> Jefferson -> Clinton -> Obama -> Trump\n"
          ]
        }
      ],
      "source": [
        "print(head)"
      ]
    },
    {
      "cell_type": "code",
      "execution_count": 59,
      "metadata": {},
      "outputs": [
        {
          "data": {
            "text/plain": [
              "True"
            ]
          },
          "execution_count": 59,
          "metadata": {},
          "output_type": "execute_result"
        }
      ],
      "source": [
        "head.search('Trump').data == tail.data "
      ]
    },
    {
      "cell_type": "code",
      "execution_count": 60,
      "metadata": {
        "id": "OVdi2gxklDwC"
      },
      "outputs": [],
      "source": [
        "head.search('Obama').insert_after(ListNode('Biden'))"
      ]
    },
    {
      "cell_type": "code",
      "execution_count": 61,
      "metadata": {
        "id": "X1nXfubglV0k"
      },
      "outputs": [
        {
          "name": "stdout",
          "output_type": "stream",
          "text": [
            "Lincoln -> Jefferson -> Clinton -> Obama -> Biden -> Trump\n"
          ]
        }
      ],
      "source": [
        "print(head)"
      ]
    },
    {
      "cell_type": "code",
      "execution_count": 62,
      "metadata": {
        "id": "5uus_668Q_d5"
      },
      "outputs": [
        {
          "name": "stdout",
          "output_type": "stream",
          "text": [
            "cannot delete the tail node using this method\n"
          ]
        }
      ],
      "source": [
        "head.search('Trump').delete_thisnode()\n",
        "\n",
        "# since it's tail node, we need to update tail "
      ]
    },
    {
      "cell_type": "code",
      "execution_count": 63,
      "metadata": {},
      "outputs": [
        {
          "name": "stdout",
          "output_type": "stream",
          "text": [
            "Lincoln -> Jefferson -> Clinton -> Obama -> Biden -> Trump\n"
          ]
        }
      ],
      "source": [
        "print(head)"
      ]
    },
    {
      "cell_type": "code",
      "execution_count": 65,
      "metadata": {},
      "outputs": [
        {
          "data": {
            "text/plain": [
              "False"
            ]
          },
          "execution_count": 65,
          "metadata": {},
          "output_type": "execute_result"
        }
      ],
      "source": [
        "head.search('Biden').data == tail.data"
      ]
    },
    {
      "cell_type": "markdown",
      "metadata": {},
      "source": [
        "insert"
      ]
    },
    {
      "cell_type": "code",
      "execution_count": 66,
      "metadata": {
        "id": "OK3vS0QBHa_n"
      },
      "outputs": [],
      "source": [
        "tail.insert_after(ListNode('XXX'))   # 插入到 tail 後面"
      ]
    },
    {
      "cell_type": "code",
      "execution_count": 67,
      "metadata": {
        "id": "IYcBlhiGHj8F"
      },
      "outputs": [
        {
          "name": "stdout",
          "output_type": "stream",
          "text": [
            "Lincoln -> Jefferson -> Clinton -> Obama -> Biden -> Trump\n"
          ]
        }
      ],
      "source": [
        "print(head)"
      ]
    },
    {
      "cell_type": "code",
      "execution_count": 68,
      "metadata": {
        "id": "fgijBA57Hqkc"
      },
      "outputs": [
        {
          "name": "stdout",
          "output_type": "stream",
          "text": [
            "Trump -> XXX\n"
          ]
        }
      ],
      "source": [
        "print(tail)\n",
        "\n",
        "# tail is point to trump, and next node is XXX "
      ]
    },
    {
      "cell_type": "markdown",
      "metadata": {},
      "source": [
        "update tail "
      ]
    },
    {
      "cell_type": "code",
      "execution_count": 72,
      "metadata": {
        "id": "0yrMr9_iRQ0B"
      },
      "outputs": [],
      "source": [
        "tail = tail.next \n",
        "\n",
        "# update tail to the next ( new added node )"
      ]
    },
    {
      "cell_type": "code",
      "execution_count": 73,
      "metadata": {},
      "outputs": [
        {
          "data": {
            "text/plain": [
              "True"
            ]
          },
          "execution_count": 73,
          "metadata": {},
          "output_type": "execute_result"
        }
      ],
      "source": [
        "tail.search('XXX').data  == tail.data"
      ]
    },
    {
      "cell_type": "markdown",
      "metadata": {},
      "source": [
        "## Stacks and queues"
      ]
    },
    {
      "cell_type": "markdown",
      "metadata": {},
      "source": [
        "these two data structure are only about actions ( nothing about content inside )\n",
        "\n",
        "stacks: \n",
        "- in python : array \n",
        "- action : push / pop \n",
        "- LIFO\n",
        "\n",
        "queues: \n",
        "- in python : linked list \n",
        "- action : increment / decrement\n",
        "- FIFO "
      ]
    },
    {
      "cell_type": "markdown",
      "metadata": {},
      "source": [
        "Stack"
      ]
    },
    {
      "cell_type": "code",
      "execution_count": 21,
      "metadata": {},
      "outputs": [
        {
          "name": "stdout",
          "output_type": "stream",
          "text": [
            "堆疊內容: [1, 2, 3]\n",
            "彈出的元素: 3\n",
            "彈出後的堆疊: [1, 2]\n"
          ]
        }
      ],
      "source": [
        "# 建立一個空的堆疊\n",
        "stack = []\n",
        "\n",
        "# Push: 加入元素\n",
        "stack.append(1)\n",
        "stack.append(2)\n",
        "stack.append(3)\n",
        "\n",
        "print(\"堆疊內容:\", stack)  # [1, 2, 3]\n",
        "\n",
        "# Pop: 取出元素\n",
        "top_element = stack.pop()\n",
        "print(\"彈出的元素:\", top_element)  # 3\n",
        "print(\"彈出後的堆疊:\", stack)  # [1, 2]\n"
      ]
    },
    {
      "cell_type": "markdown",
      "metadata": {},
      "source": [
        "queues"
      ]
    },
    {
      "cell_type": "code",
      "execution_count": 74,
      "metadata": {},
      "outputs": [
        {
          "name": "stdout",
          "output_type": "stream",
          "text": [
            "佇列內容: deque([1, 2, 3])\n",
            "取出的元素: 1\n",
            "取出後的佇列: deque([2, 3])\n"
          ]
        }
      ],
      "source": [
        "from collections import deque\n",
        "\n",
        "# init empty deque\n",
        "queue = deque()  \n",
        "\n",
        "# Enqueue: 加入元素\n",
        "queue.append(1)\n",
        "queue.append(2)\n",
        "queue.append(3)\n",
        "\n",
        "print(\"佇列內容:\", queue)  # deque([1, 2, 3])\n",
        "\n",
        "# Dequeue: 取出元素\n",
        "front_element = queue.popleft()  # only difference \n",
        "print(\"取出的元素:\", front_element)  # 1\n",
        "print(\"取出後的佇列:\", queue)  # deque([2, 3])\n"
      ]
    },
    {
      "cell_type": "markdown",
      "metadata": {},
      "source": [
        "bi directional deque "
      ]
    },
    {
      "cell_type": "code",
      "execution_count": 75,
      "metadata": {},
      "outputs": [
        {
          "name": "stdout",
          "output_type": "stream",
          "text": [
            "deque([3, 1, 2])\n",
            "deque([3, 1])\n",
            "deque([1])\n"
          ]
        }
      ],
      "source": [
        "dq = deque()\n",
        "\n",
        "dq.append(1)\n",
        "dq.append(2)\n",
        "dq.appendleft(3)  # 在前面加\n",
        "print(dq)  # deque([3, 1, 2])\n",
        "\n",
        "dq.pop()  # 移除最後一個元素\n",
        "print(dq)  # deque([3, 1])\n",
        "\n",
        "dq.popleft()  # 移除第一個元素\n",
        "print(dq)  # deque([1])\n"
      ]
    },
    {
      "cell_type": "markdown",
      "metadata": {},
      "source": [
        "## Dictionary \n",
        "\n",
        "unsorted array              \n",
        "- search : O(n)      \n",
        "- insert : O(1), place in first empty spot \n",
        "- delete : O(1)\n",
        "- min, max : O(n)\n",
        "- successor, predecessor : O(n)\n",
        "\n",
        "sorted \n",
        "- search : O(logn ) : binary search \n",
        "- insert : O(n), since it's sorted, need to move the whole thing before \n",
        "- delete : O(n) , same as above \n",
        "- min, max : O(1) , first, last \n",
        "- suc, pred : pointer + 1 , pointer -1 \n",
        "\n",
        "\n"
      ]
    },
    {
      "cell_type": "code",
      "execution_count": null,
      "metadata": {},
      "outputs": [],
      "source": []
    }
  ],
  "metadata": {
    "colab": {
      "provenance": [],
      "toc_visible": true
    },
    "kernelspec": {
      "display_name": "Python 3",
      "name": "python3"
    },
    "language_info": {
      "codemirror_mode": {
        "name": "ipython",
        "version": 3
      },
      "file_extension": ".py",
      "mimetype": "text/x-python",
      "name": "python",
      "nbconvert_exporter": "python",
      "pygments_lexer": "ipython3",
      "version": "3.12.9"
    }
  },
  "nbformat": 4,
  "nbformat_minor": 0
}
