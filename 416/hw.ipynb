{
 "cells": [
  {
   "cell_type": "code",
   "execution_count": null,
   "metadata": {},
   "outputs": [],
   "source": [
    "\"\"\" \n",
    "\n",
    "Consider a collection of electrical pins on a printed circuit board (PCB). For each pair of pins, there may or may not be a wire joining them.\n",
    "We want to divide the pins on PCB to two parts. The same part of pins should not be connected, all wires must connect between parts.\n",
    "\n",
    "Write a method in python as following :\n",
    "\n",
    "def is_circuit_wireable(pcb:list)->bool:\n",
    "\n",
    "--> To design an algorithm that takes a set of pins and a set of wires \n",
    "connecting pairs of pins representing as an adjacency list of Pin class pcb, \n",
    "and determines if it is possible to place some pins on the left half of a PCB, \n",
    "and the remainder on the right half, such that each wire is between left and right halves.\n",
    "Return True, if such a division exists.\n",
    "\n",
    "The Pin class and supporting method initial_pcb are included and declared as:\n",
    "\n",
    "class Pin:\n",
    "    def __init__(self):\n",
    "        self.side = -1\n",
    "        self.wires = []\n",
    "\n",
    "def initial_pcb(n:int, wire_list:list)->list:\n",
    "    pcb = []\n",
    "    for i in range(n):\n",
    "        pcb.append(Pin())\n",
    "    for w in wire_list:\n",
    "        if 0 <= w[0] < n and 0 <= w[1] < n:\n",
    "            pcb[w[0]].wires.append(pcb[w[1]])\n",
    "    return pcb\n",
    "\n",
    "For example:\n",
    "\n",
    "Test\tResult\n",
    "print(is_circuit_wireable(initial_pcb(5, [[2, 4], [4, 2], [1, 4], [4, 1], [3, 4], [4, 3], [1, 3], [3, 1]])))\n",
    "False\n",
    "print(is_circuit_wireable(initial_pcb(4, [[0, 3], [3, 0], [2, 1], [1, 2], [2, 0], [0, 2]])))\n",
    "True\n",
    "\n",
    "\"\"\" "
   ]
  },
  {
   "cell_type": "code",
   "execution_count": 1,
   "metadata": {},
   "outputs": [],
   "source": [
    "class Pin:\n",
    "    def __init__(self):\n",
    "        self.side = -1\n",
    "        self.wires = []\n",
    "\n",
    "def initial_pcb(n:int, wire_list:list)->list:\n",
    "    pcb = []\n",
    "    for i in range(n):\n",
    "        pcb.append(Pin())\n",
    "    for w in wire_list:\n",
    "        if 0 <= w[0] < n and 0 <= w[1] < n:\n",
    "            pcb[w[0]].wires.append(pcb[w[1]])\n",
    "    return pcb\n"
   ]
  },
  {
   "cell_type": "code",
   "execution_count": null,
   "metadata": {},
   "outputs": [],
   "source": [
    "def is_circuit_wireable(pcb: list) -> bool:\n",
    "    \n",
    "    # Try to color the graph with two colors (0 and 1)\n",
    "    # -1 means uncolored\n",
    "    for pin in pcb:\n",
    "        pin.side = -1\n",
    "    \n",
    "    # Use BFS to color the graph\n",
    "    for start_pin in pcb:\n",
    "        # Skip pins that are already colored\n",
    "        if start_pin.side != -1:\n",
    "            continue\n",
    "        \n",
    "        # Start coloring from this pin\n",
    "        start_pin.side = 0\n",
    "        queue = [start_pin]\n",
    "        \n",
    "        while queue:\n",
    "            current_pin = queue.pop(0)\n",
    "            \n",
    "            # Check all adjacent pins\n",
    "            for adjacent_pin in current_pin.wires:\n",
    "                if adjacent_pin.side == -1:\n",
    "                    # Color the adjacent pin with the opposite color\n",
    "                    adjacent_pin.side = 1 - current_pin.side\n",
    "                    queue.append(adjacent_pin)\n",
    "                elif adjacent_pin.side == current_pin.side:\n",
    "                    # If adjacent pin has the same color, graph is not bipartite\n",
    "                    return False\n",
    "    \n",
    "    # If we can color the entire graph without conflicts, it's bipartite\n",
    "    return True"
   ]
  },
  {
   "cell_type": "code",
   "execution_count": 3,
   "metadata": {},
   "outputs": [
    {
     "name": "stdout",
     "output_type": "stream",
     "text": [
      "False\n"
     ]
    }
   ],
   "source": [
    "print(is_circuit_wireable(initial_pcb(5, [[2, 4], [4, 2], [1, 4], [4, 1], [3, 4], [4, 3], [1, 3], [3, 1]])))\n"
   ]
  },
  {
   "cell_type": "code",
   "execution_count": 4,
   "metadata": {},
   "outputs": [
    {
     "name": "stdout",
     "output_type": "stream",
     "text": [
      "True\n"
     ]
    }
   ],
   "source": [
    "print(is_circuit_wireable(initial_pcb(4, [[0, 3], [3, 0], [2, 1], [1, 2], [2, 0], [0, 2]])))\n"
   ]
  },
  {
   "cell_type": "code",
   "execution_count": null,
   "metadata": {},
   "outputs": [],
   "source": [
    "\"\"\" \n",
    "Given a 2D array of black(wall, value 1) and white(open area, value 0) entries representing a maze with designated entrance and exit points, find a path from the entrance to the exit, if one exists.\n",
    "\n",
    "Write a method in python as following :\n",
    "\n",
    "def search_maze(m:list, s:list, e:list)->bool:\n",
    "To find a path from coordinate [row1, col1] of s to coordinate [row2, col2] of e on the maze representing as 2D array of wall and open area(NOT adjacency Matrix). s and e are always at open area.\n",
    "If there exists a path, return True; otherwise return False.\n",
    "\n",
    "For example:\n",
    "\n",
    "Test\tResult\n",
    "m = [[0, 0, 1, 0], [0, 0, 0, 0], [0, 0, 0, 0], [0, 0, 1, 0], [1, 0, 0, 1], [0, 0, 0, 1]]\n",
    "print(search_maze(m, [2, 1], [2, 0]))\n",
    "True\n",
    "m = [[0, 1, 0, 1, 0, 0], [0, 0, 0, 1, 0, 0], [0, 0, 1, 0, 1, 1], [1, 0, 0, 0, 0, 0]]\n",
    "print(search_maze(m, [3, 1], [0, 4]))\n",
    "\n",
    "\n",
    "\"\"\" "
   ]
  },
  {
   "cell_type": "code",
   "execution_count": 5,
   "metadata": {},
   "outputs": [],
   "source": [
    "def search_maze(m: list, s: list, e: list) -> bool:\n",
    "    \"\"\"\n",
    "    Find a path from start position s to end position e in maze m.\n",
    "    \n",
    "    Args:\n",
    "        m: 2D list representing the maze (0 = open area, 1 = wall)\n",
    "        s: Start position [row, col]\n",
    "        e: End position [row, col]\n",
    "        \n",
    "    Returns:\n",
    "        True if a path exists, False otherwise\n",
    "    \"\"\"\n",
    "    # Get maze dimensions\n",
    "    rows = len(m)\n",
    "    cols = len(m[0]) if rows > 0 else 0\n",
    "    \n",
    "    # Define possible movements (up, right, down, left)\n",
    "    directions = [(-1, 0), (0, 1), (1, 0), (0, -1)]\n",
    "    \n",
    "    # Create a visited set to avoid cycles\n",
    "    visited = set()\n",
    "    \n",
    "    # Queue for BFS\n",
    "    queue = [(s[0], s[1])]\n",
    "    visited.add((s[0], s[1]))\n",
    "    \n",
    "    while queue:\n",
    "        curr_row, curr_col = queue.pop(0)\n",
    "        \n",
    "        # Check if we've reached the end\n",
    "        if curr_row == e[0] and curr_col == e[1]:\n",
    "            return True\n",
    "        \n",
    "        # Try all four directions\n",
    "        for dr, dc in directions:\n",
    "            new_row, new_col = curr_row + dr, curr_col + dc\n",
    "            \n",
    "            # Check if the new position is valid\n",
    "            if (0 <= new_row < rows and \n",
    "                0 <= new_col < cols and \n",
    "                m[new_row][new_col] == 0 and \n",
    "                (new_row, new_col) not in visited):\n",
    "                \n",
    "                queue.append((new_row, new_col))\n",
    "                visited.add((new_row, new_col))\n",
    "    \n",
    "    # If we've exhausted all possibilities without finding the end\n",
    "    return False"
   ]
  },
  {
   "cell_type": "code",
   "execution_count": 6,
   "metadata": {},
   "outputs": [
    {
     "name": "stdout",
     "output_type": "stream",
     "text": [
      "True\n"
     ]
    }
   ],
   "source": [
    "m = [[0, 0, 1, 0], [0, 0, 0, 0], [0, 0, 0, 0], [0, 0, 1, 0], [1, 0, 0, 1], [0, 0, 0, 1]]\n",
    "print(search_maze(m, [2, 1], [2, 0]))\n"
   ]
  },
  {
   "cell_type": "code",
   "execution_count": 7,
   "metadata": {},
   "outputs": [
    {
     "name": "stdout",
     "output_type": "stream",
     "text": [
      "False\n"
     ]
    }
   ],
   "source": [
    "m = [[0, 1, 0, 1, 0, 0], [0, 0, 0, 1, 0, 0], [0, 0, 1, 0, 1, 1], [1, 0, 0, 0, 0, 0]]\n",
    "print(search_maze(m, [3, 1], [0, 4]))"
   ]
  },
  {
   "cell_type": "code",
   "execution_count": null,
   "metadata": {},
   "outputs": [],
   "source": []
  }
 ],
 "metadata": {
  "kernelspec": {
   "display_name": "Python 3",
   "language": "python",
   "name": "python3"
  },
  "language_info": {
   "codemirror_mode": {
    "name": "ipython",
    "version": 3
   },
   "file_extension": ".py",
   "mimetype": "text/x-python",
   "name": "python",
   "nbconvert_exporter": "python",
   "pygments_lexer": "ipython3",
   "version": "3.12.9"
  }
 },
 "nbformat": 4,
 "nbformat_minor": 2
}
