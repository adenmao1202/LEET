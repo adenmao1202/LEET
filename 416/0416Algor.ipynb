{
  "cells": [
    {
      "cell_type": "markdown",
      "metadata": {
        "id": "uCw7UoPFsHsS"
      },
      "source": [
        "# Review: Programming Exercise 05"
      ]
    },
    {
      "cell_type": "markdown",
      "metadata": {
        "id": "L1IcUIwVsksm"
      },
      "source": [
        "## Dutch National Flag Problem (Red-White-Blue Sort)"
      ]
    },
    {
      "cell_type": "code",
      "execution_count": null,
      "metadata": {
        "id": "0nfLWtuHsv-w"
      },
      "outputs": [],
      "source": [
        "def sort_colors(colors:list):\n",
        "    \"\"\"\n",
        "    對包含 \"red\", \"white\", \"blue\" 的列表進行原地排序，\n",
        "    使得所有的 \"red\" 在 \"white\" 之前，所有的 \"white\" 在 \"blue\" 之前。\n",
        "\n",
        "    參數:\n",
        "    colors (list): 包含 \"red\", \"white\", \"blue\" 的列表。\n",
        "\n",
        "    回傳:\n",
        "    None: 函數直接修改輸入的列表。\n",
        "    \"\"\"\n",
        "    red_index = 0 # 追蹤下一個 \"red\" 應該放置的位置，從列表開頭開始\n",
        "    white_index = 0 # 用於遍歷列表，檢查當前元素\n",
        "    blue_index = len(colors) - 1 # 追蹤下一個 \"blue\" 應該放置的位置，從列表結尾開始\n",
        "\n",
        "    while white_index <= blue_index: # 當 white_index 超過 blue_index 時，排序完成\n",
        "        if colors[white_index] == \"red\":\n",
        "            # 如果當前元素是 \"red\"，將其與 red_index 位置的元素交換\n",
        "            # 這樣可以確保 red_index 左邊的元素都是 \"red\"\n",
        "            colors[______index], colors[______index] = colors[______index], colors[______index]  #need fix\n",
        "            red_index += 1 # red_index 右移，因為多了一個 \"red\" 被處理\n",
        "            white_index += 1 # white_index 右移，繼續檢查下一個元素\n",
        "        elif colors[white_index] == \"white\":\n",
        "            # 如果當前元素是 \"white\"，不需要交換，只移動 white_index\n",
        "            # 因為 \"white\" 應該在 \"red\" 之後，\"blue\" 之前，位置已經正確\n",
        "            white_index += 1\n",
        "        else:  # colors[white_index] == \"blue\"\n",
        "            # 如果當前元素是 \"blue\"，將其與 blue_index 位置的元素交換\n",
        "            # 這樣可以確保 blue_index 右邊的元素都是 \"blue\"\n",
        "            colors[______index], colors[______index] = colors[______index], colors[______index] #need fix\n",
        "            blue_index -= 1 # blue_index 左移，因為多了一個 \"blue\" 被處理\n",
        "            # 注意：這裡 white_index 不移動，因為交換後的新元素還需要檢查"
      ]
    },
    {
      "cell_type": "code",
      "execution_count": null,
      "metadata": {
        "id": "1UpICfJGtkBs"
      },
      "outputs": [],
      "source": [
        "colors = [\"blue\", \"white\", \"red\"]\n",
        "sort_colors(colors)\n",
        "print(colors) #['red', 'white', 'blue']\n",
        "colors = [\"blue\", \"blue\", \"red\", \"white\", \"red\"]\n",
        "sort_colors(colors)\n",
        "print(colors) #['red', 'red', 'white', 'blue', 'blue']\n",
        "colors = [\"white\", \"white\", \"white\"]\n",
        "sort_colors(colors)\n",
        "print(colors) #['white', 'white', 'white']\n",
        "colors = [\"blue\", \"blue\"]\n",
        "sort_colors(colors)\n",
        "print(colors) #['blue', 'blue']\n",
        "colors = [\"red\", \"white\", \"blue\", \"red\", \"white\", \"blue\"]\n",
        "sort_colors(colors)\n",
        "print(colors) #['red', 'red', 'white', 'white', 'blue', 'blue']\n"
      ]
    },
    {
      "cell_type": "markdown",
      "metadata": {
        "id": "gYX3s7UDhRrb"
      },
      "source": [
        "## Convert a Graph from Adjacency List to Adjacency Matrix"
      ]
    },
    {
      "cell_type": "code",
      "execution_count": 1,
      "metadata": {
        "id": "K10fLicQhv5d"
      },
      "outputs": [],
      "source": [
        "class GraphVertex:\n",
        "    def __init__(self, label):\n",
        "        self.label = label\n",
        "        self.edges = []   #Edges in Adjacency List\n",
        "\n",
        "def initial_graph(n:int, edge_list:list)->list:\n",
        "    graph = []\n",
        "    for i in range(n):\n",
        "        graph.append(GraphVertex(i))\n",
        "    for e in edge_list:\n",
        "        if 0 <= e[0] < n and 0 <= e[1] < n:\n",
        "            graph[e[0]].edges.append(graph[e[1]])\n",
        "    return graph"
      ]
    },
    {
      "cell_type": "code",
      "execution_count": null,
      "metadata": {
        "id": "2fV7fdpuVbTC"
      },
      "outputs": [],
      "source": [
        "def to_adj_matrix(graph:list)->list:\n",
        "    #M = [[0]*len(graph)]*len(graph) #BAD\n",
        "    #M = [x[:] for x in [[0]*len(graph)]*len(graph)] #OK\n",
        "    M = [ [0]*len(graph) for x in range(len(graph))] #OK\n",
        "    for v1 in graph:\n",
        "        for v2 in v1.edges:\n",
        "            M[__.label][__.label] = __ # need fix: \"設定Matrix中v1至v2有edge\"\n",
        "    return M"
      ]
    },
    {
      "cell_type": "code",
      "execution_count": null,
      "metadata": {
        "id": "YUzipLV7hgOz"
      },
      "outputs": [],
      "source": [
        "print(to_adj_matrix(initial_graph(5, [[2, 4], [4, 2], [1, 4], [4, 1], [3, 4], [4, 3], [1, 3], [3, 1]])))\n",
        "#[[0, 0, 0, 0, 0], [0, 0, 0, 1, 1], [0, 0, 0, 0, 1], [0, 1, 0, 0, 1], [0, 1, 1, 1, 0]]\n",
        "print(to_adj_matrix(initial_graph(4, [[1, 1], [3, 0], [2, 1], [1, 2], [0, 2], [3, 3]])))\n",
        "#[[0, 0, 1, 0], [0, 1, 1, 0], [0, 1, 0, 0], [1, 0, 0, 1]]\n",
        "print(to_adj_matrix(initial_graph(4, [[0, 3], [3, 0], [2, 1], [1, 2], [2, 0], [0, 2]])))\n",
        "#[[0, 0, 1, 1], [0, 0, 1, 0], [1, 1, 0, 0], [1, 0, 0, 0]]\n",
        "print(to_adj_matrix(initial_graph(12, [[1, 9], [9, 1], [9, 2], [2, 9], [11, 0], [0, 11], [8, 2], [2, 8], [10, 5], [5, 10], [1, 6], [6, 1], [5, 1], [1, 5], [5, 9], [9, 5], [6, 8], [8, 6]])))\n",
        "#[[0, 0, 0, 0, 0, 0, 0, 0, 0, 0, 0, 1], [0, 0, 0, 0, 0, 1, 1, 0, 0, 1, 0, 0], [0, 0, 0, 0, 0, 0, 0, 0, 1, 1, 0, 0], [0, 0, 0, 0, 0, 0, 0, 0, 0, 0, 0, 0], [0, 0, 0, 0, 0, 0, 0, 0, 0, 0, 0, 0], [0, 1, 0, 0, 0, 0, 0, 0, 0, 1, 1, 0], [0, 1, 0, 0, 0, 0, 0, 0, 1, 0, 0, 0], [0, 0, 0, 0, 0, 0, 0, 0, 0, 0, 0, 0], [0, 0, 1, 0, 0, 0, 1, 0, 0, 0, 0, 0], [0, 1, 1, 0, 0, 1, 0, 0, 0, 0, 0, 0], [0, 0, 0, 0, 0, 1, 0, 0, 0, 0, 0, 0], [1, 0, 0, 0, 0, 0, 0, 0, 0, 0, 0, 0]]\n",
        "print(to_adj_matrix(initial_graph(3, [[0, 1], [1, 0], [0, 2], [2, 0]])))\n",
        "#[[0, 1, 1], [1, 0, 0], [1, 0, 0]]"
      ]
    },
    {
      "cell_type": "markdown",
      "metadata": {},
      "source": [
        "### Start here !!! "
      ]
    },
    {
      "cell_type": "markdown",
      "metadata": {
        "id": "vbx_0Z5SUcnA"
      },
      "source": [
        "# BFS"
      ]
    },
    {
      "cell_type": "markdown",
      "metadata": {},
      "source": [
        "directed graph for this one "
      ]
    },
    {
      "cell_type": "code",
      "execution_count": 2,
      "metadata": {
        "id": "LXLxZ4JZUfFb"
      },
      "outputs": [],
      "source": [
        "class GraphVertex:\n",
        "    def __init__(self, label):\n",
        "        self.label = label    # identifier for vertex ( 0- 6 )\n",
        "        self.d = -1 # Distance to start vertex ( -1 : unvisited )\n",
        "        self.parent = None # The vertex discovers this current vertex\n",
        "        self.edges = []  # list of adjacent vertices\n",
        "    def __str__(self):\n",
        "        #output = f\"{self.label}(d={self.d}): \"\n",
        "        #for e in self.edges:\n",
        "        #    output += f\"{self.label}->{e.label} \"\n",
        "        return f\"{self.label}(d={self.d}): \"+\", \".join(f\"{self.label}->{e.label}\" for e in self.edges)\n",
        "\n",
        "def initial_graph(n:int, edge_list:list)->list:\n",
        "    graph = []\n",
        "    for i in range(n):\n",
        "        graph.append(GraphVertex(i))\n",
        "    for e in edge_list:\n",
        "        if  0 <= e[0] < n and 0 <= e[1] < n:\n",
        "            graph[e[0]].edges.append(graph[e[1]])\n",
        "    return graph\n",
        "\n",
        "def BFS(start:GraphVertex):\n",
        "    queue = []   # queue for BFS 待訪問 \n",
        "    start.d = 0   # 設置起始頂點的距離為0（表示已訪問）\n",
        "    queue.append(start)\n",
        "    \n",
        "    while queue:\n",
        "        curr = queue.pop(0) # 從隊列前端取出一個頂點（FIFO原則）\n",
        "        process_vertex_early(curr.label)\n",
        "        \n",
        "        for v in curr.edges:\n",
        "            process_edge(curr.label, v.label)\n",
        "            if v.d == -1: # if the negihbour is unvisited\n",
        "                v.d = curr.d + 1  # mark it as visited( set distance )\n",
        "                v.parent = curr  # set its parent\n",
        "                queue.append(v)  # add it to the queue\n",
        "        process_vertex_late(curr.label)   \n",
        "\n",
        "def process_vertex_early(label:int):\n",
        "    print(\"Processing vertex\",label)\n",
        "\n",
        "def process_edge(i:int, j:int):\n",
        "    print(f\"Processing edge ({i}, {j})\")\n",
        "\n",
        "def process_vertex_late(label:int):\n",
        "    print(f\"Vertex {label} processed\")\n",
        "\n",
        "edge_list=[[1,2],[2,1],[1,5],[5,1],[1,6],[6,1],[2,3],[3,2],[2,5],[5,2],[3,4],[4,3],[4,5],[5,4]]\n",
        "graph = initial_graph(7,edge_list)\n",
        "\n",
        "\n"
      ]
    },
    {
      "cell_type": "code",
      "execution_count": 3,
      "metadata": {},
      "outputs": [
        {
          "name": "stdout",
          "output_type": "stream",
          "text": [
            "Processing vertex 1\n",
            "Processing edge (1, 2)\n",
            "Processing edge (1, 5)\n",
            "Processing edge (1, 6)\n",
            "Vertex 1 processed\n",
            "Processing vertex 2\n",
            "Processing edge (2, 1)\n",
            "Processing edge (2, 3)\n",
            "Processing edge (2, 5)\n",
            "Vertex 2 processed\n",
            "Processing vertex 5\n",
            "Processing edge (5, 1)\n",
            "Processing edge (5, 2)\n",
            "Processing edge (5, 4)\n",
            "Vertex 5 processed\n",
            "Processing vertex 6\n",
            "Processing edge (6, 1)\n",
            "Vertex 6 processed\n",
            "Processing vertex 3\n",
            "Processing edge (3, 2)\n",
            "Processing edge (3, 4)\n",
            "Vertex 3 processed\n",
            "Processing vertex 4\n",
            "Processing edge (4, 3)\n",
            "Processing edge (4, 5)\n",
            "Vertex 4 processed\n"
          ]
        }
      ],
      "source": [
        "BFS(graph[1])"
      ]
    },
    {
      "cell_type": "code",
      "execution_count": 4,
      "metadata": {},
      "outputs": [
        {
          "name": "stdout",
          "output_type": "stream",
          "text": [
            "0(d=-1): \n",
            "1(d=0): 1->2, 1->5, 1->6\n",
            "2(d=1): 2->1, 2->3, 2->5\n",
            "3(d=2): 3->2, 3->4\n",
            "4(d=2): 4->3, 4->5\n",
            "5(d=1): 5->1, 5->2, 5->4\n",
            "6(d=1): 6->1\n"
          ]
        }
      ],
      "source": [
        "for v in graph:\n",
        "    print(v)"
      ]
    },
    {
      "cell_type": "code",
      "execution_count": 5,
      "metadata": {},
      "outputs": [
        {
          "data": {
            "image/png": "[encoded data removed]",
            "text/plain": [
              "<Figure size 640x480 with 1 Axes>"
            ]
          },
          "metadata": {},
          "output_type": "display_data"
        }
      ],
      "source": [
        "import networkx as nx\n",
        "g = nx.Graph()\n",
        "g.add_nodes_from(range(7))\n",
        "g.add_edges_from(edge_list)\n",
        "nx.draw(g, with_labels=True, font_weight='bold')\n"
      ]
    },
    {
      "cell_type": "code",
      "execution_count": 6,
      "metadata": {
        "id": "8jTZcZpNVFh-"
      },
      "outputs": [
        {
          "name": "stdout",
          "output_type": "stream",
          "text": [
            "1-> 1: 1 \n",
            "1-> 2: 1 2 \n",
            "1-> 3: 1 2 3 \n",
            "1-> 4: 1 5 4 \n",
            "1-> 5: 1 5 \n",
            "1-> 6: 1 6 \n"
          ]
        }
      ],
      "source": [
        "## BFS 應用 \n",
        "\n",
        "# 先一直遞迴呼叫到 end == start（基底），這時候印出起點\n",
        "# 然後遞迴「回溯」──每層回到上一層都印出該節點\n",
        "# 由於「印出」發生在回溯階段，所以最先印的是起點，最後印的是終點，結果就是從起點到終點的正確順序。\n",
        "\n",
        "\n",
        "# 從同一個起點開始，找到所有可能的路徑\n",
        "def find_path(start:GraphVertex, end:GraphVertex):\n",
        "    if start == end or end is None:  # 結束條件\n",
        "        print(start.label, end=' ')\n",
        "    else:\n",
        "        find_path(start, end.parent) # 遞迴呼叫\n",
        "        print(end.label, end=' ')  # 從終點開始，沿著 parent 指針向上追溯，直到到達起點\n",
        "\n",
        "for v in graph:\n",
        "    if v.d != -1:  # 代表訪問過 \n",
        "        print('1->',v.label,end=': ')\n",
        "        find_path(graph[1], v) \n",
        "        print()"
      ]
    },
    {
      "cell_type": "markdown",
      "metadata": {},
      "source": [
        "### Connected Components 連通分量 !!! \n",
        "- test here ! "
      ]
    },
    {
      "cell_type": "code",
      "execution_count": 7,
      "metadata": {
        "id": "rsoVtp2aj-Jn"
      },
      "outputs": [
        {
          "name": "stdout",
          "output_type": "stream",
          "text": [
            "Component 1:\n",
            "Processing vertex 0\n",
            "Vertex 0 processed\n",
            "********************\n",
            "Component 2:\n",
            "Processing vertex 1\n",
            "Processing edge (1, 2)\n",
            "Processing edge (1, 5)\n",
            "Processing edge (1, 6)\n",
            "Vertex 1 processed\n",
            "Processing vertex 2\n",
            "Processing edge (2, 1)\n",
            "Processing edge (2, 3)\n",
            "Processing edge (2, 5)\n",
            "Vertex 2 processed\n",
            "Processing vertex 5\n",
            "Processing edge (5, 1)\n",
            "Processing edge (5, 2)\n",
            "Processing edge (5, 4)\n",
            "Vertex 5 processed\n",
            "Processing vertex 6\n",
            "Processing edge (6, 1)\n",
            "Vertex 6 processed\n",
            "Processing vertex 3\n",
            "Processing edge (3, 2)\n",
            "Processing edge (3, 4)\n",
            "Vertex 3 processed\n",
            "Processing vertex 4\n",
            "Processing edge (4, 3)\n",
            "Processing edge (4, 5)\n",
            "Vertex 4 processed\n",
            "********************\n"
          ]
        }
      ],
      "source": [
        "def connected_components(graph:list):\n",
        "    c = 0  # init component count\n",
        "    for v in graph:\n",
        "        if v.d == -1: # if unvisited, meaning discover new component\n",
        "            c += 1  # increment component count\n",
        "            print(f\"Component {c}:\")  # print component number\n",
        "            BFS(v)   # 找出所有與此 vertex 連通的vertex\n",
        "            print('*' * 20)\n",
        "            \n",
        "edge_list=[[1,2],[2,1],[1,5],[5,1],[1,6],[6,1],[2,3],[3,2],[2,5],[5,2],[3,4],[4,3],[4,5],[5,4]]\n",
        "graph = initial_graph(7,edge_list)  # seven vertex graph\n",
        "connected_components(graph)"
      ]
    },
    {
      "cell_type": "code",
      "execution_count": 8,
      "metadata": {
        "id": "6Us2t0oxkzLi"
      },
      "outputs": [
        {
          "data": {
            "image/png": "[encoded data removed]",
            "text/plain": [
              "<Figure size 640x480 with 1 Axes>"
            ]
          },
          "metadata": {},
          "output_type": "display_data"
        }
      ],
      "source": [
        "edge_list=[[0, 3], [3, 0], [2, 1], [1, 2], [2, 0], [0, 2]]\n",
        "\n",
        "import networkx as nx\n",
        "g = nx.Graph()\n",
        "g.add_nodes_from(range(4))\n",
        "g.add_edges_from(edge_list)\n",
        "nx.draw(g, with_labels=True, font_weight='bold')"
      ]
    },
    {
      "cell_type": "markdown",
      "metadata": {
        "id": "-hn4UwbGVhUy"
      },
      "source": [
        "# DFS"
      ]
    },
    {
      "cell_type": "code",
      "execution_count": 9,
      "metadata": {
        "id": "ZT_MGRj9VkFr"
      },
      "outputs": [
        {
          "name": "stdout",
          "output_type": "stream",
          "text": [
            "Processing vertex 1\n",
            "Processing edge (1, 2) EdgeType.TREE\n",
            "Processing vertex 2\n",
            "Processing edge (2, 3) EdgeType.TREE\n",
            "Processing vertex 3\n",
            "Processing edge (3, 4) EdgeType.TREE\n",
            "Processing vertex 4\n",
            "Processing edge (4, 5) EdgeType.TREE\n",
            "Processing vertex 5\n",
            "Processing edge (5, 1) EdgeType.BACK\n",
            "Processing edge (5, 2) EdgeType.BACK\n",
            "Vertex 5 processed\n",
            "Vertex 4 processed\n",
            "Vertex 3 processed\n",
            "Processing edge (2, 5) EdgeType.FORWARD\n",
            "Vertex 2 processed\n",
            "Processing edge (1, 5) EdgeType.FORWARD\n",
            "Processing edge (1, 6) EdgeType.TREE\n",
            "Processing vertex 6\n",
            "Vertex 6 processed\n",
            "Vertex 1 processed\n"
          ]
        }
      ],
      "source": [
        "class GraphVertex:\n",
        "    def __init__(self, label):\n",
        "        self.label = label\n",
        "        self.d = 0 #Distance to start vertex\n",
        "        self.discovered = False   # 是否被「發現」\n",
        "        self.processed = False    # 是否被「處理」\n",
        "        self.parent = None # The vertex discovers me\n",
        "        self.edges = []  # Edges in Adjacency List\n",
        "    def __str__(self):\n",
        "        output = f\"{self.label}(d={self.d}): \"\n",
        "        output += \" \".join(f\"{self.label}->{e.label}\" \\\n",
        "                           for e in self.edges)\n",
        "        return output\n",
        "\n",
        "def initial_graph(n:int, edge_list:list)->list:  # same \n",
        "    graph = []\n",
        "    for i in range(n):\n",
        "        graph.append(GraphVertex(i))\n",
        "    for e in edge_list:\n",
        "        if  0 <= e[0] < n and 0 <= e[1] < n:\n",
        "            graph[e[0]].edges.append(graph[e[1]])\n",
        "    return graph\n",
        "\n",
        "\n",
        "def DFS(v:GraphVertex):\n",
        "    v.discovered = True\n",
        "    process_vertex_early(v)\n",
        "    \n",
        "    for t in v.edges:\n",
        "        if not t.discovered: # if edge t is not discovered\n",
        "            # -- tree edge -- \n",
        "            t.parent = v  # t is a child of v\n",
        "            t.d = v.d + 1 # distance  = parent distance + 1\n",
        "            process_edge(v, t)  \n",
        "            DFS(t)  # recursively call DFS\n",
        "            \n",
        "        elif v.parent != t:  # if edge t had found, but current node is not parent\n",
        "            # -- back/cross/forward edge --\n",
        "            process_edge(v, t)  # 邊緣分類\n",
        "    process_vertex_late(v)\n",
        "    v.processed = True\n",
        "\n",
        "# only for logging \n",
        "def process_vertex_early(v:GraphVertex):\n",
        "    print(\"Processing vertex\",v.label)\n",
        "\n",
        "def process_edge(i:GraphVertex, j:GraphVertex):\n",
        "    print(f\"Processing edge ({i.label}, {j.label}) {edge_classification(i,j)}\")\n",
        "\n",
        "def process_vertex_late(v:GraphVertex):\n",
        "    print(f\"Vertex {v.label} processed\")\n",
        "\n",
        "\n",
        "### edge classification\n",
        "\n",
        "from enum import Enum\n",
        "class EdgeType(Enum):\n",
        "    TREE = 0\n",
        "    BACK = 1\n",
        "    FORWARD = 2\n",
        "    CROSS = 3\n",
        "\n",
        "\n",
        "# 邊緣分類\n",
        "def edge_classification(x:GraphVertex, y:GraphVertex)->EdgeType:\n",
        "    if y.parent is x:\n",
        "        return EdgeType.TREE\n",
        "    elif y.discovered and not y.processed:\n",
        "        return EdgeType.BACK if x.d > y.d else EdgeType.CROSS\n",
        "    elif y.processed:\n",
        "        return EdgeType.FORWARD if x.d < y.d else EdgeType.CROSS\n",
        "    print(f\"Warning: unclassified edge ({x.label},{y.label})\")\n",
        "    return None\n",
        "\n",
        "def find_path(start:GraphVertex, end:GraphVertex):\n",
        "    if start == end or end is None:\n",
        "        print(start.label, end=' ')\n",
        "    else:\n",
        "        find_path(start, end.parent)\n",
        "        print(end.label, end=' ')\n",
        "\n",
        "\n",
        "edge_list=[[1,2],[2,1],[1,5],[5,1],[1,6],[6,1],[2,3],[3,2],[2,5],[5,2],[3,4],[4,3],[4,5],[5,4]]\n",
        "graph = initial_graph(7,edge_list)\n",
        "DFS(graph[1])\n"
      ]
    },
    {
      "cell_type": "code",
      "execution_count": 10,
      "metadata": {},
      "outputs": [
        {
          "name": "stdout",
          "output_type": "stream",
          "text": [
            "0(d=0): \n",
            "1(d=0): 1->2 1->5 1->6\n",
            "2(d=1): 2->1 2->3 2->5\n",
            "3(d=2): 3->2 3->4\n",
            "4(d=3): 4->3 4->5\n",
            "5(d=4): 5->1 5->2 5->4\n",
            "6(d=1): 6->1\n"
          ]
        }
      ],
      "source": [
        "for v in graph:\n",
        "    print(v)\n",
        "\n"
      ]
    },
    {
      "cell_type": "code",
      "execution_count": 11,
      "metadata": {},
      "outputs": [
        {
          "name": "stdout",
          "output_type": "stream",
          "text": [
            "1-> 0: 1 0 \n",
            "1-> 1: 1 \n",
            "1-> 2: 1 2 \n",
            "1-> 3: 1 2 3 \n",
            "1-> 4: 1 2 3 4 \n",
            "1-> 5: 1 2 3 4 5 \n",
            "1-> 6: 1 6 \n"
          ]
        }
      ],
      "source": [
        "# using find path : fix vertex to all other vertex \n",
        "for v in graph:\n",
        "    if v.d != -1:\n",
        "        print('1->',v.label,end=': ')\n",
        "        find_path(graph[1], v)  # change here to set diff starting point \n",
        "        print()\n",
        "\n"
      ]
    },
    {
      "cell_type": "code",
      "execution_count": 12,
      "metadata": {},
      "outputs": [
        {
          "data": {
            "image/png": "[encoded data removed]",
            "text/plain": [
              "<Figure size 640x480 with 1 Axes>"
            ]
          },
          "metadata": {},
          "output_type": "display_data"
        }
      ],
      "source": [
        "import networkx as nx\n",
        "graph = nx.Graph()\n",
        "# graph = nx.DiGraph(directed=True)\n",
        "graph.add_nodes_from(range(1,7))\n",
        "graph.add_edges_from(edge_list)\n",
        "nx.draw_networkx(graph, arrows=True, arrowstyle='-|>', arrowsize=12, with_labels=True, font_weight='bold')"
      ]
    },
    {
      "cell_type": "markdown",
      "metadata": {},
      "source": [
        "改寫 process_edge --> use to detect 無向圖的迴圈 "
      ]
    },
    {
      "cell_type": "code",
      "execution_count": 13,
      "metadata": {
        "id": "94wcH7WhWKA9"
      },
      "outputs": [
        {
          "name": "stdout",
          "output_type": "stream",
          "text": [
            "Processing vertex 1\n",
            "Processing vertex 2\n",
            "Processing vertex 3\n",
            "Processing vertex 4\n",
            "Processing vertex 5\n",
            "Cycle detected: 1 → 5 → 4 → 3 → 2 → 1\n"
          ]
        },
        {
          "ename": "RuntimeError",
          "evalue": "Cycle detected: 1→5→4→3→2→1",
          "output_type": "error",
          "traceback": [
            "\u001b[0;31m---------------------------------------------------------------------------\u001b[0m",
            "\u001b[0;31mRuntimeError\u001b[0m                              Traceback (most recent call last)",
            "Cell \u001b[0;32mIn[13], line 17\u001b[0m\n\u001b[1;32m     15\u001b[0m edge_list\u001b[38;5;241m=\u001b[39m[[\u001b[38;5;241m1\u001b[39m,\u001b[38;5;241m2\u001b[39m],[\u001b[38;5;241m2\u001b[39m,\u001b[38;5;241m1\u001b[39m],[\u001b[38;5;241m1\u001b[39m,\u001b[38;5;241m5\u001b[39m],[\u001b[38;5;241m5\u001b[39m,\u001b[38;5;241m1\u001b[39m],[\u001b[38;5;241m1\u001b[39m,\u001b[38;5;241m6\u001b[39m],[\u001b[38;5;241m6\u001b[39m,\u001b[38;5;241m1\u001b[39m],[\u001b[38;5;241m2\u001b[39m,\u001b[38;5;241m3\u001b[39m],[\u001b[38;5;241m3\u001b[39m,\u001b[38;5;241m2\u001b[39m],[\u001b[38;5;241m2\u001b[39m,\u001b[38;5;241m5\u001b[39m],[\u001b[38;5;241m5\u001b[39m,\u001b[38;5;241m2\u001b[39m],[\u001b[38;5;241m3\u001b[39m,\u001b[38;5;241m4\u001b[39m],[\u001b[38;5;241m4\u001b[39m,\u001b[38;5;241m3\u001b[39m],[\u001b[38;5;241m4\u001b[39m,\u001b[38;5;241m5\u001b[39m],[\u001b[38;5;241m5\u001b[39m,\u001b[38;5;241m4\u001b[39m]]\n\u001b[1;32m     16\u001b[0m graph \u001b[38;5;241m=\u001b[39m initial_graph(\u001b[38;5;241m7\u001b[39m,edge_list)\n\u001b[0;32m---> 17\u001b[0m \u001b[43mDFS\u001b[49m\u001b[43m(\u001b[49m\u001b[43mgraph\u001b[49m\u001b[43m[\u001b[49m\u001b[38;5;241;43m1\u001b[39;49m\u001b[43m]\u001b[49m\u001b[43m)\u001b[49m\n",
            "Cell \u001b[0;32mIn[9], line 35\u001b[0m, in \u001b[0;36mDFS\u001b[0;34m(v)\u001b[0m\n\u001b[1;32m     33\u001b[0m     t\u001b[38;5;241m.\u001b[39md \u001b[38;5;241m=\u001b[39m v\u001b[38;5;241m.\u001b[39md \u001b[38;5;241m+\u001b[39m \u001b[38;5;241m1\u001b[39m \u001b[38;5;66;03m# distance  = parent distance + 1\u001b[39;00m\n\u001b[1;32m     34\u001b[0m     process_edge(v, t)  \n\u001b[0;32m---> 35\u001b[0m     \u001b[43mDFS\u001b[49m\u001b[43m(\u001b[49m\u001b[43mt\u001b[49m\u001b[43m)\u001b[49m  \u001b[38;5;66;03m# recursively call DFS\u001b[39;00m\n\u001b[1;32m     37\u001b[0m \u001b[38;5;28;01melif\u001b[39;00m v\u001b[38;5;241m.\u001b[39mparent \u001b[38;5;241m!=\u001b[39m t:  \u001b[38;5;66;03m# if edge t had found, but current node is not parent\u001b[39;00m\n\u001b[1;32m     38\u001b[0m     \u001b[38;5;66;03m# -- back/cross/forward edge --\u001b[39;00m\n\u001b[1;32m     39\u001b[0m     process_edge(v, t)  \u001b[38;5;66;03m# 邊緣分類\u001b[39;00m\n",
            "Cell \u001b[0;32mIn[9], line 35\u001b[0m, in \u001b[0;36mDFS\u001b[0;34m(v)\u001b[0m\n\u001b[1;32m     33\u001b[0m     t\u001b[38;5;241m.\u001b[39md \u001b[38;5;241m=\u001b[39m v\u001b[38;5;241m.\u001b[39md \u001b[38;5;241m+\u001b[39m \u001b[38;5;241m1\u001b[39m \u001b[38;5;66;03m# distance  = parent distance + 1\u001b[39;00m\n\u001b[1;32m     34\u001b[0m     process_edge(v, t)  \n\u001b[0;32m---> 35\u001b[0m     \u001b[43mDFS\u001b[49m\u001b[43m(\u001b[49m\u001b[43mt\u001b[49m\u001b[43m)\u001b[49m  \u001b[38;5;66;03m# recursively call DFS\u001b[39;00m\n\u001b[1;32m     37\u001b[0m \u001b[38;5;28;01melif\u001b[39;00m v\u001b[38;5;241m.\u001b[39mparent \u001b[38;5;241m!=\u001b[39m t:  \u001b[38;5;66;03m# if edge t had found, but current node is not parent\u001b[39;00m\n\u001b[1;32m     38\u001b[0m     \u001b[38;5;66;03m# -- back/cross/forward edge --\u001b[39;00m\n\u001b[1;32m     39\u001b[0m     process_edge(v, t)  \u001b[38;5;66;03m# 邊緣分類\u001b[39;00m\n",
            "    \u001b[0;31m[... skipping similar frames: DFS at line 35 (1 times)]\u001b[0m\n",
            "Cell \u001b[0;32mIn[9], line 35\u001b[0m, in \u001b[0;36mDFS\u001b[0;34m(v)\u001b[0m\n\u001b[1;32m     33\u001b[0m     t\u001b[38;5;241m.\u001b[39md \u001b[38;5;241m=\u001b[39m v\u001b[38;5;241m.\u001b[39md \u001b[38;5;241m+\u001b[39m \u001b[38;5;241m1\u001b[39m \u001b[38;5;66;03m# distance  = parent distance + 1\u001b[39;00m\n\u001b[1;32m     34\u001b[0m     process_edge(v, t)  \n\u001b[0;32m---> 35\u001b[0m     \u001b[43mDFS\u001b[49m\u001b[43m(\u001b[49m\u001b[43mt\u001b[49m\u001b[43m)\u001b[49m  \u001b[38;5;66;03m# recursively call DFS\u001b[39;00m\n\u001b[1;32m     37\u001b[0m \u001b[38;5;28;01melif\u001b[39;00m v\u001b[38;5;241m.\u001b[39mparent \u001b[38;5;241m!=\u001b[39m t:  \u001b[38;5;66;03m# if edge t had found, but current node is not parent\u001b[39;00m\n\u001b[1;32m     38\u001b[0m     \u001b[38;5;66;03m# -- back/cross/forward edge --\u001b[39;00m\n\u001b[1;32m     39\u001b[0m     process_edge(v, t)  \u001b[38;5;66;03m# 邊緣分類\u001b[39;00m\n",
            "Cell \u001b[0;32mIn[9], line 39\u001b[0m, in \u001b[0;36mDFS\u001b[0;34m(v)\u001b[0m\n\u001b[1;32m     35\u001b[0m         DFS(t)  \u001b[38;5;66;03m# recursively call DFS\u001b[39;00m\n\u001b[1;32m     37\u001b[0m     \u001b[38;5;28;01melif\u001b[39;00m v\u001b[38;5;241m.\u001b[39mparent \u001b[38;5;241m!=\u001b[39m t:  \u001b[38;5;66;03m# if edge t had found, but current node is not parent\u001b[39;00m\n\u001b[1;32m     38\u001b[0m         \u001b[38;5;66;03m# -- back/cross/forward edge --\u001b[39;00m\n\u001b[0;32m---> 39\u001b[0m         \u001b[43mprocess_edge\u001b[49m\u001b[43m(\u001b[49m\u001b[43mv\u001b[49m\u001b[43m,\u001b[49m\u001b[43m \u001b[49m\u001b[43mt\u001b[49m\u001b[43m)\u001b[49m  \u001b[38;5;66;03m# 邊緣分類\u001b[39;00m\n\u001b[1;32m     40\u001b[0m process_vertex_late(v)\n\u001b[1;32m     41\u001b[0m v\u001b[38;5;241m.\u001b[39mprocessed \u001b[38;5;241m=\u001b[39m \u001b[38;5;28;01mTrue\u001b[39;00m\n",
            "Cell \u001b[0;32mIn[13], line 13\u001b[0m, in \u001b[0;36mprocess_edge\u001b[0;34m(u, v)\u001b[0m\n\u001b[1;32m     11\u001b[0m cycle\u001b[38;5;241m.\u001b[39mappend(v\u001b[38;5;241m.\u001b[39mlabel)\n\u001b[1;32m     12\u001b[0m \u001b[38;5;28mprint\u001b[39m(\u001b[38;5;124m\"\u001b[39m\u001b[38;5;124mCycle detected:\u001b[39m\u001b[38;5;124m\"\u001b[39m, \u001b[38;5;124m\"\u001b[39m\u001b[38;5;124m → \u001b[39m\u001b[38;5;124m\"\u001b[39m\u001b[38;5;241m.\u001b[39mjoin(\u001b[38;5;28mmap\u001b[39m(\u001b[38;5;28mstr\u001b[39m, cycle)))\n\u001b[0;32m---> 13\u001b[0m \u001b[38;5;28;01mraise\u001b[39;00m \u001b[38;5;167;01mRuntimeError\u001b[39;00m(\u001b[38;5;124mf\u001b[39m\u001b[38;5;124m\"\u001b[39m\u001b[38;5;124mCycle detected: \u001b[39m\u001b[38;5;132;01m{\u001b[39;00m\u001b[38;5;124m'\u001b[39m\u001b[38;5;124m→\u001b[39m\u001b[38;5;124m'\u001b[39m\u001b[38;5;241m.\u001b[39mjoin(\u001b[38;5;28mmap\u001b[39m(\u001b[38;5;28mstr\u001b[39m,\u001b[38;5;250m \u001b[39mcycle))\u001b[38;5;132;01m}\u001b[39;00m\u001b[38;5;124m\"\u001b[39m)\n",
            "\u001b[0;31mRuntimeError\u001b[0m: Cycle detected: 1→5→4→3→2→1"
          ]
        }
      ],
      "source": [
        "\n",
        "def process_edge(u:GraphVertex, v:GraphVertex):\n",
        "    # 只有在 v 已發現且又不是從 u 遞歸下來的樹邊時，才算無向圖的回邊／cycle\n",
        "    \n",
        "    if v.discovered and v is not u.parent:  # v is not u.parent --> parent of v isn't u\n",
        "        # 重建 cycle 路徑：v → … → u → v\n",
        "        cycle = [v.label]   \n",
        "        x = u    \n",
        "        while x.label != v.label:\n",
        "            cycle.append(x.label)\n",
        "            x = x.parent\n",
        "        cycle.append(v.label)\n",
        "        print(\"Cycle detected:\", \" → \".join(map(str, cycle)))\n",
        "        raise RuntimeError(f\"Cycle detected: {'→'.join(map(str, cycle))}\")\n",
        "    \n",
        "edge_list=[[1,2],[2,1],[1,5],[5,1],[1,6],[6,1],[2,3],[3,2],[2,5],[5,2],[3,4],[4,3],[4,5],[5,4]]\n",
        "graph = initial_graph(7,edge_list)\n",
        "DFS(graph[1])"
      ]
    },
    {
      "cell_type": "markdown",
      "metadata": {
        "id": "h1Bjm9cDWH3N"
      },
      "source": [
        "# Topological Sorting"
      ]
    },
    {
      "cell_type": "code",
      "execution_count": 14,
      "metadata": {
        "id": "YkAJYIqu62Zn"
      },
      "outputs": [
        {
          "name": "stdout",
          "output_type": "stream",
          "text": [
            "Processing vertex 0\n",
            "Processing vertex 1\n",
            "Processing vertex 2\n",
            "Processing vertex 3\n",
            "Processing vertex 5\n",
            "Processing vertex 4\n",
            "Processing vertex 6\n",
            "[0, 1, 2, 3, 6, 5, 4]\n"
          ]
        },
        {
          "data": {
            "image/png": "[encoded data removed]",
            "text/plain": [
              "<Figure size 640x480 with 1 Axes>"
            ]
          },
          "metadata": {},
          "output_type": "display_data"
        }
      ],
      "source": [
        "order = []\n",
        "def process_vertex_late(v:GraphVertex):\n",
        "    order.insert(0, v.label)\n",
        "\n",
        "def process_edge(i:GraphVertex, j:GraphVertex):\n",
        "    if edge_classification(i, j) == EdgeType.BACK:\n",
        "        print(f\"Cycle found from {i.label} to {j.label}\")\n",
        "\n",
        "edge_list=[[0,1],[0,6],[1,2],[1,3],[2,3],[2,4],[3,5],[3,6],[5,4],[6,5]]\n",
        "graph = initial_graph(7,edge_list)\n",
        "DFS(graph[0])\n",
        "print(order)\n",
        "\n",
        "import networkx as nx\n",
        "# graph = nx.Graph()\n",
        "graph = nx.DiGraph(directed=True)\n",
        "graph.add_nodes_from(range(1,7))\n",
        "graph.add_edges_from(edge_list)\n",
        "nx.draw_networkx(graph, arrows=True, arrowstyle='-|>', arrowsize=12, with_labels=True, font_weight='bold')"
      ]
    },
    {
      "cell_type": "code",
      "execution_count": 15,
      "metadata": {
        "id": "bWyIdna7WQZr"
      },
      "outputs": [
        {
          "name": "stdout",
          "output_type": "stream",
          "text": [
            "[0, 1, 2, 3, 6, 5, 4]\n"
          ]
        }
      ],
      "source": [
        "def topsort(graph:list)->list:\n",
        "    zeroin = [] # queue for vertices with in-degree 0\n",
        "    sorted = []\n",
        "    indeg = [0 for v in graph] # in-degrees of all vertices\n",
        "    for v in graph: # compute in-degrees\n",
        "        for e in v.edges:\n",
        "            indeg[e.label] += 1\n",
        "    for idx,i in enumerate(indeg):\n",
        "        if i == 0:\n",
        "            zeroin.append(graph[i])\n",
        "    j = 0\n",
        "    while zeroin:\n",
        "        j += 1\n",
        "        x = zeroin.pop(0)\n",
        "        sorted.append(x.label)\n",
        "        for e in x.edges:\n",
        "            indeg[e.label] -= 1\n",
        "            if indeg[e.label] == 0:\n",
        "                zeroin.append(e)\n",
        "    if j != len(graph):\n",
        "        print(f\"Not a DAG -- only {j} vertices found.\")\n",
        "    return sorted\n",
        "\n",
        "edge_list=[[0,1],[0,6],[1,2],[1,3],[2,3],[2,4],[3,5],[3,6],[5,4],[6,5]]\n",
        "graph = initial_graph(7,edge_list)\n",
        "print(topsort(graph))"
      ]
    },
    {
      "cell_type": "code",
      "execution_count": null,
      "metadata": {
        "id": "2DxSDIaVPBKv"
      },
      "outputs": [],
      "source": []
    }
  ],
  "metadata": {
    "colab": {
      "provenance": [],
      "toc_visible": true
    },
    "kernelspec": {
      "display_name": "Python 3",
      "name": "python3"
    },
    "language_info": {
      "codemirror_mode": {
        "name": "ipython",
        "version": 3
      },
      "file_extension": ".py",
      "mimetype": "text/x-python",
      "name": "python",
      "nbconvert_exporter": "python",
      "pygments_lexer": "ipython3",
      "version": "3.12.9"
    }
  },
  "nbformat": 4,
  "nbformat_minor": 0
}
