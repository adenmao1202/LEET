{
 "cells": [
  {
   "cell_type": "markdown",
   "metadata": {},
   "source": [
    "1. marking vertices 頂點\n",
    "process \n",
    "- undiscovered \n",
    "- discovered \n",
    "- processed \n",
    "\n",
    "\n",
    "2. BFS : shortest paths on unweighted graphs "
   ]
  },
  {
   "cell_type": "markdown",
   "metadata": {},
   "source": [
    "DFS \n",
    "- tree edge \n",
    "    - 從 parent 到 child 的 edge \n",
    "    - x is parent of y \n",
    "\n",
    "- back edge : \n",
    "    - 從 child 回到 parent 的 edge \n",
    "    - have loop \n",
    "    - y 已經被發現但還沒處理完 ( 因為 x 尚未完成處理 )\n",
    "\n",
    "- forward edge : \n",
    "    - 從 parent 到 child 的 edge \n",
    "    - y 已處理完，且 x.distance > = y.distance\n",
    "    - normally in directed graph \n",
    "\n",
    "- cross edge : \n",
    "    - 連接不同 child 的 edge \n",
    "    - y 已處理完，且 x.distance < y.distance\n",
    "    \n",
    "\n",
    " \n",
    "    "
   ]
  },
  {
   "cell_type": "markdown",
   "metadata": {},
   "source": [
    "### Identity : \n",
    "- In a DFS of an undirected graph, every edge is either:\n",
    "    - a tree edge \n",
    "    - a back edge\n",
    "    - why \n",
    "        - In an undirected graph, each edge will be explored twice (from two directions)\n",
    "        - If we go from A to B, then B must become a child of A in the DFS tree\n",
    "        - Or B has already been discovered, forming a back edge\n",
    "- 肢接頂點 Def : O(n + m ) method : \n",
    "    - In a DFS tree, a vertex 𝑣(other than the root) is an \"articulation vertex\" iff 𝑣 is not a leaf and some subtree of 𝑣 has no back edge incident until a proper ancestor of 𝑣\n",
    "    - 找肢接頂點不用一個個刪然後DFS檢測連接性，只要一\n",
    "    次DFS就能判定：非root、非leaf、有子樹沒back edge到上代頂點，就是了\n",
    "\n"
   ]
  },
  {
   "cell_type": "markdown",
   "metadata": {},
   "source": [
    "### edge \n",
    "- forward edge : \n",
    "    - A → B → C\n",
    "    - (A到C就是前向邊)\n",
    "- back edge : \n",
    "    - A → B\n",
    "    - ↖\n",
    "    - (B到A就是回邊)\n",
    "    - 從一個節點指向它的祖先節點\n",
    "- cross edge : \n",
    "    - A → B   C → D\n",
    "    - ↘       ↗\n",
    "    -     E\n",
    "    - (B到D或C到B就是交叉邊)\n",
    "    - 連接兩個不同子樹的節點\n",
    "    - 這兩個節點不在彼此的祖先-後代關係中\n",
    "\n",
    "- tree edge : \n",
    "    - A → B\n",
    "    - ↘\n",
    "    -   C\n",
    "    - (A到B和A到C都是樹邊)\n",
    "    - 樹邊：在DFS樹中形成的邊\n",
    "    - 直接連接父節點和子節點的邊\n",
    "    "
   ]
  },
  {
   "cell_type": "markdown",
   "metadata": {},
   "source": [
    "### SCC (Strongly Connected Component) \n",
    "- 強連通分量是圖中的一個子集，其中每個節點都可以互相到達\n",
    "    - 例如：如果節點A可以到達B，B可以到達C，C可以到達A，那麼A、B、C就構成一個強連通分量\n",
    "\n",
    "- 最大性質：\n",
    "    - \"maximal\" 意味著不能再擴大這個分量\n",
    "    - 例如：如果A、B、C是強連通的，但D不能到達A，那麼A、B、C就是一個最大的強連通分量\n",
    "\n",
    "- 分割性質：partition \n",
    "    - \"每個節點只能屬於一個最大的強連通分量\"\n",
    "    - 這意味著強連通分量之間是完全分離的\n",
    "    - 例如：如果節點A屬於某個強連通分量，它就不能屬於另一個不同的強連通分量"
   ]
  },
  {
   "cell_type": "markdown",
   "metadata": {},
   "source": [
    "### Bipartite Matching \n",
    "1. network flow \n",
    "    - inflow = outflow \n",
    "\n",
    "2. residual flow \n",
    "    \n"
   ]
  },
  {
   "cell_type": "markdown",
   "metadata": {},
   "source": []
  }
 ],
 "metadata": {
  "language_info": {
   "name": "python"
  }
 },
 "nbformat": 4,
 "nbformat_minor": 2
}
