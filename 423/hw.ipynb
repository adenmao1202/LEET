{
 "cells": [
  {
   "cell_type": "code",
   "execution_count": null,
   "metadata": {},
   "outputs": [],
   "source": [
    "\"\"\" \n",
    "\n",
    "A city has n intersections and m bidirectional roads connecting pairs of intersections. Each road has a certain traffic flow capacity, measured in cars per minute. There is a path from every intersection to every other intersection along some sequence of roads. The road maintenance department is over budget and needs to close as many roads as possible without disconnecting any intersections. They want to do it in such a way that the minimum capacity among all of the remaining roads is as large as possible.\n",
    "\n",
    "Write a method in python as following :\n",
    "\n",
    "def traffic_capacity(city:list)->int:\n",
    "To take as input a city graph representing as an adjacency list which is a list of instances of Intersection class, return the value of the minimum capacity among remaining roads.\n",
    "\n",
    "Hint: Get the Maximum Spanning Tree, then find the road with minimal capacity in tree.\n",
    "\n",
    "The Intersection & Road classes and initial_city method are included and declared as:\n",
    "\n",
    "class Intersection:\n",
    "    def __init__(self, label):\n",
    "        self.label = label\n",
    "        self.candidate = None #Candidate mst edge\n",
    "        self.intree = False #Is the intersection in the tree yet?\n",
    "        self.parent = None #The intersection discover me\n",
    "        self.roads = [] #Roads in Adjacency List\n",
    "\n",
    "class Road:\n",
    "    def __init__(self, source, destination, capacity):\n",
    "        self.source = source\n",
    "        self.destination = destination\n",
    "        self.capacity = capacity\n",
    "\n",
    "def initial_city(n:int, road_list:list)->list:\n",
    "    city = []\n",
    "    for i in range(n):\n",
    "        city.append(Intersection(i))\n",
    "    for r in road_list:\n",
    "        if 0 <= r[0] < n and 0 <= r[1] < n:\n",
    "            city[r[0]].roads.append(Road(city[r[0]], city[r[1]], r[2]))\n",
    "            city[r[1]].roads.append(Road(city[r[1]], city[r[0]], r[2]))\n",
    "    return city\n",
    "Note: This program already includes class Intersection, Road, you can use them directly, don't rewrite them.\n",
    "\n",
    "For example:\n",
    "\n",
    "Test\tResult\n",
    "print(traffic_capacity(initial_city(3, [[0,1,10],[0,1,20],[0,0,30]])))\n",
    "20\n",
    "print(traffic_capacity(initial_city(5, [[0,1,1],[3,1,2],[1,2,3],[2,3,4],[0,2,5]])))\n",
    "3\n",
    "\n",
    "\n",
    "\n",
    "\"\"\" "
   ]
  },
  {
   "cell_type": "markdown",
   "metadata": {},
   "source": [
    "given "
   ]
  },
  {
   "cell_type": "code",
   "execution_count": 3,
   "metadata": {},
   "outputs": [],
   "source": [
    "\n",
    "class Intersection:\n",
    "    def __init__(self, label):\n",
    "        self.label = label\n",
    "        self.candidate = None #Candidate mst edge\n",
    "        self.intree = False #Is the intersection in the tree yet?\n",
    "        self.parent = None #The intersection discover me\n",
    "        self.roads = [] #Roads in Adjacency List\n",
    "\n",
    "class Road:\n",
    "    def __init__(self, source, destination, capacity):\n",
    "        self.source = source\n",
    "        self.destination = destination\n",
    "        self.capacity = capacity\n",
    "\n",
    "def initial_city(n:int, road_list:list)->list:\n",
    "    city = []\n",
    "    for i in range(n):\n",
    "        city.append(Intersection(i))\n",
    "    for r in road_list:\n",
    "        if 0 <= r[0] < n and 0 <= r[1] < n:\n",
    "            city[r[0]].roads.append(Road(city[r[0]], city[r[1]], r[2]))\n",
    "            city[r[1]].roads.append(Road(city[r[1]], city[r[0]], r[2]))\n",
    "    return city"
   ]
  },
  {
   "cell_type": "code",
   "execution_count": null,
   "metadata": {},
   "outputs": [],
   "source": [
    "def traffic_capacity(city: list) -> int:\n",
    "    def max_kruskal(city):\n",
    "        # 找到所有邊，並按容量降序排序\n",
    "        edges = []\n",
    "        for intersection in city:\n",
    "            for road in intersection.roads:\n",
    "                if road.source.label < road.destination.label:\n",
    "                    edges.append(road)\n",
    "        edges.sort(key=lambda x: x.capacity, reverse=True)\n",
    "        \n",
    "        # 初始化聯集-查找\n",
    "        parent = {i: i for i in range(len(city))}\n",
    "        \n",
    "        def find(x):\n",
    "            if parent[x] != x:\n",
    "                parent[x] = find(parent[x])\n",
    "            return parent[x]\n",
    "        \n",
    "        def union(x, y):\n",
    "            rootX = find(x)\n",
    "            rootY = find(y)\n",
    "            if rootX != rootY:\n",
    "                parent[rootX] = rootY\n",
    "                return True\n",
    "            return False\n",
    "        \n",
    "        # 建構最大生成樹\n",
    "        max_tree = []\n",
    "        for edge in edges:\n",
    "            if union(edge.source.label, edge.destination.label):\n",
    "                max_tree.append(edge)\n",
    "        \n",
    "        return max_tree\n",
    "    \n",
    "    # 建構最大生成樹\n",
    "    max_tree = max_kruskal(city)\n",
    "    \n",
    "    # 找最大生成樹中最小的邊\n",
    "    if not max_tree:\n",
    "        return 0\n",
    "    return min(edge.capacity for edge in max_tree)"
   ]
  },
  {
   "cell_type": "code",
   "execution_count": 6,
   "metadata": {},
   "outputs": [
    {
     "data": {
      "text/plain": [
       "20"
      ]
     },
     "execution_count": 6,
     "metadata": {},
     "output_type": "execute_result"
    }
   ],
   "source": [
    "city = initial_city(3, [[0,1,10],[0,1,20],[0,0,30]])\n",
    "traffic_capacity(city)"
   ]
  },
  {
   "cell_type": "code",
   "execution_count": 10,
   "metadata": {},
   "outputs": [
    {
     "data": {
      "text/plain": [
       "\" \\nThe Department of Transportation is considering adding a new section of highway to the Highway System. Each highway section connects two cities. City officials have submitted proposals for the new highway—each proposal includes the pair of cities being connected and the length of the section.\\n\\nWrite a method in python as following :\\n\\ndef find_best_proposal(highways:list, proposals:list, n:int)->list:\\nTakes highways for the existing highway network \\n(specified as a set of highway sections between pairs of cities),\\nproposals for new highway sections and number of cities n, \\nand returns the proposed highway section in form of : \\n[city1, city2, distance] \\n--> which leads to the most improvement in the total driving distance. \\n\\nThe total driving distance is defined to be : \\nthe sum of the shortest path distances between all pairs of cities. \\n\\nAll sections, existing and proposed, allow for bi-directional traffic, and the original network is connected.\\n\\nHint:\\n\\n1.Suppose we add a new section from a to b. If the shortest path from u to v passes through this section, what must be true of the part of the path from u to a ?\\n\\n2.You could use following statement to initial adjacency matrix M.\\n\\nM = [x[:] for x in [[float('inf')]*n]*n]\\nfor i in range(n):\\n    M[i][i] = 0\\n\\n\\n\\n# For example:\\n\\nTest\\tResult\\nhighways = [[0, 1, 3498], [1, 2, 5589], [2, 3, 2131], [3, 4, 277], [4, 5, 7148], [2, 5, 7337], [5, 1, 8379], [5, 0, 5562]]\\nproposals = [[4, 0, 20], [2, 4, 50], [1, 3, 48]]\\nprint(find_best_proposal(highways, proposals, 6))\\n--> [4, 0, 20]\\nhighways = [[0, 1, 2720], [1, 2, 3842], [2, 3, 113], [3, 4, 2418], [4, 5, 7213], [3, 0, 4965], [0, 5, 3848], [1, 5, 9469], [2, 5, 8578]]\\nproposals = [[4, 2, 25], [3, 1, 6], [4, 0, 37]]\\nprint(find_best_proposal(highways, proposals, 6))\\n--> [4, 0, 37]\\n\""
      ]
     },
     "execution_count": 10,
     "metadata": {},
     "output_type": "execute_result"
    }
   ],
   "source": [
    "\"\"\" \n",
    "The Department of Transportation is considering adding a new section of highway to the Highway System. Each highway section connects two cities. City officials have submitted proposals for the new highway—each proposal includes the pair of cities being connected and the length of the section.\n",
    "\n",
    "Write a method in python as following :\n",
    "\n",
    "def find_best_proposal(highways:list, proposals:list, n:int)->list:\n",
    "Takes highways for the existing highway network \n",
    "(specified as a set of highway sections between pairs of cities),\n",
    "proposals for new highway sections and number of cities n, \n",
    "and returns the proposed highway section in form of : \n",
    "[city1, city2, distance] \n",
    "--> which leads to the most improvement in the total driving distance. \n",
    "\n",
    "The total driving distance is defined to be : \n",
    "the sum of the shortest path distances between all pairs of cities. \n",
    "\n",
    "All sections, existing and proposed, allow for bi-directional traffic, and the original network is connected.\n",
    "\n",
    "Hint:\n",
    "\n",
    "1.Suppose we add a new section from a to b. If the shortest path from u to v passes through this section, what must be true of the part of the path from u to a ?\n",
    "\n",
    "2.You could use following statement to initial adjacency matrix M.\n",
    "\n",
    "M = [x[:] for x in [[float('inf')]*n]*n]\n",
    "for i in range(n):\n",
    "    M[i][i] = 0\n",
    "\n",
    "\n",
    "\n",
    "# For example:\n",
    "\n",
    "Test\tResult\n",
    "highways = [[0, 1, 3498], [1, 2, 5589], [2, 3, 2131], [3, 4, 277], [4, 5, 7148], [2, 5, 7337], [5, 1, 8379], [5, 0, 5562]]\n",
    "proposals = [[4, 0, 20], [2, 4, 50], [1, 3, 48]]\n",
    "print(find_best_proposal(highways, proposals, 6))\n",
    "--> [4, 0, 20]\n",
    "highways = [[0, 1, 2720], [1, 2, 3842], [2, 3, 113], [3, 4, 2418], [4, 5, 7213], [3, 0, 4965], [0, 5, 3848], [1, 5, 9469], [2, 5, 8578]]\n",
    "proposals = [[4, 2, 25], [3, 1, 6], [4, 0, 37]]\n",
    "print(find_best_proposal(highways, proposals, 6))\n",
    "--> [4, 0, 37]\n",
    "\"\"\" "
   ]
  },
  {
   "cell_type": "code",
   "execution_count": 11,
   "metadata": {},
   "outputs": [],
   "source": [
    "def find_best_proposal(highways: list, proposals: list, n: int) -> list:\n",
    "    # 初始化鄰接矩陣\n",
    "    M = [[float('inf')] * n for _ in range(n)]\n",
    "    for i in range(n):\n",
    "        M[i][i] = 0\n",
    "    \n",
    "    # 填入現有的高速公路\n",
    "    for h in highways:\n",
    "        M[h[0]][h[1]] = h[2]\n",
    "        M[h[1]][h[0]] = h[2]  # 雙向交通\n",
    "    \n",
    "    # 使用Floyd-Warshall算法計算所有最短路徑\n",
    "    for k in range(n):\n",
    "        for i in range(n):\n",
    "            for j in range(n):\n",
    "                if M[i][k] + M[k][j] < M[i][j]:\n",
    "                    M[i][j] = M[i][k] + M[k][j]\n",
    "    \n",
    "    # 計算現有路網的總距離\n",
    "    current_total = sum(M[i][j] for i in range(n) for j in range(i+1, n))\n",
    "    \n",
    "    best_proposal = None\n",
    "    best_improvement = 0\n",
    "    \n",
    "    # 評估每個提案\n",
    "    for p in proposals:\n",
    "        a, b, d = p\n",
    "        \n",
    "        # 創建新的距離矩陣（加入新路段）\n",
    "        new_M = [row[:] for row in M]\n",
    "        \n",
    "        # 加入新路段\n",
    "        if d < new_M[a][b]:\n",
    "            new_M[a][b] = d\n",
    "            new_M[b][a] = d\n",
    "            \n",
    "            # 重新運行Floyd-Warshall算法\n",
    "            for k in range(n):\n",
    "                for i in range(n):\n",
    "                    for j in range(n):\n",
    "                        if new_M[i][k] + new_M[k][j] < new_M[i][j]:\n",
    "                            new_M[i][j] = new_M[i][k] + new_M[k][j]\n",
    "        \n",
    "        # 計算新的總距離\n",
    "        new_total = sum(new_M[i][j] for i in range(n) for j in range(i+1, n))\n",
    "        improvement = current_total - new_total\n",
    "        \n",
    "        # 更新最佳提案\n",
    "        if improvement > best_improvement:\n",
    "            best_improvement = improvement\n",
    "            best_proposal = p\n",
    "    \n",
    "    return best_proposal"
   ]
  },
  {
   "cell_type": "code",
   "execution_count": 12,
   "metadata": {},
   "outputs": [
    {
     "name": "stdout",
     "output_type": "stream",
     "text": [
      "[4, 0, 20]\n"
     ]
    }
   ],
   "source": [
    "highways = [[0, 1, 3498], [1, 2, 5589], [2, 3, 2131], [3, 4, 277], [4, 5, 7148], [2, 5, 7337], [5, 1, 8379], [5, 0, 5562]]\n",
    "proposals = [[4, 0, 20], [2, 4, 50], [1, 3, 48]]\n",
    "print(find_best_proposal(highways, proposals, 6))"
   ]
  },
  {
   "cell_type": "code",
   "execution_count": null,
   "metadata": {},
   "outputs": [],
   "source": []
  }
 ],
 "metadata": {
  "kernelspec": {
   "display_name": "Python 3",
   "language": "python",
   "name": "python3"
  },
  "language_info": {
   "codemirror_mode": {
    "name": "ipython",
    "version": 3
   },
   "file_extension": ".py",
   "mimetype": "text/x-python",
   "name": "python",
   "nbconvert_exporter": "python",
   "pygments_lexer": "ipython3",
   "version": "3.12.9"
  }
 },
 "nbformat": 4,
 "nbformat_minor": 2
}
