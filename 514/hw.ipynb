{
 "cells": [
  {
   "cell_type": "code",
   "execution_count": null,
   "metadata": {},
   "outputs": [],
   "source": [
    "\"\"\" \n",
    "A certain string processing language allows the programmer to break a string into two pieces. Since this involves copying the old string, it costs n units of time to break a string of n characters into two pieces.\n",
    "Suppose a programmer wants to break a string into many pieces. The order in which the breaks are made can affect the total amount of time used.\n",
    "For example suppose we wish to break a 20 character string after characters 3,8, and 10. The minimum total units of time are made in breaking at 10, 3, 8 in order, because the first break costs 20 units of time, the second break costs 10 units of time and the third break costs 7 units of time, a total of 37 steps.\n",
    "\n",
    "Write an efficient method in python as following :\n",
    "\n",
    "def cut_str(cuts:list, m:int, n:int)->int:\n",
    "to take the list of int cuts , the start index m and end index n as input, then return the minimum total units of time to cut the string starting from index m to n with breakpoints depicted in cuts list.\n",
    "\n",
    "Hint: You could use following statement to initialize the dynamic programming table.\n",
    "\n",
    "c = [x[:] for x in [[0]*len(cuts)]*len(cuts)]\n",
    "For example:\n",
    "\n",
    "Test\tResult\n",
    "cuts = [0,3,8,10,20]\n",
    "print(cut_str(cuts, 0, len(cuts)-1))\n",
    "37\n",
    "\n",
    "\n",
    "cuts = [0,3,8,10,14,20]                        \n",
    "print(cut_str(cuts, 0, len(cuts)-1))\n",
    "46\n",
    "\"\"\" "
   ]
  },
  {
   "cell_type": "code",
   "execution_count": 4,
   "metadata": {},
   "outputs": [],
   "source": [
    "def cut_str(cuts: list, m: int, n: int) -> int:\n",
    "    # Base case: if m and n are adjacent, no cut is needed\n",
    "    if m + 1 >= n:\n",
    "        return 0\n",
    "    \n",
    "    # Initialize dp table\n",
    "    # c[i][j] will represent the minimum cost to cut string from cuts[i] to cuts[j]\n",
    "    c = [[0 for _ in range(len(cuts))] for _ in range(len(cuts))]\n",
    "    \n",
    "    # Fill the dp table\n",
    "    # Consider different lengths of the subproblems\n",
    "    for length in range(2, n - m + 1):\n",
    "        for i in range(m, n - length + 1):\n",
    "            j = i + length\n",
    "            c[i][j] = float('inf')\n",
    "            \n",
    "            # Try different positions to make the first cut\n",
    "            for k in range(i + 1, j):\n",
    "                # Calculate cost: cost of cutting left part + cost of cutting right part + \n",
    "                # cost of current cut (which is the length of the segment: cuts[j] - cuts[i])\n",
    "                cost = c[i][k] + c[k][j] + cuts[j] - cuts[i]\n",
    "                if cost < c[i][j]:\n",
    "                    c[i][j] = cost\n",
    "    \n",
    "    return c[m][n]"
   ]
  },
  {
   "cell_type": "code",
   "execution_count": 5,
   "metadata": {},
   "outputs": [
    {
     "name": "stdout",
     "output_type": "stream",
     "text": [
      "37\n"
     ]
    }
   ],
   "source": [
    "cuts = [0,3,8,10,20]\n",
    "print(cut_str(cuts, 0, len(cuts)-1))\n"
   ]
  },
  {
   "cell_type": "code",
   "execution_count": 6,
   "metadata": {},
   "outputs": [
    {
     "name": "stdout",
     "output_type": "stream",
     "text": [
      "46\n"
     ]
    }
   ],
   "source": [
    "cuts = [0,3,8,10,14,20]                        \n",
    "print(cut_str(cuts, 0, len(cuts)-1))\n"
   ]
  },
  {
   "cell_type": "code",
   "execution_count": null,
   "metadata": {},
   "outputs": [],
   "source": [
    "\"\"\" \n",
    "Given a set of integers s, and a given target number T, determine it can find a subset of S which adds up exactly to get T. \n",
    "For example, within s=[1, 9, 2, 10, 5] there is a subset which adds up to T=22 but not T=23.\n",
    "\n",
    "Write an efficient method in python as following :\n",
    "\n",
    "def is_valid_subset_sum(s:list, T:int)->bool:\n",
    "to return True if there is a subset of s whose summation is T.\n",
    "\n",
    "Hint: You could use following statement to initialize the dynamic programming table M.\n",
    "\n",
    "M = [x[:] for x in [[False]*(T+1)]*(len(s)+1)]\n",
    "For example:\n",
    "\n",
    "Test\tResult\n",
    "print(is_valid_subset_sum([1,9,2,10,5],22))\n",
    "True\n",
    "\n",
    "\n",
    "print(is_valid_subset_sum([1,9,2,10,5],23))\n",
    "False\n",
    "\n",
    "\n",
    "\"\"\" "
   ]
  },
  {
   "cell_type": "code",
   "execution_count": 1,
   "metadata": {},
   "outputs": [],
   "source": [
    "def is_valid_subset_sum(s: list, T: int) -> bool:\n",
    "    # Edge cases\n",
    "    if T == 0:\n",
    "        return True\n",
    "    if not s or T < 0:\n",
    "        return False\n",
    "    \n",
    "    n = len(s)\n",
    "    \n",
    "    # Create DP table\n",
    "    # M[i][j] will be True if there is a subset of s[0..i-1] with sum equal to j\n",
    "    M = [[False for _ in range(T + 1)] for _ in range(n + 1)]\n",
    "    \n",
    "    # If sum is 0, then answer is True (empty subset)\n",
    "    for i in range(n + 1):\n",
    "        M[i][0] = True\n",
    "    \n",
    "    # Fill the DP table\n",
    "    for i in range(1, n + 1):\n",
    "        for j in range(1, T + 1):\n",
    "            # If current element is greater than the sum j, exclude it\n",
    "            if s[i-1] > j:\n",
    "                M[i][j] = M[i-1][j]\n",
    "            else:\n",
    "                # Check if we can get j by including or excluding the current element\n",
    "                M[i][j] = M[i-1][j] or M[i-1][j-s[i-1]]\n",
    "    \n",
    "    return M[n][T]"
   ]
  },
  {
   "cell_type": "code",
   "execution_count": 2,
   "metadata": {},
   "outputs": [
    {
     "name": "stdout",
     "output_type": "stream",
     "text": [
      "True\n"
     ]
    }
   ],
   "source": [
    "print(is_valid_subset_sum([1,9,2,10,5],22))"
   ]
  },
  {
   "cell_type": "code",
   "execution_count": 3,
   "metadata": {},
   "outputs": [
    {
     "name": "stdout",
     "output_type": "stream",
     "text": [
      "False\n"
     ]
    }
   ],
   "source": [
    "print(is_valid_subset_sum([1,9,2,10,5],23))"
   ]
  },
  {
   "cell_type": "code",
   "execution_count": null,
   "metadata": {},
   "outputs": [],
   "source": []
  }
 ],
 "metadata": {
  "kernelspec": {
   "display_name": "Python 3",
   "language": "python",
   "name": "python3"
  },
  "language_info": {
   "codemirror_mode": {
    "name": "ipython",
    "version": 3
   },
   "file_extension": ".py",
   "mimetype": "text/x-python",
   "name": "python",
   "nbconvert_exporter": "python",
   "pygments_lexer": "ipython3",
   "version": "3.12.9"
  }
 },
 "nbformat": 4,
 "nbformat_minor": 2
}
