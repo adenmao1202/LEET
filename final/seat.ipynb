{
 "cells": [
  {
   "cell_type": "code",
   "execution_count": 6,
   "metadata": {},
   "outputs": [
    {
     "data": {
      "text/plain": [
       "\" \\nTo protect against COVID-19, we must keep social distance. \\nSeats need to be rearranged one apart, including pre-arranged ones. \\nGiven a list of seats with 0's (empty) and 1's (pre-arranged), count available seats, excluding pre-arranged. \\nFor example, [1,0,0,0,1] returns 1, [0,0,1,0,0] returns 2.\\n\\n\""
      ]
     },
     "execution_count": 6,
     "metadata": {},
     "output_type": "execute_result"
    }
   ],
   "source": [
    "\"\"\" \n",
    "To protect against COVID-19, we must keep social distance. \n",
    "Seats need to be rearranged one apart, including pre-arranged ones. \n",
    "Given a list of seats with 0's (empty) and 1's (pre-arranged), count available seats, excluding pre-arranged. \n",
    "For example, [1,0,0,0,1] returns 1, [0,0,1,0,0] returns 2.\n",
    "\n",
    "\"\"\""
   ]
  },
  {
   "cell_type": "code",
   "execution_count": 8,
   "metadata": {},
   "outputs": [],
   "source": [
    "def maxSeats(seats):\n",
    "    count = 0\n",
    "    n = len(seats)\n",
    "    \n",
    "    for i in range(n):\n",
    "        if seats[i] == 0:  # 當前座位是空的\n",
    "            # 檢查左邊\n",
    "            left_ok = (i == 0) or (seats[i-1] == 0)\n",
    "            # 檢查右邊  \n",
    "            right_ok = (i == n-1) or (seats[i+1] == 0)\n",
    "            \n",
    "            if left_ok and right_ok:\n",
    "                seats[i] = 1  # 安排人坐下\n",
    "                count += 1\n",
    "    \n",
    "    return count"
   ]
  },
  {
   "cell_type": "code",
   "execution_count": 9,
   "metadata": {},
   "outputs": [
    {
     "data": {
      "text/plain": [
       "1"
      ]
     },
     "execution_count": 9,
     "metadata": {},
     "output_type": "execute_result"
    }
   ],
   "source": [
    "seat1 = [1, 0, 0, 0, 1]\n",
    "maxSeats(seat1)"
   ]
  },
  {
   "cell_type": "code",
   "execution_count": 10,
   "metadata": {},
   "outputs": [
    {
     "data": {
      "text/plain": [
       "2"
      ]
     },
     "execution_count": 10,
     "metadata": {},
     "output_type": "execute_result"
    }
   ],
   "source": [
    "seat2 = [0, 0, 1, 0, 0]\n",
    "maxSeats(seat2)"
   ]
  },
  {
   "cell_type": "code",
   "execution_count": 11,
   "metadata": {},
   "outputs": [
    {
     "data": {
      "text/plain": [
       "7"
      ]
     },
     "execution_count": 11,
     "metadata": {},
     "output_type": "execute_result"
    }
   ],
   "source": [
    "seat3 = [0, 0, 1, 0, 0, 0, 1, 0, 0, 0, 1, 0, 1, 0, 0, 0, 1, 1, 0, 0, 1, 1, 0, 0, 1, 1, 1, 1, 0, 0, 0, 0, 0, 0, 0]\n",
    "maxSeats(seat3)"
   ]
  },
  {
   "cell_type": "code",
   "execution_count": null,
   "metadata": {},
   "outputs": [],
   "source": []
  }
 ],
 "metadata": {
  "kernelspec": {
   "display_name": "Python 3",
   "language": "python",
   "name": "python3"
  },
  "language_info": {
   "codemirror_mode": {
    "name": "ipython",
    "version": 3
   },
   "file_extension": ".py",
   "mimetype": "text/x-python",
   "name": "python",
   "nbconvert_exporter": "python",
   "pygments_lexer": "ipython3",
   "version": "3.12.9"
  }
 },
 "nbformat": 4,
 "nbformat_minor": 2
}
