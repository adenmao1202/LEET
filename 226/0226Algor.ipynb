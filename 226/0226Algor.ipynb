{
  "cells": [
    {
      "cell_type": "markdown",
      "metadata": {
        "id": "Byn0-FgHJOnD"
      },
      "source": [
        "# 變數、資料型別與運算"
      ]
    },
    {
      "cell_type": "code",
      "execution_count": 1,
      "metadata": {
        "id": "yWMTxK-G76xH"
      },
      "outputs": [
        {
          "ename": "NameError",
          "evalue": "name 'age' is not defined",
          "output_type": "error",
          "traceback": [
            "\u001b[0;31m---------------------------------------------------------------------------\u001b[0m",
            "\u001b[0;31mNameError\u001b[0m                                 Traceback (most recent call last)",
            "Cell \u001b[0;32mIn[1], line 1\u001b[0m\n\u001b[0;32m----> 1\u001b[0m \u001b[43mage\u001b[49m\n",
            "\u001b[0;31mNameError\u001b[0m: name 'age' is not defined"
          ]
        }
      ],
      "source": [
        "age"
      ]
    },
    {
      "cell_type": "code",
      "execution_count": 2,
      "metadata": {
        "id": "mAiS4V5GBDqI"
      },
      "outputs": [],
      "source": [
        "age = 18"
      ]
    },
    {
      "cell_type": "code",
      "execution_count": 3,
      "metadata": {
        "id": "aECEtLWKCqRO"
      },
      "outputs": [
        {
          "data": {
            "text/plain": [
              "4391574304"
            ]
          },
          "execution_count": 3,
          "metadata": {},
          "output_type": "execute_result"
        }
      ],
      "source": [
        "id(age)"
      ]
    },
    {
      "cell_type": "code",
      "execution_count": 4,
      "metadata": {
        "id": "qubsaWHaCr9t"
      },
      "outputs": [],
      "source": [
        "value = age"
      ]
    },
    {
      "cell_type": "code",
      "execution_count": 5,
      "metadata": {
        "id": "vyPpwh2cCwHk"
      },
      "outputs": [
        {
          "data": {
            "text/plain": [
              "4391574304"
            ]
          },
          "execution_count": 5,
          "metadata": {},
          "output_type": "execute_result"
        }
      ],
      "source": [
        "id(value)"
      ]
    },
    {
      "cell_type": "code",
      "execution_count": 6,
      "metadata": {
        "id": "7hm2PzhKRPZn"
      },
      "outputs": [
        {
          "data": {
            "text/plain": [
              "19"
            ]
          },
          "execution_count": 6,
          "metadata": {},
          "output_type": "execute_result"
        }
      ],
      "source": [
        "age = age + 1\n",
        "age"
      ]
    },
    {
      "cell_type": "code",
      "execution_count": 7,
      "metadata": {
        "id": "CFdyAPgGRVoZ"
      },
      "outputs": [
        {
          "data": {
            "text/plain": [
              "4391574336"
            ]
          },
          "execution_count": 7,
          "metadata": {},
          "output_type": "execute_result"
        }
      ],
      "source": [
        "id(age)"
      ]
    },
    {
      "cell_type": "code",
      "execution_count": 8,
      "metadata": {
        "id": "3HWHVwCZRccn"
      },
      "outputs": [
        {
          "data": {
            "text/plain": [
              "18"
            ]
          },
          "execution_count": 8,
          "metadata": {},
          "output_type": "execute_result"
        }
      ],
      "source": [
        "value"
      ]
    },
    {
      "cell_type": "code",
      "execution_count": 9,
      "metadata": {
        "id": "z-tkq87X8zqn"
      },
      "outputs": [],
      "source": [
        "age -= 1"
      ]
    },
    {
      "cell_type": "code",
      "execution_count": 10,
      "metadata": {
        "id": "vlHkYMtU838Z"
      },
      "outputs": [
        {
          "data": {
            "text/plain": [
              "4391574304"
            ]
          },
          "execution_count": 10,
          "metadata": {},
          "output_type": "execute_result"
        }
      ],
      "source": [
        "id(age)"
      ]
    },
    {
      "cell_type": "code",
      "execution_count": 11,
      "metadata": {
        "id": "WffiK6JS88r5"
      },
      "outputs": [
        {
          "data": {
            "text/plain": [
              "18"
            ]
          },
          "execution_count": 11,
          "metadata": {},
          "output_type": "execute_result"
        }
      ],
      "source": [
        "age"
      ]
    },
    {
      "cell_type": "code",
      "execution_count": 12,
      "metadata": {
        "id": "wlqbrZPTCx5t"
      },
      "outputs": [],
      "source": [
        "a = 257"
      ]
    },
    {
      "cell_type": "code",
      "execution_count": 13,
      "metadata": {
        "id": "61qplQVKC9RE"
      },
      "outputs": [
        {
          "data": {
            "text/plain": [
              "4787691984"
            ]
          },
          "execution_count": 13,
          "metadata": {},
          "output_type": "execute_result"
        }
      ],
      "source": [
        "id(a)"
      ]
    },
    {
      "cell_type": "code",
      "execution_count": 14,
      "metadata": {
        "id": "LGxW38ad9OTw"
      },
      "outputs": [],
      "source": [
        "b = a"
      ]
    },
    {
      "cell_type": "code",
      "execution_count": 15,
      "metadata": {
        "id": "YZv_V1M-9PxP"
      },
      "outputs": [
        {
          "data": {
            "text/plain": [
              "4787691984"
            ]
          },
          "execution_count": 15,
          "metadata": {},
          "output_type": "execute_result"
        }
      ],
      "source": [
        "id(b)"
      ]
    },
    {
      "cell_type": "code",
      "execution_count": 16,
      "metadata": {
        "id": "gLzkmsGxC_X8"
      },
      "outputs": [],
      "source": [
        "b = 257"
      ]
    },
    {
      "cell_type": "code",
      "execution_count": 17,
      "metadata": {
        "id": "4oe9MVjYDBy8"
      },
      "outputs": [
        {
          "data": {
            "text/plain": [
              "4788165872"
            ]
          },
          "execution_count": 17,
          "metadata": {},
          "output_type": "execute_result"
        }
      ],
      "source": [
        "id(b)"
      ]
    },
    {
      "cell_type": "code",
      "execution_count": 18,
      "metadata": {
        "id": "hJxyatYL9cSn"
      },
      "outputs": [
        {
          "data": {
            "text/plain": [
              "True"
            ]
          },
          "execution_count": 18,
          "metadata": {},
          "output_type": "execute_result"
        }
      ],
      "source": [
        "a == b"
      ]
    },
    {
      "cell_type": "code",
      "execution_count": 19,
      "metadata": {
        "id": "wudkQEgz9eZ3"
      },
      "outputs": [
        {
          "data": {
            "text/plain": [
              "False"
            ]
          },
          "execution_count": 19,
          "metadata": {},
          "output_type": "execute_result"
        }
      ],
      "source": [
        "a is b"
      ]
    },
    {
      "cell_type": "code",
      "execution_count": 20,
      "metadata": {
        "id": "tYuzXDMISE1P"
      },
      "outputs": [
        {
          "data": {
            "text/plain": [
              "4787691984"
            ]
          },
          "execution_count": 20,
          "metadata": {},
          "output_type": "execute_result"
        }
      ],
      "source": [
        "c = a\n",
        "id(c)"
      ]
    },
    {
      "cell_type": "code",
      "execution_count": 21,
      "metadata": {
        "id": "DH_PfdWa9xPv"
      },
      "outputs": [
        {
          "data": {
            "text/plain": [
              "True"
            ]
          },
          "execution_count": 21,
          "metadata": {},
          "output_type": "execute_result"
        }
      ],
      "source": [
        "c is a"
      ]
    },
    {
      "cell_type": "code",
      "execution_count": 22,
      "metadata": {
        "id": "PESBACEWDDR9"
      },
      "outputs": [],
      "source": [
        "a = a - 1"
      ]
    },
    {
      "cell_type": "code",
      "execution_count": 23,
      "metadata": {
        "id": "SWOq8v4PDdKs"
      },
      "outputs": [
        {
          "data": {
            "text/plain": [
              "256"
            ]
          },
          "execution_count": 23,
          "metadata": {},
          "output_type": "execute_result"
        }
      ],
      "source": [
        "a"
      ]
    },
    {
      "cell_type": "code",
      "execution_count": 24,
      "metadata": {
        "id": "o8E1YRw-DeNF"
      },
      "outputs": [
        {
          "data": {
            "text/plain": [
              "4391581920"
            ]
          },
          "execution_count": 24,
          "metadata": {},
          "output_type": "execute_result"
        }
      ],
      "source": [
        "id(a)"
      ]
    },
    {
      "cell_type": "code",
      "execution_count": 25,
      "metadata": {
        "id": "ur-42eEySffX"
      },
      "outputs": [
        {
          "data": {
            "text/plain": [
              "257"
            ]
          },
          "execution_count": 25,
          "metadata": {},
          "output_type": "execute_result"
        }
      ],
      "source": [
        "c"
      ]
    },
    {
      "cell_type": "code",
      "execution_count": 26,
      "metadata": {
        "id": "o7aakAD5DiQu"
      },
      "outputs": [],
      "source": [
        "a = 18"
      ]
    },
    {
      "cell_type": "code",
      "execution_count": 27,
      "metadata": {
        "id": "T1ziPN6tDtBN"
      },
      "outputs": [
        {
          "data": {
            "text/plain": [
              "4391574304"
            ]
          },
          "execution_count": 27,
          "metadata": {},
          "output_type": "execute_result"
        }
      ],
      "source": [
        "id(18)"
      ]
    },
    {
      "cell_type": "code",
      "execution_count": 28,
      "metadata": {
        "id": "kF1drrgZDvI_"
      },
      "outputs": [
        {
          "name": "stdout",
          "output_type": "stream",
          "text": [
            "18\n"
          ]
        }
      ],
      "source": [
        "print(a)"
      ]
    },
    {
      "cell_type": "code",
      "execution_count": 29,
      "metadata": {
        "id": "ye3pQIjR-Z1Q"
      },
      "outputs": [
        {
          "name": "stdout",
          "output_type": "stream",
          "text": [
            "\u001b[0;31mSignature:\u001b[0m \u001b[0mprint\u001b[0m\u001b[0;34m(\u001b[0m\u001b[0;34m*\u001b[0m\u001b[0margs\u001b[0m\u001b[0;34m,\u001b[0m \u001b[0msep\u001b[0m\u001b[0;34m=\u001b[0m\u001b[0;34m' '\u001b[0m\u001b[0;34m,\u001b[0m \u001b[0mend\u001b[0m\u001b[0;34m=\u001b[0m\u001b[0;34m'\\n'\u001b[0m\u001b[0;34m,\u001b[0m \u001b[0mfile\u001b[0m\u001b[0;34m=\u001b[0m\u001b[0;32mNone\u001b[0m\u001b[0;34m,\u001b[0m \u001b[0mflush\u001b[0m\u001b[0;34m=\u001b[0m\u001b[0;32mFalse\u001b[0m\u001b[0;34m)\u001b[0m\u001b[0;34m\u001b[0m\u001b[0;34m\u001b[0m\u001b[0m\n",
            "\u001b[0;31mDocstring:\u001b[0m\n",
            "Prints the values to a stream, or to sys.stdout by default.\n",
            "\n",
            "sep\n",
            "  string inserted between values, default a space.\n",
            "end\n",
            "  string appended after the last value, default a newline.\n",
            "file\n",
            "  a file-like object (stream); defaults to the current sys.stdout.\n",
            "flush\n",
            "  whether to forcibly flush the stream.\n",
            "\u001b[0;31mType:\u001b[0m      builtin_function_or_method"
          ]
        }
      ],
      "source": [
        "print?"
      ]
    },
    {
      "cell_type": "markdown",
      "metadata": {
        "id": "kMf-jep6o8HZ"
      },
      "source": [
        "## 如果指派 print 為其他物件會發生什麼事？"
      ]
    },
    {
      "cell_type": "code",
      "execution_count": 30,
      "metadata": {
        "id": "kRC0HEQnEuxt"
      },
      "outputs": [],
      "source": [
        "# 最好先弄個別名保留原來 print 函式\n",
        "p = print"
      ]
    },
    {
      "cell_type": "code",
      "execution_count": 31,
      "metadata": {
        "id": "CStTpwbm-sCQ"
      },
      "outputs": [
        {
          "data": {
            "text/plain": [
              "builtin_function_or_method"
            ]
          },
          "execution_count": 31,
          "metadata": {},
          "output_type": "execute_result"
        }
      ],
      "source": [
        "type(p)"
      ]
    },
    {
      "cell_type": "code",
      "execution_count": null,
      "metadata": {
        "id": "K1l8FNnV-uW3"
      },
      "outputs": [],
      "source": [
        "id(p)"
      ]
    },
    {
      "cell_type": "code",
      "execution_count": null,
      "metadata": {
        "id": "IxUHGYYLpGqy"
      },
      "outputs": [],
      "source": [
        "print = 5"
      ]
    },
    {
      "cell_type": "code",
      "execution_count": null,
      "metadata": {
        "id": "27nEyxunExaE"
      },
      "outputs": [],
      "source": [
        "print(a)"
      ]
    },
    {
      "cell_type": "code",
      "execution_count": null,
      "metadata": {
        "id": "LiMaYu9FpPlW"
      },
      "outputs": [],
      "source": [
        "p(a)"
      ]
    },
    {
      "cell_type": "code",
      "execution_count": null,
      "metadata": {
        "id": "dpASPiLBEzH1"
      },
      "outputs": [],
      "source": [
        "c = a + print"
      ]
    },
    {
      "cell_type": "code",
      "execution_count": null,
      "metadata": {
        "id": "uiALTvzRE3E0"
      },
      "outputs": [],
      "source": [
        "c"
      ]
    },
    {
      "cell_type": "code",
      "execution_count": null,
      "metadata": {
        "id": "z969kp0fpaTV"
      },
      "outputs": [],
      "source": [
        "# 將 print 還原\n",
        "print = p"
      ]
    },
    {
      "cell_type": "code",
      "execution_count": null,
      "metadata": {
        "id": "r1uDkzK2_PPf"
      },
      "outputs": [],
      "source": [
        "print(a,c)"
      ]
    },
    {
      "cell_type": "code",
      "execution_count": null,
      "metadata": {
        "id": "WmZyjGOAGotc"
      },
      "outputs": [],
      "source": [
        "4/2, type(4/2)"
      ]
    },
    {
      "cell_type": "code",
      "execution_count": null,
      "metadata": {
        "id": "HaoxFnItKgjl"
      },
      "outputs": [],
      "source": [
        "4//2"
      ]
    },
    {
      "cell_type": "code",
      "execution_count": null,
      "metadata": {
        "id": "ztmdzXYrKrzW"
      },
      "outputs": [],
      "source": [
        "int(4/2)"
      ]
    },
    {
      "cell_type": "markdown",
      "metadata": {
        "id": "1VV6gGdQpBYf"
      },
      "source": [
        "## 判斷奇偶 % or & ?"
      ]
    },
    {
      "cell_type": "code",
      "execution_count": null,
      "metadata": {
        "colab": {
          "base_uri": "https://localhost:8080/"
        },
        "id": "kpvMnlZXVB0h",
        "outputId": "17a4e3ad-055c-46e2-9304-7d26353cafad"
      },
      "outputs": [
        {
          "name": "stdout",
          "output_type": "stream",
          "text": [
            "4.92 ns ± 0.234 ns per loop (mean ± std. dev. of 7 runs, 100000000 loops each)\n"
          ]
        }
      ],
      "source": [
        "%timeit 25000000000000000000000000008 % 2"
      ]
    },
    {
      "cell_type": "code",
      "execution_count": null,
      "metadata": {
        "colab": {
          "base_uri": "https://localhost:8080/"
        },
        "id": "Rn4bj7lKeKV5",
        "outputId": "44adc37e-bebf-42bb-cb63-cfee432e4713"
      },
      "outputs": [
        {
          "name": "stdout",
          "output_type": "stream",
          "text": [
            "5.84 ns ± 1.33 ns per loop (mean ± std. dev. of 7 runs, 100000000 loops each)\n"
          ]
        }
      ],
      "source": [
        "%timeit 25000000000000000000000000008 & 1"
      ]
    },
    {
      "cell_type": "code",
      "execution_count": null,
      "metadata": {
        "colab": {
          "base_uri": "https://localhost:8080/"
        },
        "id": "4Y7BKh0FCZoe",
        "outputId": "0259486b-2682-4a65-822d-a9444257e54d"
      },
      "outputs": [
        {
          "name": "stdout",
          "output_type": "stream",
          "text": [
            "4.86 ns ± 0.181 ns per loop (mean ± std. dev. of 7 runs, 100000000 loops each)\n"
          ]
        }
      ],
      "source": [
        "%timeit 258 % 2"
      ]
    },
    {
      "cell_type": "code",
      "execution_count": null,
      "metadata": {
        "colab": {
          "base_uri": "https://localhost:8080/"
        },
        "id": "QMS9-ae-CcUn",
        "outputId": "861272af-ab38-4f2a-da86-5bd40f2f3442"
      },
      "outputs": [
        {
          "name": "stdout",
          "output_type": "stream",
          "text": [
            "5.05 ns ± 0.205 ns per loop (mean ± std. dev. of 7 runs, 100000000 loops each)\n"
          ]
        }
      ],
      "source": [
        "%timeit 258 & 1"
      ]
    },
    {
      "cell_type": "markdown",
      "metadata": {
        "id": "LT-DpGXrpImG"
      },
      "source": [
        "## Chained Assignment"
      ]
    },
    {
      "cell_type": "code",
      "execution_count": null,
      "metadata": {
        "id": "VYHaMEw9bgtC"
      },
      "outputs": [],
      "source": [
        "# Chained Assignment\n",
        "a = b = 258"
      ]
    },
    {
      "cell_type": "code",
      "execution_count": null,
      "metadata": {
        "colab": {
          "base_uri": "https://localhost:8080/"
        },
        "id": "cei4wlp6C4ec",
        "outputId": "d2c2c56a-3416-4ddd-ae9c-125d5ad9fe64"
      },
      "outputs": [
        {
          "data": {
            "text/plain": [
              "(137934769547984, 137934769547984, True)"
            ]
          },
          "execution_count": 13,
          "metadata": {},
          "output_type": "execute_result"
        }
      ],
      "source": [
        "id(a),id(b), a is b"
      ]
    },
    {
      "cell_type": "code",
      "execution_count": null,
      "metadata": {
        "id": "sFBAWyjpKGTY"
      },
      "outputs": [],
      "source": [
        "a = 258\n",
        "b = 258"
      ]
    },
    {
      "cell_type": "code",
      "execution_count": null,
      "metadata": {
        "colab": {
          "base_uri": "https://localhost:8080/"
        },
        "id": "0SPCHPrkKK62",
        "outputId": "67bdef4e-2b69-4a3a-f6dc-6e224cc6c489"
      },
      "outputs": [
        {
          "data": {
            "text/plain": [
              "(137933801891728, 137933801894800, False)"
            ]
          },
          "execution_count": 15,
          "metadata": {},
          "output_type": "execute_result"
        }
      ],
      "source": [
        "id(a),id(b), a is b"
      ]
    },
    {
      "cell_type": "markdown",
      "metadata": {
        "id": "7EWY7Vp0pMcG"
      },
      "source": [
        "## 複合指派"
      ]
    },
    {
      "cell_type": "code",
      "execution_count": null,
      "metadata": {
        "id": "U8hEhUlcbpBe"
      },
      "outputs": [],
      "source": [
        "# 複合指派\n",
        "b += 2\n",
        "b"
      ]
    },
    {
      "cell_type": "markdown",
      "metadata": {
        "id": "w_rSyz0ZpSqZ"
      },
      "source": [
        "## float 精準度"
      ]
    },
    {
      "cell_type": "code",
      "execution_count": null,
      "metadata": {
        "id": "vjVUe_BwpWgM"
      },
      "outputs": [],
      "source": [
        "a = 1.1 * 3\n",
        "b = 3.3 * 1\n",
        "print(a == b)"
      ]
    },
    {
      "cell_type": "code",
      "execution_count": null,
      "metadata": {
        "id": "mr80YW9Zph7D"
      },
      "outputs": [],
      "source": [
        "a, b"
      ]
    },
    {
      "cell_type": "code",
      "execution_count": null,
      "metadata": {
        "id": "y8sXqI9uKwBq"
      },
      "outputs": [],
      "source": [
        "round(1.35,1)"
      ]
    },
    {
      "cell_type": "code",
      "execution_count": null,
      "metadata": {
        "id": "IJv5Btp-NBOk"
      },
      "outputs": [],
      "source": [
        "round(1.25,1)"
      ]
    },
    {
      "cell_type": "code",
      "execution_count": null,
      "metadata": {
        "id": "g6fklklHDeS2"
      },
      "outputs": [],
      "source": [
        "round?"
      ]
    },
    {
      "cell_type": "markdown",
      "metadata": {
        "id": "sHSeC4U9Jo6i"
      },
      "source": [
        "# String"
      ]
    },
    {
      "cell_type": "code",
      "execution_count": null,
      "metadata": {
        "id": "-s_A_JXeNDpi"
      },
      "outputs": [],
      "source": [
        "s = \"0123456789\"\n",
        "s"
      ]
    },
    {
      "cell_type": "code",
      "execution_count": null,
      "metadata": {
        "id": "SzpWClFAOp0Z"
      },
      "outputs": [],
      "source": [
        "s[0:0]"
      ]
    },
    {
      "cell_type": "code",
      "execution_count": null,
      "metadata": {
        "id": "yhf5cNBKc0QP"
      },
      "outputs": [],
      "source": [
        "s[0:1]"
      ]
    },
    {
      "cell_type": "code",
      "execution_count": null,
      "metadata": {
        "id": "aJKrxy6LOrax"
      },
      "outputs": [],
      "source": [
        "s[2:11:-3]"
      ]
    },
    {
      "cell_type": "code",
      "execution_count": null,
      "metadata": {
        "id": "j2OvSU9Wc_Q1"
      },
      "outputs": [],
      "source": [
        "s[11]"
      ]
    },
    {
      "cell_type": "code",
      "execution_count": null,
      "metadata": {
        "id": "UAsRqIABOvgZ"
      },
      "outputs": [],
      "source": [
        "s[11:2:-3]"
      ]
    },
    {
      "cell_type": "code",
      "execution_count": null,
      "metadata": {
        "id": "1KUBkqoBOz0I"
      },
      "outputs": [],
      "source": [
        "s[:2:-3]"
      ]
    },
    {
      "cell_type": "code",
      "execution_count": null,
      "metadata": {
        "id": "VS9sy02xO9Un"
      },
      "outputs": [],
      "source": [
        "s[::-3]"
      ]
    },
    {
      "cell_type": "code",
      "execution_count": null,
      "metadata": {
        "id": "0NG_HMIWPCqZ"
      },
      "outputs": [],
      "source": [
        "s[::-1]"
      ]
    },
    {
      "cell_type": "code",
      "execution_count": null,
      "metadata": {
        "id": "5ia3x9rxPFbo"
      },
      "outputs": [],
      "source": [
        "\"a\" in \"abc\""
      ]
    },
    {
      "cell_type": "markdown",
      "metadata": {
        "id": "E85hdRV0o1wK"
      },
      "source": [
        "## 判斷字串是否有某字元 in, find, count ?"
      ]
    },
    {
      "cell_type": "code",
      "execution_count": null,
      "metadata": {
        "colab": {
          "base_uri": "https://localhost:8080/"
        },
        "id": "ubjesDD0Qj_y",
        "outputId": "97f7970f-6f64-46b3-ab25-080797ece220"
      },
      "outputs": [
        {
          "name": "stdout",
          "output_type": "stream",
          "text": [
            "17 ns ± 2.02 ns per loop (mean ± std. dev. of 7 runs, 100000000 loops each)\n"
          ]
        }
      ],
      "source": [
        "# 判斷字串是否有某字元 in, find, count ?\n",
        "%timeit \"b\" in \"abc\""
      ]
    },
    {
      "cell_type": "code",
      "execution_count": null,
      "metadata": {
        "colab": {
          "base_uri": "https://localhost:8080/"
        },
        "id": "Fd1UBlDGTDgN",
        "outputId": "5cf3914a-5971-4336-b851-0a685e046a62"
      },
      "outputs": [
        {
          "name": "stdout",
          "output_type": "stream",
          "text": [
            "57.6 ns ± 1.31 ns per loop (mean ± std. dev. of 7 runs, 10000000 loops each)\n"
          ]
        }
      ],
      "source": [
        "%timeit \"abc\".find(\"b\")"
      ]
    },
    {
      "cell_type": "code",
      "execution_count": null,
      "metadata": {
        "colab": {
          "base_uri": "https://localhost:8080/"
        },
        "id": "8k1vC8GEQpgb",
        "outputId": "9299a85d-47e5-4287-a62d-297a843be7e7"
      },
      "outputs": [
        {
          "name": "stdout",
          "output_type": "stream",
          "text": [
            "60.4 ns ± 0.539 ns per loop (mean ± std. dev. of 7 runs, 10000000 loops each)\n"
          ]
        }
      ],
      "source": [
        "%timeit \"abc\".count(\"b\")"
      ]
    },
    {
      "cell_type": "code",
      "execution_count": null,
      "metadata": {
        "id": "kyJ2JQHUVj2R"
      },
      "outputs": [],
      "source": [
        "\"\" in \"abc\""
      ]
    },
    {
      "cell_type": "code",
      "execution_count": null,
      "metadata": {
        "id": "uolAqaRhVp0E"
      },
      "outputs": [],
      "source": [
        "\"abc\".find(\"\")"
      ]
    },
    {
      "cell_type": "code",
      "execution_count": null,
      "metadata": {
        "id": "QkHBwyVRVssd"
      },
      "outputs": [],
      "source": [
        "\"abc\".count(\"\")"
      ]
    },
    {
      "cell_type": "code",
      "execution_count": null,
      "metadata": {
        "id": "kjp8y9d5QzrI"
      },
      "outputs": [],
      "source": [
        "\"one\"+\"two\""
      ]
    },
    {
      "cell_type": "code",
      "execution_count": null,
      "metadata": {
        "id": "GGi290gWRQIx"
      },
      "outputs": [],
      "source": [
        "\"one\"+2"
      ]
    },
    {
      "cell_type": "code",
      "execution_count": null,
      "metadata": {
        "id": "EL--Q2GieNoW"
      },
      "outputs": [],
      "source": [
        "\"one\"+str(2)"
      ]
    },
    {
      "cell_type": "code",
      "execution_count": null,
      "metadata": {
        "id": "gE3vP4o3E4wc"
      },
      "outputs": [],
      "source": [
        "s = \"\"\"\n",
        "abc\n",
        "dfg\n",
        "\"\"\""
      ]
    },
    {
      "cell_type": "code",
      "execution_count": null,
      "metadata": {
        "id": "kvgOFY4jFm1F"
      },
      "outputs": [],
      "source": [
        "s"
      ]
    },
    {
      "cell_type": "code",
      "execution_count": null,
      "metadata": {
        "id": "sW6Xt33tFnbm"
      },
      "outputs": [],
      "source": [
        "print(s)"
      ]
    },
    {
      "cell_type": "code",
      "execution_count": null,
      "metadata": {
        "id": "Mcmqe1uZFqW_"
      },
      "outputs": [],
      "source": [
        "def func():\n",
        "  \"\"\"\n",
        "  this is a function\n",
        "  \"\"\""
      ]
    },
    {
      "cell_type": "code",
      "execution_count": null,
      "metadata": {
        "id": "tbVKa_UpGMv9"
      },
      "outputs": [],
      "source": [
        "help(func)"
      ]
    },
    {
      "cell_type": "code",
      "execution_count": null,
      "metadata": {
        "id": "XOjQIopMGO_r"
      },
      "outputs": [],
      "source": [
        "type(func())"
      ]
    },
    {
      "cell_type": "code",
      "execution_count": null,
      "metadata": {
        "id": "Bfn_EdEjGlhr"
      },
      "outputs": [],
      "source": [
        "print(func())"
      ]
    },
    {
      "cell_type": "code",
      "execution_count": null,
      "metadata": {
        "id": "p2k6p-3TJoUm"
      },
      "outputs": [],
      "source": [
        "help(str)"
      ]
    },
    {
      "cell_type": "code",
      "execution_count": null,
      "metadata": {
        "id": "9_Ta6rIEJylW"
      },
      "outputs": [],
      "source": [
        "\"variables have no spaces\".replace(\" \", \"_\")"
      ]
    },
    {
      "cell_type": "code",
      "execution_count": null,
      "metadata": {
        "id": "8xe9dUZKJ6_w"
      },
      "outputs": [],
      "source": [
        "\"variables have no spaces\".replace(\"\", \"_\")"
      ]
    },
    {
      "cell_type": "code",
      "execution_count": null,
      "metadata": {
        "id": "YTJ_kho8J9kY"
      },
      "outputs": [],
      "source": [
        "\"variables have no spaces\".replace(\" \", \"_\",1)"
      ]
    },
    {
      "cell_type": "markdown",
      "metadata": {
        "id": "9ML4XoTJJ8nb"
      },
      "source": [
        "# Tuple"
      ]
    },
    {
      "cell_type": "code",
      "execution_count": null,
      "metadata": {
        "id": "UGdeBvn_bboi"
      },
      "outputs": [],
      "source": [
        "T = (123,)\n",
        "type(T)"
      ]
    },
    {
      "cell_type": "code",
      "execution_count": null,
      "metadata": {
        "id": "jeipCoIofjjm"
      },
      "outputs": [],
      "source": [
        "T = (123)\n",
        "type(T)"
      ]
    },
    {
      "cell_type": "code",
      "execution_count": null,
      "metadata": {
        "id": "y1NSTpMSbtB-"
      },
      "outputs": [],
      "source": [
        "a,b"
      ]
    },
    {
      "cell_type": "code",
      "execution_count": null,
      "metadata": {
        "id": "8ozhlgRybyy2"
      },
      "outputs": [],
      "source": [
        "(a, b) = (b, a)"
      ]
    },
    {
      "cell_type": "code",
      "execution_count": null,
      "metadata": {
        "id": "g1FEfgQNcMO4"
      },
      "outputs": [],
      "source": [
        "a,b"
      ]
    },
    {
      "cell_type": "markdown",
      "metadata": {
        "id": "0IxHnToOK57i"
      },
      "source": [
        "# List"
      ]
    },
    {
      "cell_type": "code",
      "execution_count": null,
      "metadata": {
        "id": "Za26ATstbKjG"
      },
      "outputs": [],
      "source": [
        "# 可變\n",
        "L = [\"milk\", \"eggs\"]\n",
        "print(f\"id({id(L)})={L}\")\n",
        "L.append(\"bread\")  #原地新增\n",
        "print(f\"id({id(L)})={L}\")"
      ]
    },
    {
      "cell_type": "code",
      "execution_count": null,
      "metadata": {
        "id": "51Xw90zwbLra"
      },
      "outputs": [],
      "source": [
        "L2 = [\"milk\", \"eggs\"]\n",
        "print(f\"id({id(L2)})={L2}\")\n",
        "L2 = L2 + [\"bread\",] #新增為新串列\n",
        "print(f\"id({id(L2)})={L2}\")"
      ]
    },
    {
      "cell_type": "code",
      "execution_count": null,
      "metadata": {
        "id": "dJCWXPr-bOuk"
      },
      "outputs": [],
      "source": [
        "L2 = (\"milk\", \"eggs\")\n",
        "print(f\"id({id(L2)})={L2}\")\n",
        "L2 = L2 + (\"bread\",) #新增為新Tuple\n",
        "print(f\"id({id(L2)})={L2}\")"
      ]
    },
    {
      "cell_type": "code",
      "execution_count": null,
      "metadata": {
        "id": "T0jVYcMxWIYL"
      },
      "outputs": [],
      "source": [
        "l2d_1 = [[0]*9]*9"
      ]
    },
    {
      "cell_type": "code",
      "execution_count": null,
      "metadata": {
        "colab": {
          "base_uri": "https://localhost:8080/"
        },
        "id": "60uGWaFJdaFP",
        "outputId": "67e8e940-ced3-428b-e793-8ddddddc9bee"
      },
      "outputs": [
        {
          "data": {
            "text/plain": [
              "[[0, 0, 0, 0, 0, 0, 0, 0, 0],\n",
              " [0, 0, 0, 0, 0, 0, 0, 0, 0],\n",
              " [0, 0, 0, 0, 0, 0, 0, 0, 0],\n",
              " [0, 0, 0, 0, 0, 0, 0, 0, 0],\n",
              " [0, 0, 0, 0, 0, 0, 0, 0, 0],\n",
              " [0, 0, 0, 0, 0, 0, 0, 0, 0],\n",
              " [0, 0, 0, 0, 0, 0, 0, 0, 0],\n",
              " [0, 0, 0, 0, 0, 0, 0, 0, 0],\n",
              " [0, 0, 0, 0, 0, 0, 0, 0, 0]]"
            ]
          },
          "execution_count": 2,
          "metadata": {},
          "output_type": "execute_result"
        }
      ],
      "source": [
        "l2d_1"
      ]
    },
    {
      "cell_type": "code",
      "execution_count": null,
      "metadata": {
        "id": "VBPtGNlpdePn"
      },
      "outputs": [],
      "source": [
        "l2d_1[0][0]=1"
      ]
    },
    {
      "cell_type": "code",
      "execution_count": null,
      "metadata": {
        "colab": {
          "base_uri": "https://localhost:8080/"
        },
        "id": "Cilswsdgdihv",
        "outputId": "a06c21f1-6700-417b-988d-462a69ba5b5c"
      },
      "outputs": [
        {
          "data": {
            "text/plain": [
              "[[1, 0, 0, 0, 0, 0, 0, 0, 0],\n",
              " [1, 0, 0, 0, 0, 0, 0, 0, 0],\n",
              " [1, 0, 0, 0, 0, 0, 0, 0, 0],\n",
              " [1, 0, 0, 0, 0, 0, 0, 0, 0],\n",
              " [1, 0, 0, 0, 0, 0, 0, 0, 0],\n",
              " [1, 0, 0, 0, 0, 0, 0, 0, 0],\n",
              " [1, 0, 0, 0, 0, 0, 0, 0, 0],\n",
              " [1, 0, 0, 0, 0, 0, 0, 0, 0],\n",
              " [1, 0, 0, 0, 0, 0, 0, 0, 0]]"
            ]
          },
          "execution_count": 4,
          "metadata": {},
          "output_type": "execute_result"
        }
      ],
      "source": [
        "l2d_1"
      ]
    },
    {
      "cell_type": "code",
      "execution_count": null,
      "metadata": {
        "id": "d47mRNOPWUJf"
      },
      "outputs": [],
      "source": [
        "l2d_2 = [[0]*9 for _ in range(9)]"
      ]
    },
    {
      "cell_type": "code",
      "execution_count": null,
      "metadata": {
        "colab": {
          "base_uri": "https://localhost:8080/"
        },
        "id": "sLqQ58cVmadT",
        "outputId": "0d0b18f2-3df1-4fe0-916c-fff62dc1d829"
      },
      "outputs": [
        {
          "data": {
            "text/plain": [
              "[[0, 0, 0, 0, 0, 0, 0, 0, 0],\n",
              " [0, 0, 0, 0, 0, 0, 0, 0, 0],\n",
              " [0, 0, 0, 0, 0, 0, 0, 0, 0],\n",
              " [0, 0, 0, 0, 0, 0, 0, 0, 0],\n",
              " [0, 0, 0, 0, 0, 0, 0, 0, 0],\n",
              " [0, 0, 0, 0, 0, 0, 0, 0, 0],\n",
              " [0, 0, 0, 0, 0, 0, 0, 0, 0],\n",
              " [0, 0, 0, 0, 0, 0, 0, 0, 0],\n",
              " [0, 0, 0, 0, 0, 0, 0, 0, 0]]"
            ]
          },
          "execution_count": 6,
          "metadata": {},
          "output_type": "execute_result"
        }
      ],
      "source": [
        "l2d_2"
      ]
    },
    {
      "cell_type": "code",
      "execution_count": null,
      "metadata": {
        "id": "MRxBDITUmcSS"
      },
      "outputs": [],
      "source": [
        "l2d_2[0][0]=1"
      ]
    },
    {
      "cell_type": "code",
      "execution_count": null,
      "metadata": {
        "colab": {
          "base_uri": "https://localhost:8080/"
        },
        "id": "KJJW8rk3mfoi",
        "outputId": "d700f6cb-363a-48b0-92d0-92e226bf144d"
      },
      "outputs": [
        {
          "data": {
            "text/plain": [
              "[[1, 0, 0, 0, 0, 0, 0, 0, 0],\n",
              " [0, 0, 0, 0, 0, 0, 0, 0, 0],\n",
              " [0, 0, 0, 0, 0, 0, 0, 0, 0],\n",
              " [0, 0, 0, 0, 0, 0, 0, 0, 0],\n",
              " [0, 0, 0, 0, 0, 0, 0, 0, 0],\n",
              " [0, 0, 0, 0, 0, 0, 0, 0, 0],\n",
              " [0, 0, 0, 0, 0, 0, 0, 0, 0],\n",
              " [0, 0, 0, 0, 0, 0, 0, 0, 0],\n",
              " [0, 0, 0, 0, 0, 0, 0, 0, 0]]"
            ]
          },
          "execution_count": 8,
          "metadata": {},
          "output_type": "execute_result"
        }
      ],
      "source": [
        "l2d_2"
      ]
    },
    {
      "cell_type": "code",
      "execution_count": null,
      "metadata": {
        "id": "k8LCt3keWf9P"
      },
      "outputs": [],
      "source": [
        "l2d_3 = [x[:] for x in [[0]*9]*9]"
      ]
    },
    {
      "cell_type": "code",
      "execution_count": null,
      "metadata": {
        "id": "k1dyEkG_mrSq"
      },
      "outputs": [],
      "source": [
        "l2d_3[0][0] = 1"
      ]
    },
    {
      "cell_type": "code",
      "execution_count": null,
      "metadata": {
        "colab": {
          "base_uri": "https://localhost:8080/"
        },
        "id": "tPUYg-YzmuKa",
        "outputId": "99319828-0114-4514-82e7-4c323b3cfb55"
      },
      "outputs": [
        {
          "data": {
            "text/plain": [
              "[[1, 0, 0, 0, 0, 0, 0, 0, 0],\n",
              " [0, 0, 0, 0, 0, 0, 0, 0, 0],\n",
              " [0, 0, 0, 0, 0, 0, 0, 0, 0],\n",
              " [0, 0, 0, 0, 0, 0, 0, 0, 0],\n",
              " [0, 0, 0, 0, 0, 0, 0, 0, 0],\n",
              " [0, 0, 0, 0, 0, 0, 0, 0, 0],\n",
              " [0, 0, 0, 0, 0, 0, 0, 0, 0],\n",
              " [0, 0, 0, 0, 0, 0, 0, 0, 0],\n",
              " [0, 0, 0, 0, 0, 0, 0, 0, 0]]"
            ]
          },
          "execution_count": 11,
          "metadata": {},
          "output_type": "execute_result"
        }
      ],
      "source": [
        "l2d_3"
      ]
    },
    {
      "cell_type": "code",
      "execution_count": null,
      "metadata": {
        "id": "fGn1vtd_mwsN"
      },
      "outputs": [],
      "source": []
    },
    {
      "cell_type": "markdown",
      "metadata": {
        "id": "3WyGmN44LAEp"
      },
      "source": [
        "# Python的流程控制"
      ]
    },
    {
      "cell_type": "code",
      "execution_count": null,
      "metadata": {
        "id": "UhPJR9ntRTW5"
      },
      "outputs": [],
      "source": [
        "# 條件運算式\n",
        "c = 8\n",
        "a = 1 if c < 5 else 2"
      ]
    },
    {
      "cell_type": "code",
      "execution_count": null,
      "metadata": {
        "id": "JhYCUY-uTirp"
      },
      "outputs": [],
      "source": [
        "a"
      ]
    },
    {
      "cell_type": "code",
      "execution_count": null,
      "metadata": {
        "id": "ZzYgiqvxTjOz"
      },
      "outputs": [],
      "source": [
        "tuple(range(1,9+1))"
      ]
    },
    {
      "cell_type": "code",
      "execution_count": null,
      "metadata": {
        "id": "fABSNwxQrErr"
      },
      "outputs": [],
      "source": [
        "range(9)"
      ]
    },
    {
      "cell_type": "code",
      "execution_count": null,
      "metadata": {
        "id": "AwGDle6KW7eH"
      },
      "outputs": [],
      "source": [
        "tuple(range(9))"
      ]
    },
    {
      "cell_type": "code",
      "execution_count": null,
      "metadata": {
        "id": "3bRflGD-YYls"
      },
      "outputs": [],
      "source": [
        "tuple(range(10, 1,-1))"
      ]
    },
    {
      "cell_type": "markdown",
      "metadata": {
        "id": "8ymqmJHCqs6V"
      },
      "source": [
        "## 多重迴圈，配合f-str"
      ]
    },
    {
      "cell_type": "code",
      "execution_count": null,
      "metadata": {
        "id": "A4dVTEG0ZCZB"
      },
      "outputs": [],
      "source": [
        "for i in range(2,10):\n",
        "  for j in range(2,10):\n",
        "    print(f\"{j:2} x {i:2} = {j*i:2}\", end=\"  \")\n",
        "  print()"
      ]
    },
    {
      "cell_type": "code",
      "execution_count": null,
      "metadata": {
        "id": "cXyB9lUjYooW"
      },
      "outputs": [],
      "source": [
        "import sys\n",
        "sys.version"
      ]
    },
    {
      "cell_type": "code",
      "execution_count": null,
      "metadata": {
        "id": "xwzhI4wYq7MU"
      },
      "outputs": [],
      "source": [
        "a=b=2\n",
        "print(f\"{a=}, {b=}\")"
      ]
    },
    {
      "cell_type": "markdown",
      "metadata": {
        "id": "MlK9UC62pvdi"
      },
      "source": [
        "## [須注意]當以某容器進行迴圈時，又去改變該容器內容的錯誤"
      ]
    },
    {
      "cell_type": "code",
      "execution_count": null,
      "metadata": {
        "colab": {
          "base_uri": "https://localhost:8080/"
        },
        "id": "GCJsWEfGbzNB",
        "outputId": "574f48ce-200c-4ef2-d5dc-b3000cf130f9"
      },
      "outputs": [
        {
          "name": "stdout",
          "output_type": "stream",
          "text": [
            "nums=[3, 3, 3],x=3\n",
            "nums=[3, 3],x=3\n",
            "Final:nums=[3]\n"
          ]
        }
      ],
      "source": [
        "nums = [3,3,3]\n",
        "val=3 #從nums移除所有3\n",
        "for x in nums:\n",
        "    print(f\"{nums=},{x=}\")\n",
        "    if val in nums:\n",
        "        nums.remove(val)\n",
        "print(f\"Final:{nums=}\")"
      ]
    },
    {
      "cell_type": "code",
      "execution_count": null,
      "metadata": {
        "colab": {
          "base_uri": "https://localhost:8080/"
        },
        "id": "1voDSugdbKVv",
        "outputId": "71050da4-612f-4496-e7dd-78b91c97ec99"
      },
      "outputs": [
        {
          "name": "stdout",
          "output_type": "stream",
          "text": [
            "0 9\n",
            "1 8\n",
            "2 7\n",
            "3 6\n",
            "4 5\n",
            "5 4\n",
            "6 3\n",
            "7 2\n",
            "8 1\n",
            "9 0\n"
          ]
        }
      ],
      "source": [
        "s = \"9876543210\"\n",
        "for (index, c) in enumerate(s):\n",
        "  print(index, c)"
      ]
    },
    {
      "cell_type": "markdown",
      "metadata": {
        "id": "9tnrkBm9p0qu"
      },
      "source": [
        "## 容器生成器 Comprehensions"
      ]
    },
    {
      "cell_type": "code",
      "execution_count": null,
      "metadata": {
        "id": "plAH9FP3Wn6n"
      },
      "outputs": [],
      "source": [
        "# 容器生成器(串列)\n",
        "s = [i**2 for i in range(1,11) if i & 1 == 0]\n",
        "s"
      ]
    },
    {
      "cell_type": "code",
      "execution_count": null,
      "metadata": {
        "id": "YpXG-xq3d9r1"
      },
      "outputs": [],
      "source": [
        "# 容器生成器(集合)\n",
        "s = {i**2 for i in range(1,11) if i & 1 == 0}\n",
        "s"
      ]
    },
    {
      "cell_type": "code",
      "execution_count": null,
      "metadata": {
        "id": "qEE2lOwfp5tu"
      },
      "outputs": [],
      "source": []
    },
    {
      "cell_type": "markdown",
      "metadata": {
        "id": "7YoTtejIbTMD"
      },
      "source": [
        "# 函式 Function"
      ]
    },
    {
      "cell_type": "code",
      "execution_count": null,
      "metadata": {
        "id": "xQjyy3eTHzDe"
      },
      "outputs": [],
      "source": [
        "def test(b):\n",
        "  a = 2\n",
        "  c += 1\n",
        "  print(a,b,c)\n",
        "\n",
        "a = b = c = 1\n",
        "test(3)\n",
        "print(a,b,c)"
      ]
    },
    {
      "cell_type": "code",
      "execution_count": null,
      "metadata": {
        "id": "Ut-NBDiMIQEd"
      },
      "outputs": [],
      "source": [
        "def test(b):\n",
        "  global c\n",
        "  a = 2\n",
        "  c += 1\n",
        "  print(a,b,c)\n",
        "\n",
        "a = b = c = 1\n",
        "test(3)\n",
        "print(a,b,c)"
      ]
    },
    {
      "cell_type": "code",
      "execution_count": null,
      "metadata": {
        "id": "05PRuUJmTMnl"
      },
      "outputs": [],
      "source": [
        "d += 1"
      ]
    },
    {
      "cell_type": "code",
      "execution_count": null,
      "metadata": {
        "id": "w0ian13q9gi9"
      },
      "outputs": [],
      "source": [
        "def test2(a):\n",
        "    b = 5\n",
        "    c = 7\n",
        "    def test(b):\n",
        "        global c\n",
        "        a = 2\n",
        "        c += 1\n",
        "        print(a,b,c)\n",
        "    test(3)\n",
        "    print(a,b,c)\n",
        "\n",
        "a = b = c = 1\n",
        "test2(3)\n",
        "print(a,b,c)"
      ]
    },
    {
      "cell_type": "code",
      "execution_count": null,
      "metadata": {
        "id": "m-XJ8aad-HPm"
      },
      "outputs": [],
      "source": [
        "def test2(a):\n",
        "    b = 5\n",
        "    c = 7\n",
        "    def test(b):\n",
        "        nonlocal c\n",
        "        a = 2\n",
        "        c += 1\n",
        "        print(f\"test:{a=},{b=},{c=}\")\n",
        "    test(3)\n",
        "    print(f\"test2:{a=},{b=},{c=}\")\n",
        "\n",
        "a = b = c = 1\n",
        "test2(3)\n",
        "print(f\"main:{a=},{b=},{c=}\")"
      ]
    },
    {
      "cell_type": "markdown",
      "metadata": {
        "id": "cYSi19hRrVLr"
      },
      "source": [
        "## 可變物件與不可變物件當函式參數的比較"
      ]
    },
    {
      "cell_type": "code",
      "execution_count": null,
      "metadata": {
        "id": "db1hnPXjB_S5"
      },
      "outputs": [],
      "source": [
        "def remove_element(nums:list,val:int):\n",
        "  return nums.sort()"
      ]
    },
    {
      "cell_type": "code",
      "execution_count": null,
      "metadata": {
        "colab": {
          "base_uri": "https://localhost:8080/"
        },
        "id": "QITSy_Z2CAVv",
        "outputId": "3fd6c339-8b62-4e12-9526-acdcf94c70ef"
      },
      "outputs": [
        {
          "name": "stdout",
          "output_type": "stream",
          "text": [
            "None\n",
            "[1, 2, 3, 4]\n"
          ]
        }
      ],
      "source": [
        "x = [2,3,1,4]\n",
        "print(remove_element(x,2))\n",
        "print(x)"
      ]
    },
    {
      "cell_type": "code",
      "execution_count": null,
      "metadata": {
        "id": "x-iFP3oXY8ND"
      },
      "outputs": [],
      "source": [
        "print([4,1,2,3].sort())"
      ]
    },
    {
      "cell_type": "code",
      "execution_count": null,
      "metadata": {
        "id": "eZerBwv2ZjUb"
      },
      "outputs": [],
      "source": [
        "print(sorted([4,1,2,3]))"
      ]
    },
    {
      "cell_type": "code",
      "execution_count": null,
      "metadata": {
        "id": "yfLxiaXyZpSj"
      },
      "outputs": [],
      "source": [
        "print(sorted(\"nccu\"))"
      ]
    },
    {
      "cell_type": "code",
      "execution_count": null,
      "metadata": {
        "id": "8XlhW0aaCAta"
      },
      "outputs": [],
      "source": [
        "def remove_element2(nums:tuple,val:int)->tuple:\n",
        "    nums = tuple(sorted(nums))\n",
        "    return nums #sorted(nums)"
      ]
    },
    {
      "cell_type": "code",
      "execution_count": null,
      "metadata": {
        "colab": {
          "base_uri": "https://localhost:8080/"
        },
        "id": "V0VPaIqCGVmf",
        "outputId": "ff93ea6b-d646-4bb1-bd90-4d38597a55d6"
      },
      "outputs": [
        {
          "name": "stdout",
          "output_type": "stream",
          "text": [
            "(1, 2, 3, 4)\n",
            "(2, 3, 1, 4)\n"
          ]
        }
      ],
      "source": [
        "x = (2,3,1,4)\n",
        "print(remove_element2(x,2))\n",
        "print(x)"
      ]
    },
    {
      "cell_type": "markdown",
      "metadata": {
        "id": "k_pvUaXlrOYU"
      },
      "source": [
        "# 集合 set"
      ]
    },
    {
      "cell_type": "code",
      "execution_count": null,
      "metadata": {
        "id": "uT8Fk2BFthWH"
      },
      "outputs": [],
      "source": [
        "S0 = {1,2,3,4,1}\n",
        "print(S0,type(S0))"
      ]
    },
    {
      "cell_type": "code",
      "execution_count": null,
      "metadata": {
        "id": "e1Szy2x2t9Pa"
      },
      "outputs": [],
      "source": [
        "# 可利用集合去除重複元素\n",
        "L = [1,2,3,4,2]\n",
        "unique_L = list(set(L))\n",
        "unique_L"
      ]
    },
    {
      "cell_type": "code",
      "execution_count": null,
      "metadata": {
        "id": "o0RmOgUduOOE"
      },
      "outputs": [],
      "source": [
        "# 簡單判斷某list是否有重複元素\n",
        "len(L) == len(set(L))"
      ]
    },
    {
      "cell_type": "code",
      "execution_count": null,
      "metadata": {
        "id": "dgqzIbprBy8P"
      },
      "outputs": [],
      "source": [
        "# 簡單判斷某list是否有重複元素\n",
        "len(unique_L) == len(set(unique_L))"
      ]
    },
    {
      "cell_type": "code",
      "execution_count": null,
      "metadata": {
        "id": "dmN1bIjHtdOW"
      },
      "outputs": [],
      "source": [
        "# 空集合\n",
        "S1 = set()\n",
        "print(S1,type(S1))"
      ]
    },
    {
      "cell_type": "code",
      "execution_count": null,
      "metadata": {
        "id": "YFQJIeyptq8M"
      },
      "outputs": [],
      "source": [
        "S2 = {}\n",
        "print(S2,type(S2))"
      ]
    },
    {
      "cell_type": "markdown",
      "metadata": {
        "id": "Cg5dLOjfrNl3"
      },
      "source": [
        "# 字典 dict"
      ]
    },
    {
      "cell_type": "code",
      "execution_count": null,
      "metadata": {
        "id": "UZydoKtCrM-d"
      },
      "outputs": [],
      "source": [
        "g1 = {'milk': 2, 'eggs': 12, 'breads': 2}\n",
        "g1"
      ]
    },
    {
      "cell_type": "code",
      "execution_count": null,
      "metadata": {
        "id": "v5gGsLpwaNsT"
      },
      "outputs": [],
      "source": [
        "g1.keys()"
      ]
    },
    {
      "cell_type": "code",
      "execution_count": null,
      "metadata": {
        "id": "JTqgWlZyaRF7"
      },
      "outputs": [],
      "source": [
        "g1.values()"
      ]
    },
    {
      "cell_type": "markdown",
      "metadata": {
        "id": "5mNK5-9UPS-z"
      },
      "source": [
        "## 同時取出字典中鍵與值"
      ]
    },
    {
      "cell_type": "code",
      "execution_count": null,
      "metadata": {
        "id": "_6bQuokHQAmU"
      },
      "outputs": [],
      "source": [
        "g1.items()"
      ]
    },
    {
      "cell_type": "code",
      "execution_count": null,
      "metadata": {
        "id": "Gq8ubKX6QEi2"
      },
      "outputs": [],
      "source": [
        "for k, v in g1.items():\n",
        "    print(k, v)"
      ]
    },
    {
      "cell_type": "code",
      "execution_count": null,
      "metadata": {
        "id": "1R4fJdZ0Cmfc"
      },
      "outputs": [],
      "source": [
        "for k in g1:\n",
        "    print(k, g1[k])"
      ]
    },
    {
      "cell_type": "code",
      "execution_count": null,
      "metadata": {
        "id": "VzKgCwuOallz"
      },
      "outputs": [],
      "source": [
        "g1[\"milk\"]"
      ]
    },
    {
      "cell_type": "code",
      "execution_count": null,
      "metadata": {
        "id": "vPBF0nObap4q"
      },
      "outputs": [],
      "source": [
        "g1[\"soap\"]=5"
      ]
    },
    {
      "cell_type": "code",
      "execution_count": null,
      "metadata": {
        "id": "LfPcGyqSatii"
      },
      "outputs": [],
      "source": [
        "g1"
      ]
    },
    {
      "cell_type": "code",
      "execution_count": null,
      "metadata": {
        "id": "9H05fwAKC43w"
      },
      "outputs": [],
      "source": [
        "g1[\"eggs\"]=20\n",
        "g1"
      ]
    },
    {
      "cell_type": "markdown",
      "metadata": {
        "id": "xdJ_ohd4PCE2"
      },
      "source": [
        "## 想透過字典某個不一定存在的鍵來取出值的作法 (不要刪除)"
      ]
    },
    {
      "cell_type": "code",
      "execution_count": null,
      "metadata": {
        "id": "Ibq1b16ZFWoC"
      },
      "outputs": [],
      "source": [
        "g1[\"butter\"]"
      ]
    },
    {
      "cell_type": "code",
      "execution_count": null,
      "metadata": {
        "id": "YEIQmKwor06r"
      },
      "outputs": [],
      "source": [
        "\"butter\" in g1"
      ]
    },
    {
      "cell_type": "code",
      "execution_count": null,
      "metadata": {
        "id": "Q5b1ISuUa4A7"
      },
      "outputs": [],
      "source": [
        "n = g1.pop(\"soap\")\n",
        "n, g1"
      ]
    },
    {
      "cell_type": "code",
      "execution_count": null,
      "metadata": {
        "id": "ZhN6EQMYbFbE"
      },
      "outputs": [],
      "source": [
        "n = g1.pop(\"butter\",0)\n",
        "n, g1"
      ]
    },
    {
      "cell_type": "code",
      "execution_count": null,
      "metadata": {
        "id": "64b06nV5FWoC"
      },
      "outputs": [],
      "source": [
        "# 用跟字典 pop 函式那樣的方式，行嗎?\n",
        "g1[\"butter\",0]"
      ]
    },
    {
      "cell_type": "code",
      "execution_count": null,
      "metadata": {
        "id": "AnFPXlueFWoC"
      },
      "outputs": [],
      "source": [
        "# 使用字典 get 函式\n",
        "g1.get(\"butter\",0)"
      ]
    },
    {
      "cell_type": "code",
      "execution_count": null,
      "metadata": {
        "id": "GWUKYEgiDjva"
      },
      "outputs": [],
      "source": [
        "g1.get(\"eggs\",0)"
      ]
    },
    {
      "cell_type": "code",
      "execution_count": null,
      "metadata": {
        "id": "LN9FXDwNsmQl"
      },
      "outputs": [],
      "source": [
        "dict.get?"
      ]
    },
    {
      "cell_type": "markdown",
      "metadata": {
        "id": "Bq_VSu2hsl3Z"
      },
      "source": [
        "# 類別 class"
      ]
    },
    {
      "cell_type": "code",
      "execution_count": null,
      "metadata": {
        "id": "sBm88LuEej34"
      },
      "outputs": [],
      "source": [
        "dir(list)"
      ]
    },
    {
      "cell_type": "code",
      "execution_count": null,
      "metadata": {
        "id": "2_9-sRpHRKwt"
      },
      "outputs": [],
      "source": [
        "class Test:\n",
        "  def __init__(self,w=\"\"):\n",
        "    self.word=w\n",
        "  def __len__(self):\n",
        "    return len(self.word)\n",
        "  def __str__(self):\n",
        "    return f\"Hello, {self.word}!\"\n",
        "  def __iter__(self):\n",
        "    for c in self.word:\n",
        "      yield \"chr:\"+c\n",
        "  def set_word(self,w):\n",
        "    self.word = w"
      ]
    },
    {
      "cell_type": "code",
      "execution_count": null,
      "metadata": {
        "id": "IY4sC75me6tO"
      },
      "outputs": [],
      "source": [
        "dir(Test)"
      ]
    },
    {
      "cell_type": "code",
      "execution_count": null,
      "metadata": {
        "id": "Ni8L3q_qV9Dj"
      },
      "outputs": [],
      "source": [
        "t = Test()"
      ]
    },
    {
      "cell_type": "code",
      "execution_count": null,
      "metadata": {
        "id": "gyS4UL4QWBpW"
      },
      "outputs": [],
      "source": [
        "len(t)"
      ]
    },
    {
      "cell_type": "code",
      "execution_count": null,
      "metadata": {
        "id": "NF8ubmv7WD3d"
      },
      "outputs": [],
      "source": [
        "print(t)"
      ]
    },
    {
      "cell_type": "code",
      "execution_count": null,
      "metadata": {
        "id": "OtRCgNfEfRsv"
      },
      "outputs": [],
      "source": [
        "t.set_word(\"world\")"
      ]
    },
    {
      "cell_type": "code",
      "execution_count": null,
      "metadata": {
        "id": "9GSea-4ifWas"
      },
      "outputs": [],
      "source": [
        "len(t)"
      ]
    },
    {
      "cell_type": "code",
      "execution_count": null,
      "metadata": {
        "id": "9Q4dDWDhfbSy"
      },
      "outputs": [],
      "source": [
        "print(t)"
      ]
    },
    {
      "cell_type": "code",
      "execution_count": null,
      "metadata": {
        "id": "Z-c1Tm2_WJ-c"
      },
      "outputs": [],
      "source": [
        "for i in t:\n",
        "  print(i)"
      ]
    },
    {
      "cell_type": "code",
      "execution_count": null,
      "metadata": {
        "id": "Os1W7HUjWuvt"
      },
      "outputs": [],
      "source": [
        "Test.set_word(t, \"bbb\")"
      ]
    },
    {
      "cell_type": "code",
      "execution_count": null,
      "metadata": {
        "id": "_e6ypGe5HNja"
      },
      "outputs": [],
      "source": [
        "t.set_word(\"ccc\")"
      ]
    },
    {
      "cell_type": "code",
      "execution_count": null,
      "metadata": {
        "id": "XWV9_3RkW0Gt"
      },
      "outputs": [],
      "source": [
        "print(t)"
      ]
    },
    {
      "cell_type": "code",
      "execution_count": null,
      "metadata": {
        "id": "U6iDxO5iW2c9"
      },
      "outputs": [],
      "source": [
        "str.upper(\"abc\")"
      ]
    },
    {
      "cell_type": "code",
      "execution_count": null,
      "metadata": {
        "id": "F7DsCWMkgDmr"
      },
      "outputs": [],
      "source": [
        "\"abc\".upper()"
      ]
    },
    {
      "cell_type": "code",
      "execution_count": null,
      "metadata": {
        "id": "MtQhunvCgHfR"
      },
      "outputs": [],
      "source": [
        "str.upper?"
      ]
    }
  ],
  "metadata": {
    "colab": {
      "provenance": [],
      "toc_visible": true
    },
    "kernelspec": {
      "display_name": "Python 3",
      "name": "python3"
    },
    "language_info": {
      "codemirror_mode": {
        "name": "ipython",
        "version": 3
      },
      "file_extension": ".py",
      "mimetype": "text/x-python",
      "name": "python",
      "nbconvert_exporter": "python",
      "pygments_lexer": "ipython3",
      "version": "3.12.9"
    }
  },
  "nbformat": 4,
  "nbformat_minor": 0
}
