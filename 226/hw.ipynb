{
 "cells": [
  {
   "cell_type": "markdown",
   "metadata": {},
   "source": [
    "1.\n",
    "Write a method in python as following :\n",
    "\n",
    "def count_bits(n:int)->int:\n",
    "Given a positive integer n, please count the number of bits that are set to 1 in n, and then return the result.\n",
    "\n",
    "For example:\n",
    "\n",
    "Test\tResult\n",
    "- print(count_bits(5))\n",
    "2\n",
    "- print(count_bits(15))\n",
    "4\n"
   ]
  },
  {
   "cell_type": "code",
   "execution_count": 2,
   "metadata": {},
   "outputs": [],
   "source": [
    "def count_bits(n: int) -> int:\n",
    "    \"\"\"\n",
    "    Count the number of bits that are set to 1 in the binary representation of n.\n",
    "    \n",
    "    Args:\n",
    "        n: A positive integer\n",
    "        \n",
    "    Returns:\n",
    "        The number of bits set to 1\n",
    "    \"\"\"\n",
    " \n",
    "    count = 0\n",
    "    while n:\n",
    "        count += n & 1  # Check if the least significant bit is 1\n",
    "        n >>= 1  # Right shift by 1 bit\n",
    "    return count"
   ]
  },
  {
   "cell_type": "code",
   "execution_count": 4,
   "metadata": {},
   "outputs": [
    {
     "data": {
      "text/plain": [
       "4"
      ]
     },
     "execution_count": 4,
     "metadata": {},
     "output_type": "execute_result"
    }
   ],
   "source": [
    "count_bits(15)"
   ]
  },
  {
   "cell_type": "markdown",
   "metadata": {},
   "source": [
    "\"\"\" \n",
    "For example, with count_bits(5):\n",
    "\n",
    "5 in binary is 101\n",
    "First iteration: 101 & 1 = 1, count = 1, then 101 >> 1 = 10 (in binary)\n",
    "Second iteration: 10 & 1 = 0, count = 1, then 10 >> 1 = 1\n",
    "Third iteration: 1 & 1 = 1, count = 2, then 1 >> 1 = 0\n",
    "Loop ends (n = 0) and returns count = 2\n",
    "\"\"\" "
   ]
  },
  {
   "cell_type": "code",
   "execution_count": 5,
   "metadata": {},
   "outputs": [],
   "source": [
    "# bit wise right shift operator : >> "
   ]
  },
  {
   "cell_type": "code",
   "execution_count": 7,
   "metadata": {},
   "outputs": [
    {
     "data": {
      "text/plain": [
       "4"
      ]
     },
     "execution_count": 7,
     "metadata": {},
     "output_type": "execute_result"
    }
   ],
   "source": [
    "n = 8  # Binary: 1000\n",
    "n >>= 1  # n becomes 4 (Binary: 0100)\n",
    "\n",
    "n"
   ]
  },
  {
   "cell_type": "code",
   "execution_count": 8,
   "metadata": {},
   "outputs": [
    {
     "data": {
      "text/plain": [
       "2"
      ]
     },
     "execution_count": 8,
     "metadata": {},
     "output_type": "execute_result"
    }
   ],
   "source": [
    "\n",
    "n = 5  # Binary: 101\n",
    "n >>= 1  # n becomes 2 (Binary: 010 or just 10)\n",
    "\n",
    "n"
   ]
  },
  {
   "cell_type": "markdown",
   "metadata": {},
   "source": [
    "2. Write a method in python as following :\n",
    "\n",
    "def remove_element(nums:list,val:int)->int:\n",
    "Given a list nums and a value val, remove all instances of that value in-place and return the new length of nums list.\n",
    "\n",
    "Do not allocate extra space for another list, you must do this by modifying the input list in-place with O(1) extra memory.\n",
    "\n",
    "For example:\n",
    "\n",
    "Test\tResult\n",
    "1. nums = [3,2,2,3]\n",
    "print(remove_element(nums,3),nums)\n",
    "--> 2 [2, 2]\n",
    "2. nums = [0,1,2,2,3,0,4,2]\n",
    "print(remove_element(nums,2),nums)\n",
    "--> 5 [0, 1, 3, 0, 4]\n"
   ]
  },
  {
   "cell_type": "code",
   "execution_count": 22,
   "metadata": {},
   "outputs": [],
   "source": [
    "nums = [0,1,2,2,3,0,4,2]\n",
    "\n",
    "\n",
    "def remove_element(nums:list, val:int) -> int : \n",
    "    while val in nums: \n",
    "        nums.remove(val)\n",
    "    return len(nums)"
   ]
  },
  {
   "cell_type": "code",
   "execution_count": 23,
   "metadata": {},
   "outputs": [
    {
     "name": "stdout",
     "output_type": "stream",
     "text": [
      "5 [0, 1, 3, 0, 4]\n"
     ]
    }
   ],
   "source": [
    "print(remove_element(nums,2),nums)"
   ]
  },
  {
   "cell_type": "markdown",
   "metadata": {},
   "source": [
    "3. Consider the following algorithm:\n",
    "1. input n\n",
    "2. print n\n",
    "3. if n = 1 then STOP\n",
    "4.     if n is odd then n = 3n + 1\n",
    "5.     else n = n/2\n",
    "6. GOTO 2\n",
    "\n",
    "Given the input 22, the following sequence of numbers will be printed\n",
    "22 11 34 17 52 26 13 40 20 10 5 16 8 4 2 1\n",
    "It is conjectured that the algorithm above will terminate (when a 1 is printed) for any integral input value. Despite the simplicity of the algorithm, it is unknown whether this conjecture is true. It has been verified, however, for all integers n such that 0 < n < 1,000,000 (and, in fact, for many more numbers than this.)\n",
    "\n",
    "Given an input n, it is possible to determine the number of numbers printed before and including the 1 is printed. For a given n this is called the cycle-length of n. In the example above, the cycle length of 22 is 16.\n",
    "\n",
    "For any two numbers i and j you are to determine the maximum cycle length over all numbers between and including both i and j.\n",
    "\n",
    "Write at least one method in python as following :\n",
    "\n",
    "def get_largest_cycle(i:int, j:int)->int:\n",
    "to return the maximum cycle length for integers between and including input integers i and j. (i, j are less than 1,000,000 and greater than 0)\n",
    "\n",
    "For example:\n",
    "\n",
    "Test\tResult\n",
    "print(get_largest_cycle(1,10))\n",
    "20\n",
    "print(get_largest_cycle(100,200))\n",
    "125\n"
   ]
  },
  {
   "cell_type": "markdown",
   "metadata": {},
   "source": [
    "calc"
   ]
  },
  {
   "cell_type": "code",
   "execution_count": 34,
   "metadata": {},
   "outputs": [],
   "source": [
    "def algo(n):\n",
    "    result =[]\n",
    "    result.append(n)\n",
    "    while n != 1: \n",
    "        if n % 2 == 0: \n",
    "            n = n // 2 \n",
    "        else: \n",
    "            n = 3* n + 1 \n",
    "        result.append(n)\n",
    "        \n",
    "    return(len(result))\n",
    "            \n",
    "    "
   ]
  },
  {
   "cell_type": "code",
   "execution_count": 35,
   "metadata": {},
   "outputs": [
    {
     "data": {
      "text/plain": [
       "26"
      ]
     },
     "execution_count": 35,
     "metadata": {},
     "output_type": "execute_result"
    }
   ],
   "source": [
    "num = 100\n",
    "algo(num)"
   ]
  },
  {
   "cell_type": "code",
   "execution_count": 41,
   "metadata": {},
   "outputs": [],
   "source": [
    "def get_largest_cycle(i:int, j:int)->int:\n",
    "    emp = []\n",
    "    if i > j: \n",
    "        i, j = j, i\n",
    "    for num in range(i, j+1): \n",
    "        emp.append(algo(num))\n",
    "        \n",
    "    return(max(emp))\n",
    "        "
   ]
  },
  {
   "cell_type": "code",
   "execution_count": 43,
   "metadata": {},
   "outputs": [
    {
     "data": {
      "text/plain": [
       "259"
      ]
     },
     "execution_count": 43,
     "metadata": {},
     "output_type": "execute_result"
    }
   ],
   "source": [
    "\n",
    "get_largest_cycle(999999, 999990)"
   ]
  },
  {
   "cell_type": "code",
   "execution_count": null,
   "metadata": {},
   "outputs": [],
   "source": []
  }
 ],
 "metadata": {
  "kernelspec": {
   "display_name": "Python 3",
   "language": "python",
   "name": "python3"
  },
  "language_info": {
   "codemirror_mode": {
    "name": "ipython",
    "version": 3
   },
   "file_extension": ".py",
   "mimetype": "text/x-python",
   "name": "python",
   "nbconvert_exporter": "python",
   "pygments_lexer": "ipython3",
   "version": "3.12.6"
  }
 },
 "nbformat": 4,
 "nbformat_minor": 2
}
