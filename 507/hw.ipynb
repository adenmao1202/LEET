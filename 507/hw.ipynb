{
 "cells": [
  {
   "cell_type": "code",
   "execution_count": null,
   "metadata": {},
   "outputs": [],
   "source": [
    "\"\"\" \n",
    "In this problem you are to count the number of ways of starting \n",
    "at the top-left corner of a 2D array and getting \n",
    "to the bottom-right corner. All moves must either go right or down.\n",
    "\n",
    "Write an efficient method in python as following :\n",
    "\n",
    "def number_of_ways(n:int, m:int)->int:\n",
    "to count how many ways you can go from the top-left to the bottom-right \n",
    "in a n by m 2D array.\n",
    "For example, the following pictures show three ways in a 5x5 2D array.\n",
    "\n",
    "\n",
    "\n",
    "Hint:\n",
    "  1. If i > 0 and j > 0, you can get to (i, j) from (i-1, j) or (i,j-1).\n",
    "  2. You could use following statement to initialize the dynamic programming table arr.\n",
    "\n",
    "arr = [x[:] for x in [[0]*m]*n]\n",
    "For example:\n",
    "\n",
    "Test\tResult\n",
    "print(number_of_ways(5,5))\n",
    "70\n",
    "print(number_of_ways(1,5))\n",
    "1\n",
    "\"\"\" \n"
   ]
  },
  {
   "cell_type": "code",
   "execution_count": 5,
   "metadata": {},
   "outputs": [
    {
     "name": "stdout",
     "output_type": "stream",
     "text": [
      "[[0, 0, 0, 0, 0], [0, 0, 0, 0, 0], [0, 0, 0, 0, 0], [0, 0, 0, 0, 0], [0, 0, 0, 0, 0]]\n"
     ]
    }
   ],
   "source": [
    "# m = 5\n",
    "# n = 5 \n",
    "# arr = [x[:] for x in [[0]*m]*n]\n",
    "# print(arr)"
   ]
  },
  {
   "cell_type": "code",
   "execution_count": 2,
   "metadata": {},
   "outputs": [],
   "source": [
    "def number_of_ways(n: int, m: int) -> int:\n",
    "    \n",
    "    arr = [x[:] for x in [[0]*m]*n]\n",
    "    \n",
    "    \n",
    "    for i in range(n):\n",
    "        arr[i][0] = 1\n",
    "    for j in range(m):\n",
    "        arr[0][j] = 1\n",
    "    \n",
    "    \n",
    "    for i in range(1, n):\n",
    "        for j in range(1, m):\n",
    "            arr[i][j] = arr[i-1][j] + arr[i][j-1]\n",
    "    \n",
    "    return arr[n-1][m-1]\n",
    "\n",
    "\n"
   ]
  },
  {
   "cell_type": "code",
   "execution_count": 3,
   "metadata": {},
   "outputs": [
    {
     "name": "stdout",
     "output_type": "stream",
     "text": [
      "70\n",
      "1\n"
     ]
    }
   ],
   "source": [
    "print(number_of_ways(5,5))  \n",
    "print(number_of_ways(1,5))  "
   ]
  },
  {
   "cell_type": "code",
   "execution_count": null,
   "metadata": {},
   "outputs": [],
   "source": [
    "\"\"\" \n",
    "Given three strings of characters: X, Y, and Z, \n",
    "where \n",
    "«math xmlns=¨http://www.w3.org/1998/Math/MathML¨»«mo»|«/mo»«mi»X«/mi»«mo»|«/mo»«mo»=«/mo»«mi»n«/mi»«/math», «math xmlns=¨http://www.w3.org/1998/Math/MathML¨»«mo»|«/mo»«mi»Y«/mi»«mo»|«/mo»«mo»=«/mo»«mi»m«/mi»«/math», and «math xmlns=¨http://www.w3.org/1998/Math/MathML¨»«mo»|«/mo»«mi»Z«/mi»«mo»|«/mo»«mo»=«/mo»«mi»n«/mi»«mo»+«/mo»«mi»m«/mi»«/math», find whether Z is formed by the interleaving of X and Y.\n",
    "\n",
    "Write an efficient method in python as following :\n",
    "\n",
    "def is_interleaved(x:str, y:str, z:str)->bool:\n",
    "to take as input str x, y and z, and return True if z is an interleaving of x and y.\n",
    "\n",
    "Hint: You could use following statement to initialize the dynamic programming table T.\n",
    "\n",
    "T = [x[:] for x in [[True]*(len(y)+1)]*(len(x)+1)]\n",
    "For example:\n",
    "\n",
    "Test\tResult\n",
    "x = \"chocolate\"\n",
    "y = \"chips\"\n",
    "z = \"cchocohilaptes\"\n",
    "print(is_interleaved(x,y,z))\n",
    "True\n",
    "x = \"chocolate\"\n",
    "y = \"chips\"\n",
    "z = \"chocochilatspe\"\n",
    "print(is_interleaved(x,y,z))\n",
    "False\n",
    "\n",
    "\"\"\" "
   ]
  },
  {
   "cell_type": "code",
   "execution_count": 7,
   "metadata": {},
   "outputs": [],
   "source": [
    "def is_interleaved(x: str, y: str, z: str) -> bool:\n",
    "    # if z is not the sum of x and y, return False\n",
    "    if len(z) != len(x) + len(y):\n",
    "        return False\n",
    "    \n",
    "    # initialize the dynamic programming table T\n",
    "    T = [x[:] for x in [[False]*(len(y)+1)]*(len(x)+1)]\n",
    "    \n",
    "    # empty string can be interleaved to empty string\n",
    "    T[0][0] = True\n",
    "    \n",
    "    \n",
    "    for j in range(1, len(y) + 1):\n",
    "        if y[j-1] == z[j-1]:\n",
    "            T[0][j] = T[0][j-1]\n",
    "    \n",
    "    \n",
    "    for i in range(1, len(x) + 1):\n",
    "        if x[i-1] == z[i-1]:\n",
    "            T[i][0] = T[i-1][0]\n",
    "    \n",
    "    \n",
    "    for i in range(1, len(x) + 1):\n",
    "        for j in range(1, len(y) + 1):\n",
    "            # if the current character comes from x\n",
    "            if x[i-1] == z[i+j-1]:\n",
    "                T[i][j] = T[i][j] or T[i-1][j]\n",
    "            # if the current character comes from y\n",
    "            if y[j-1] == z[i+j-1]:\n",
    "                T[i][j] = T[i][j] or T[i][j-1]\n",
    "    \n",
    "    return T[len(x)][len(y)]\n"
   ]
  },
  {
   "cell_type": "code",
   "execution_count": 8,
   "metadata": {},
   "outputs": [
    {
     "name": "stdout",
     "output_type": "stream",
     "text": [
      "True\n",
      "False\n"
     ]
    }
   ],
   "source": [
    "# 测试代码\n",
    "x = \"chocolate\"\n",
    "y = \"chips\"\n",
    "z = \"cchocohilaptes\"\n",
    "print(is_interleaved(x,y,z))  # 应该输出 True\n",
    "\n",
    "x = \"chocolate\"\n",
    "y = \"chips\"\n",
    "z = \"chocochilatspe\"\n",
    "print(is_interleaved(x,y,z))  # 应该输出 False"
   ]
  },
  {
   "cell_type": "code",
   "execution_count": null,
   "metadata": {},
   "outputs": [],
   "source": []
  }
 ],
 "metadata": {
  "kernelspec": {
   "display_name": "Python 3",
   "language": "python",
   "name": "python3"
  },
  "language_info": {
   "codemirror_mode": {
    "name": "ipython",
    "version": 3
   },
   "file_extension": ".py",
   "mimetype": "text/x-python",
   "name": "python",
   "nbconvert_exporter": "python",
   "pygments_lexer": "ipython3",
   "version": "3.12.9"
  }
 },
 "nbformat": 4,
 "nbformat_minor": 2
}
