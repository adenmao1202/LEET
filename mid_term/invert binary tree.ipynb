{
 "cells": [
  {
   "cell_type": "code",
   "execution_count": 1,
   "metadata": {},
   "outputs": [
    {
     "data": {
      "text/plain": [
       "' \\n\\nGiven the root of a binary tree, invert the tree, and return its root.\\n\\n \\n\\nExample 1:\\n\\n\\nInput: root = [4,2,7,1,3,6,9]\\nOutput: [4,7,2,9,6,3,1]\\n\\n\\nExample 2:\\n\\n\\nInput: root = [2,1,3]\\nOutput: [2,3,1]\\n\\n\\nExample 3:\\n\\nInput: root = []\\nOutput: []\\n\\n'"
      ]
     },
     "execution_count": 1,
     "metadata": {},
     "output_type": "execute_result"
    }
   ],
   "source": [
    "\"\"\" \n",
    "\n",
    "Given the root of a binary tree, invert the tree, and return its root.\n",
    "\n",
    " \n",
    "\n",
    "Example 1:\n",
    "\n",
    "\n",
    "Input: root = [4,2,7,1,3,6,9]\n",
    "Output: [4,7,2,9,6,3,1]\n",
    "\n",
    "\n",
    "Example 2:\n",
    "\n",
    "\n",
    "Input: root = [2,1,3]\n",
    "Output: [2,3,1]\n",
    "\n",
    "\n",
    "Example 3:\n",
    "\n",
    "Input: root = []\n",
    "Output: []\n",
    "\n",
    "\"\"\" "
   ]
  },
  {
   "cell_type": "code",
   "execution_count": 2,
   "metadata": {},
   "outputs": [],
   "source": [
    "class TreeNode:\n",
    "    def __init__(self, val=0, left=None, right=None):\n",
    "        self.val = val\n",
    "        self.left = left  # pointer \n",
    "        self.right = right\n",
    "\n",
    "class Solution:\n",
    "    def invertTree(self, root):\n",
    "        # base case  : remember !!! \n",
    "        if not root:\n",
    "            return None\n",
    "        left = self.invertTree(root.left)\n",
    "        right = self.invertTree(root.right)\n",
    "        \n",
    "        # 交换左右子树\n",
    "        root.left, root.right = right, left\n",
    "        \n",
    "        # 返回翻转后的根节点\n",
    "        return root"
   ]
  },
  {
   "cell_type": "code",
   "execution_count": null,
   "metadata": {},
   "outputs": [],
   "source": [
    "class TreeNode:\n",
    "    def __init__(self, val=0, left=None, right=None):\n",
    "        self.val = val\n",
    "        self.left = left  # pointer \n",
    "        self.right = right\n",
    "\n",
    "\n",
    "def invertTree(root):     # this one \n",
    "    if not root:\n",
    "        return None\n",
    "    left = invertTree(root.left)\n",
    "    right = invertTree(root.right)\n",
    "    \n",
    "    root.left, root.right = right, left\n",
    "    \n",
    "    return root\n",
    "\n",
    "def buildTree(arr):\n",
    "    if not arr:\n",
    "        return None\n",
    "    \n",
    "    root = TreeNode(arr[0])\n",
    "    queue = [root]\n",
    "    i = 1\n",
    "    \n",
    "    while queue and i < len(arr):\n",
    "        node = queue.pop(0)\n",
    "        \n",
    "        # 添加左子节点\n",
    "        if i < len(arr) and arr[i] is not None:\n",
    "            node.left = TreeNode(arr[i])\n",
    "            queue.append(node.left)\n",
    "        i += 1\n",
    "        \n",
    "        # 添加右子节点\n",
    "        if i < len(arr) and arr[i] is not None:\n",
    "            node.right = TreeNode(arr[i])\n",
    "            queue.append(node.right)\n",
    "        i += 1\n",
    "    \n",
    "    return root\n",
    "\n",
    "def treeToArray(root):\n",
    "    if not root:\n",
    "        return []\n",
    "    \n",
    "    result = []\n",
    "    queue = [root]\n",
    "    \n",
    "    while queue:\n",
    "        node = queue.pop(0)\n",
    "        \n",
    "        if node:\n",
    "            result.append(node.val)\n",
    "            queue.append(node.left if node.left else None)\n",
    "            queue.append(node.right if node.right else None)\n",
    "        else:\n",
    "            result.append(None)\n",
    "    \n",
    "    # 移除尾部的None值\n",
    "    while result and result[-1] is None:\n",
    "        result.pop()\n",
    "    \n",
    "    return result\n"
   ]
  },
  {
   "cell_type": "code",
   "execution_count": 4,
   "metadata": {},
   "outputs": [
    {
     "name": "stderr",
     "output_type": "stream",
     "text": [
      "<>:1: SyntaxWarning: invalid escape sequence '\\ '\n",
      "<>:1: SyntaxWarning: invalid escape sequence '\\ '\n",
      "/var/folders/kz/g7fm_pz11tv5kbttdpy6thc40000gn/T/ipykernel_29666/480706190.py:1: SyntaxWarning: invalid escape sequence '\\ '\n",
      "  \"\"\"\n"
     ]
    },
    {
     "data": {
      "text/plain": [
       "' \\n\\n    4\\n   /   2   7\\n / \\\\ / 1  3 6  9\\n\\n\\n'"
      ]
     },
     "execution_count": 4,
     "metadata": {},
     "output_type": "execute_result"
    }
   ],
   "source": [
    "\"\"\" \n",
    "\n",
    "    4\n",
    "   / \\\n",
    "  2   7\n",
    " / \\ / \\\n",
    "1  3 6  9\n",
    "\n",
    "\n",
    "\"\"\" "
   ]
  },
  {
   "cell_type": "code",
   "execution_count": 5,
   "metadata": {},
   "outputs": [
    {
     "data": {
      "text/plain": [
       "[4, 7, 2, 9, 6, 3, 1]"
      ]
     },
     "execution_count": 5,
     "metadata": {},
     "output_type": "execute_result"
    }
   ],
   "source": [
    "\n",
    "root = [4,2,7,1,3,6,9]\n",
    "tree_root = buildTree(root)\n",
    "result = invertTree(tree_root)\n",
    "treeToArray(result)\n",
    "\n"
   ]
  },
  {
   "cell_type": "code",
   "execution_count": 6,
   "metadata": {},
   "outputs": [
    {
     "data": {
      "text/plain": [
       "[2, 3, 1]"
      ]
     },
     "execution_count": 6,
     "metadata": {},
     "output_type": "execute_result"
    }
   ],
   "source": [
    "\n",
    "root = [2, 1, 3]\n",
    "tree_root = buildTree(root)\n",
    "result = invertTree(tree_root)\n",
    "treeToArray(result)\n"
   ]
  },
  {
   "cell_type": "code",
   "execution_count": null,
   "metadata": {},
   "outputs": [],
   "source": []
  },
  {
   "cell_type": "code",
   "execution_count": null,
   "metadata": {},
   "outputs": [],
   "source": []
  }
 ],
 "metadata": {
  "kernelspec": {
   "display_name": "Python 3",
   "language": "python",
   "name": "python3"
  },
  "language_info": {
   "codemirror_mode": {
    "name": "ipython",
    "version": 3
   },
   "file_extension": ".py",
   "mimetype": "text/x-python",
   "name": "python",
   "nbconvert_exporter": "python",
   "pygments_lexer": "ipython3",
   "version": "3.12.9"
  }
 },
 "nbformat": 4,
 "nbformat_minor": 2
}
