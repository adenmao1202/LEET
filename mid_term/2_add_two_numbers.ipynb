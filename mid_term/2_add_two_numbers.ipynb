{
 "cells": [
  {
   "cell_type": "code",
   "execution_count": 1,
   "metadata": {},
   "outputs": [
    {
     "data": {
      "text/plain": [
       "' \\n\\nYou are given two non-empty linked lists representing two non-negative integers. \\nThe digits are stored in reverse order, and each of their nodes contains a single digit. Add the two numbers and return the sum as a linked list.\\n\\nYou may assume the two numbers do not contain any leading zero, except the number 0 itself.\\n\\n \\n\\nExample 1:\\n\\n\\nInput: l1 = [2,4,3], l2 = [5,6,4]\\nOutput: [7,0,8]\\nExplanation: 342 + 465 = 807.\\n\\n\\nExample 2:\\n\\nInput: l1 = [0], l2 = [0]\\nOutput: [0]\\n\\nExample 3:\\n\\nInput: l1 = [9,9,9,9,9,9,9], l2 = [9,9,9,9]\\nOutput: [8,9,9,9,0,0,0,1]\\n \\n\\n '"
      ]
     },
     "execution_count": 1,
     "metadata": {},
     "output_type": "execute_result"
    }
   ],
   "source": [
    "\"\"\" \n",
    "\n",
    "You are given two non-empty linked lists representing two non-negative integers. \n",
    "The digits are stored in reverse order, and each of their nodes contains a single digit. Add the two numbers and return the sum as a linked list.\n",
    "\n",
    "You may assume the two numbers do not contain any leading zero, except the number 0 itself.\n",
    "\n",
    " \n",
    "\n",
    "Example 1:\n",
    "\n",
    "\n",
    "Input: l1 = [2,4,3], l2 = [5,6,4]\n",
    "Output: [7,0,8]\n",
    "Explanation: 342 + 465 = 807.\n",
    "\n",
    "\n",
    "Example 2:\n",
    "\n",
    "Input: l1 = [0], l2 = [0]\n",
    "Output: [0]\n",
    "\n",
    "Example 3:\n",
    "\n",
    "Input: l1 = [9,9,9,9,9,9,9], l2 = [9,9,9,9]\n",
    "Output: [8,9,9,9,0,0,0,1]\n",
    " \n",
    "\n",
    " \"\"\" "
   ]
  },
  {
   "cell_type": "code",
   "execution_count": 15,
   "metadata": {},
   "outputs": [],
   "source": [
    "class ListNode:\n",
    "    def __init__(self, data:int):\n",
    "        self.data = data\n",
    "        self.next = None\n",
    "    def __iter__(self):\n",
    "        node = self\n",
    "        while node:\n",
    "            yield node.data\n",
    "            node = node.next\n",
    "    def __str__(self):\n",
    "        return \"->\".join(str(i) for i in self)+\"->None\"\n",
    " \n",
    "def init_list(num:int)->ListNode:\n",
    "    tail = dummy_head = ListNode(0)\n",
    "    for c in str(num)[::-1]:\n",
    "        tail.next = ListNode(int(c))\n",
    "        tail = tail.next\n",
    "    return dummy_head.next\n",
    "\n",
    "class Solution:  # remeber the list are in reversed order \n",
    "    def addTwoNumbers(self, l1, l2):\n",
    "        dummy = ListNode(0)\n",
    "        current = dummy\n",
    "        carry = 0\n",
    "        \n",
    "        while l1 or l2 or carry:\n",
    "            # 計算當前位的和\n",
    "            sum_val = carry\n",
    "            if l1:\n",
    "                sum_val += l1.data\n",
    "                l1 = l1.next   # remember to update the pointer \n",
    "            if l2:\n",
    "                sum_val += l2.data\n",
    "                l2 = l2.next\n",
    "            \n",
    "            # 更新進位和當前節點\n",
    "            carry = sum_val // 10   # 如果超過10, 則carry = 1, 否則carry = 0 \n",
    "            current.next = ListNode(sum_val % 10)  # 創建新節點，記錄這個位數的餘數 \n",
    "            current = current.next\n",
    "            # print(current.val)\n",
    "        \n",
    "        return dummy.next  \n",
    "    \n",
    "    "
   ]
  },
  {
   "cell_type": "code",
   "execution_count": 16,
   "metadata": {},
   "outputs": [
    {
     "name": "stdout",
     "output_type": "stream",
     "text": [
      "2->5->0->1->None\n"
     ]
    }
   ],
   "source": [
    "l1 = init_list(563)\n",
    "l2 = init_list(489)\n",
    "sol = Solution()\n",
    "result = sol.addTwoNumbers(l1, l2)\n",
    "print(result)\n"
   ]
  },
  {
   "cell_type": "markdown",
   "metadata": {},
   "source": [
    "only function "
   ]
  },
  {
   "cell_type": "code",
   "execution_count": 9,
   "metadata": {},
   "outputs": [],
   "source": [
    "def addTwoNumbers(l1, l2):\n",
    "    dummy = ListNode(0)\n",
    "    current = dummy\n",
    "    carry = 0\n",
    "    \n",
    "    while l1 or l2 or carry:\n",
    "        sum_val = carry\n",
    "        if l1:\n",
    "            sum_val += l1.val\n",
    "            l1 = l1.next   \n",
    "        if l2:\n",
    "            sum_val += l2.val\n",
    "            l2 = l2.next\n",
    "        \n",
    "        carry = sum_val // 10   \n",
    "        current.next = ListNode(sum_val % 10)  \n",
    "        current = current.next\n",
    "    \n",
    "    return dummy.next  \n",
    "    \n",
    "    "
   ]
  },
  {
   "cell_type": "markdown",
   "metadata": {},
   "source": [
    "Functional form 也要會寫 "
   ]
  },
  {
   "cell_type": "code",
   "execution_count": 10,
   "metadata": {},
   "outputs": [],
   "source": [
    "\n",
    "def create_linked_list(arr):\n",
    "    dummy_head = ListNode(0)\n",
    "    current = dummy_head\n",
    "    for val in arr:\n",
    "        current.next = ListNode(val)\n",
    "        current = current.next\n",
    "    return dummy_head.next\n",
    "\n",
    "\n",
    "def linked_list_to_array(head):\n",
    "    arr = []\n",
    "    current = head\n",
    "    while current:\n",
    "        arr.append(current.val)\n",
    "        current = current.next\n",
    "    return arr"
   ]
  },
  {
   "cell_type": "markdown",
   "metadata": {},
   "source": [
    "test case "
   ]
  },
  {
   "cell_type": "code",
   "execution_count": 12,
   "metadata": {},
   "outputs": [
    {
     "name": "stdout",
     "output_type": "stream",
     "text": [
      "[9, 4, 3, 1]\n"
     ]
    }
   ],
   "source": [
    "l1 = create_linked_list([5, 6, 3])\n",
    "l2 = create_linked_list([4, 8, 9])\n",
    "\n",
    "result = addTwoNumbers(l1, l2)\n",
    "print(linked_list_to_array(result))\n"
   ]
  },
  {
   "cell_type": "code",
   "execution_count": 6,
   "metadata": {},
   "outputs": [
    {
     "name": "stdout",
     "output_type": "stream",
     "text": [
      "示例2结果: [0]\n"
     ]
    }
   ],
   "source": [
    "# 示例2: 0 + 0 = 0\n",
    "l1 = create_linked_list([0])\n",
    "l2 = create_linked_list([0])\n",
    "result = addTwoNumbers(l1, l2)\n",
    "print(\"示例2结果:\", linked_list_to_array(result))  # 应该输出 [0]\n",
    "\n"
   ]
  },
  {
   "cell_type": "code",
   "execution_count": 7,
   "metadata": {},
   "outputs": [
    {
     "name": "stdout",
     "output_type": "stream",
     "text": [
      "示例3结果: [8, 9, 9, 9, 0, 0, 0, 1]\n"
     ]
    }
   ],
   "source": [
    "l1 = create_linked_list([9, 9, 9, 9, 9, 9, 9])\n",
    "l2 = create_linked_list([9, 9, 9, 9])\n",
    "result = addTwoNumbers(l1, l2)\n",
    "print(\"示例3结果:\", linked_list_to_array(result))  \n",
    "\n"
   ]
  },
  {
   "cell_type": "code",
   "execution_count": null,
   "metadata": {},
   "outputs": [],
   "source": []
  }
 ],
 "metadata": {
  "kernelspec": {
   "display_name": "Python 3",
   "language": "python",
   "name": "python3"
  },
  "language_info": {
   "codemirror_mode": {
    "name": "ipython",
    "version": 3
   },
   "file_extension": ".py",
   "mimetype": "text/x-python",
   "name": "python",
   "nbconvert_exporter": "python",
   "pygments_lexer": "ipython3",
   "version": "3.12.9"
  }
 },
 "nbformat": 4,
 "nbformat_minor": 2
}
