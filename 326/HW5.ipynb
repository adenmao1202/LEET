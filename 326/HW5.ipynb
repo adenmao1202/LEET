{
 "cells": [
  {
   "cell_type": "code",
   "execution_count": null,
   "metadata": {},
   "outputs": [],
   "source": [
    "\"\"\" \n",
    "\n",
    "Write a Python method called sort_colors that takes a list of strings named colors as input.\n",
    "The function signature should be:\n",
    "\n",
    "def sort_colors(colors:list):\n",
    "Given list will only contain the strings \"red\", \"white\", or \"blue\". \n",
    "\n",
    "The method should sort the list in-place such that: \n",
    "all \"red\" elements appear before \"white\" elements, \n",
    "and all \"white\" elements appear before \"blue\" elements. \n",
    "\n",
    "Hint: \n",
    "Three-way partitioning - Think of three pointers (indices): low, mid, and high. \n",
    "low tracks the end of the \"red\" region, high tracks the beginning of the \"blue\" region, \n",
    "and mid is your current element to process.  \n",
    "As mid iterates, you swap elements to maintain the order: \"red\" to the left of low, \"white\" between low and high, and \"blue\" to the right of high\n",
    "\n",
    "For example:\n",
    "\n",
    "Test\tResult\n",
    "colors = [\"blue\", \"white\", \"red\"]\n",
    "sort_colors(colors)\n",
    "print(colors)\n",
    "['red', 'white', 'blue']\n",
    "\n",
    "colors = [\"blue\", \"blue\", \"red\", \"white\", \"red\"]\n",
    "sort_colors(colors)\n",
    "print(colors)\n",
    "['red', 'red', 'white', 'blue', 'blue']\n",
    "\n",
    "\"\"\" "
   ]
  },
  {
   "cell_type": "code",
   "execution_count": 8,
   "metadata": {},
   "outputs": [],
   "source": [
    "def sort_colors(colors:list):\n",
    "    # 設置三個指針\n",
    "    low = 0\n",
    "    mid = 0\n",
    "    high = len(colors) - 1\n",
    "    \n",
    "    # 當中間指針不超過高指針時\n",
    "    while mid <= high:\n",
    "        if colors[mid] == \"red\":\n",
    "            # 將紅色放到前面\n",
    "            colors[low], colors[mid] = colors[mid], colors[low]\n",
    "            low += 1\n",
    "            mid += 1\n",
    "            \n",
    "        elif colors[mid] == \"white\":\n",
    "            # 白色保持在中間\n",
    "            mid += 1\n",
    "        elif colors[mid] == \"blue\":\n",
    "            # 將藍色放到後面\n",
    "            colors[mid], colors[high] = colors[high], colors[mid]\n",
    "            high -= 1\n",
    "            \n",
    "    return colors"
   ]
  },
  {
   "cell_type": "code",
   "execution_count": 7,
   "metadata": {},
   "outputs": [
    {
     "data": {
      "text/plain": [
       "['red', 'white', 'blue']"
      ]
     },
     "execution_count": 7,
     "metadata": {},
     "output_type": "execute_result"
    }
   ],
   "source": [
    "colors = [\"blue\", \"white\", \"red\"]\n",
    "sort_colors(colors)"
   ]
  },
  {
   "cell_type": "code",
   "execution_count": 1,
   "metadata": {},
   "outputs": [
    {
     "data": {
      "text/plain": [
       "' \\nWe can represent a graph G as an adjacency matrix which is using an n*n matrix M, where element M[i][j] = 1 if (i, j) is an edge of G, and 0 if it isn’t.\\n\\nWrite a method in python as following :\\n\\ndef to_adj_matrix(graph:list)->list:\\nTo convert a graph from adjacency list which is a list of GraphVertex class to adjacency matrix in type of nested list of int.\\n\\nThe GraphVertex class and supporting method initial_graph are included and declared as:\\n\\nclass GraphVertex:\\n    def __init__(self, label):\\n        self.label = label\\n        self.edges = []   #Edges in Adjacency List\\n\\ndef initial_graph(n:int, edge_list:list)->list:\\n    graph = []\\n    for i in range(n):\\n        graph.append(GraphVertex(i))\\n    for e in edge_list:\\n        if 0 <= e[0] < n and 0 <= e[1] < n:\\n            graph[e[0]].edges.append(graph[e[1]])\\n    return graph\\nHint: You could use following statement to initial adjacency matrix M.\\n\\nM = [x[:] for x in [[0]*len(graph)]*len(graph)]\\nFor example:\\n\\nTest\\tResult\\nprint(to_adj_matrix(initial_graph(5, [[2, 4], [4, 2], [1, 4], [4, 1], [3, 4], [4, 3], [1, 3], [3, 1]])))\\n[[0, 0, 0, 0, 0], [0, 0, 0, 1, 1], [0, 0, 0, 0, 1], [0, 1, 0, 0, 1], [0, 1, 1, 1, 0]]\\n\\nprint(to_adj_matrix(initial_graph(4, [[1, 1], [3, 0], [2, 1], [1, 2], [0, 2], [3, 3]])))\\n[[0, 0, 1, 0], [0, 1, 1, 0], [0, 1, 0, 0], [1, 0, 0, 1]]\\n\\n'"
      ]
     },
     "execution_count": 1,
     "metadata": {},
     "output_type": "execute_result"
    }
   ],
   "source": [
    "\n",
    "\"\"\" \n",
    "We can represent a graph G as an adjacency matrix which is using an n*n matrix M, \n",
    "where element M[i][j] = 1 if (i, j) is an edge of G, and 0 if it isn’t.\n",
    "\n",
    "Write a method in python as following :\n",
    "\n",
    "def to_adj_matrix(graph:list)->list:\n",
    "To convert a graph from adjacency list which is a list of GraphVertex class to \n",
    "adjacency matrix in type of nested list of int.\n",
    "\n",
    "The GraphVertex class and supporting method initial_graph are included and declared as:\n",
    "\n",
    "class GraphVertex:\n",
    "    def __init__(self, label):\n",
    "        self.label = label\n",
    "        self.edges = []   #Edges in Adjacency List\n",
    "\n",
    "def initial_graph(n:int, edge_list:list)->list:\n",
    "    graph = []\n",
    "    for i in range(n):\n",
    "        graph.append(GraphVertex(i))\n",
    "    for e in edge_list:\n",
    "        if 0 <= e[0] < n and 0 <= e[1] < n:\n",
    "            graph[e[0]].edges.append(graph[e[1]])\n",
    "    return graph\n",
    "    \n",
    "Hint: You could use following statement to initial adjacency matrix M.\n",
    "\n",
    "M = [x[:] for x in [[0]*len(graph)]*len(graph)]\n",
    "For example:\n",
    "\n",
    "Test\tResult\n",
    "print(to_adj_matrix(initial_graph(5, [[2, 4], [4, 2], [1, 4], [4, 1], [3, 4], [4, 3], [1, 3], [3, 1]])))\n",
    "[[0, 0, 0, 0, 0], [0, 0, 0, 1, 1], [0, 0, 0, 0, 1], [0, 1, 0, 0, 1], [0, 1, 1, 1, 0]]\n",
    "\n",
    "print(to_adj_matrix(initial_graph(4, [[1, 1], [3, 0], [2, 1], [1, 2], [0, 2], [3, 3]])))\n",
    "[[0, 0, 1, 0], [0, 1, 1, 0], [0, 1, 0, 0], [1, 0, 0, 1]]\n",
    "\n",
    "\"\"\" "
   ]
  },
  {
   "cell_type": "code",
   "execution_count": 10,
   "metadata": {},
   "outputs": [],
   "source": [
    "class GraphVertex:\n",
    "    def __init__(self, label):\n",
    "        self.label = label\n",
    "        self.edges = []   #Edges in Adjacency List\n",
    "\n",
    "def initial_graph(n:int, edge_list:list)->list:\n",
    "    graph = []\n",
    "    for i in range(n):\n",
    "        graph.append(GraphVertex(i))\n",
    "    for e in edge_list:\n",
    "        if 0 <= e[0] < n and 0 <= e[1] < n:\n",
    "            graph[e[0]].edges.append(graph[e[1]])\n",
    "    return graph\n",
    "\n",
    "def to_adj_matrix(graph:list)->list:\n",
    "    n = len(graph)\n",
    "    adj_matrix = [[0]*n for _ in range(n)]     # init matrix \n",
    "    \n",
    "    for i in range(n):\n",
    "        for j in graph[i].edges:\n",
    "            adj_matrix[i][j.label] = 1\n",
    "    return adj_matrix"
   ]
  },
  {
   "cell_type": "code",
   "execution_count": 12,
   "metadata": {},
   "outputs": [
    {
     "data": {
      "text/plain": [
       "[<__main__.GraphVertex at 0x10a432f90>,\n",
       " <__main__.GraphVertex at 0x10a433e60>,\n",
       " <__main__.GraphVertex at 0x10a430e90>,\n",
       " <__main__.GraphVertex at 0x10a432e40>,\n",
       " <__main__.GraphVertex at 0x10a432810>]"
      ]
     },
     "execution_count": 12,
     "metadata": {},
     "output_type": "execute_result"
    }
   ],
   "source": [
    "initial_graph(5, [[2, 4], [4, 2], [1, 4], [4, 1], [3, 4], [4, 3], [1, 3], [3, 1]])"
   ]
  },
  {
   "cell_type": "code",
   "execution_count": 11,
   "metadata": {},
   "outputs": [
    {
     "name": "stdout",
     "output_type": "stream",
     "text": [
      "[[0, 0, 0, 0, 0], [0, 0, 0, 1, 1], [0, 0, 0, 0, 1], [0, 1, 0, 0, 1], [0, 1, 1, 1, 0]]\n"
     ]
    }
   ],
   "source": [
    "print(to_adj_matrix(initial_graph(5, [[2, 4], [4, 2], [1, 4], [4, 1], [3, 4], [4, 3], [1, 3], [3, 1]])))\n"
   ]
  },
  {
   "cell_type": "code",
   "execution_count": null,
   "metadata": {},
   "outputs": [],
   "source": []
  }
 ],
 "metadata": {
  "kernelspec": {
   "display_name": "Python 3",
   "language": "python",
   "name": "python3"
  },
  "language_info": {
   "codemirror_mode": {
    "name": "ipython",
    "version": 3
   },
   "file_extension": ".py",
   "mimetype": "text/x-python",
   "name": "python",
   "nbconvert_exporter": "python",
   "pygments_lexer": "ipython3",
   "version": "3.12.9"
  }
 },
 "nbformat": 4,
 "nbformat_minor": 2
}
