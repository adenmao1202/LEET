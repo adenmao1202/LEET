{
  "cells": [
    {
      "cell_type": "markdown",
      "metadata": {
        "id": "boKRfbLtXFSb"
      },
      "source": [
        "# Review: 0319 Zuvio"
      ]
    },
    {
      "cell_type": "markdown",
      "metadata": {
        "id": "R6r_R_UveHwk"
      },
      "source": [
        "# Review: Programming Exercise 04"
      ]
    },
    {
      "cell_type": "code",
      "execution_count": null,
      "metadata": {
        "id": "4Zl-iv-cmJmf"
      },
      "outputs": [],
      "source": [
        "def merge_two_sorted_arrays(nums1: list, m: int, nums2: list, n: int):\n",
        "    \"\"\"\n",
        "    將兩個已排序的陣列 nums1 和 nums2 合併到 nums1 中。\n",
        "\n",
        "    Args:\n",
        "        nums1: 第一個已排序的陣列，長度為 m + n，其中前 m 個元素是有效的，後 n 個元素為 None。\n",
        "        m: nums1 中有效元素的數量。\n",
        "        nums2: 第二個已排序的陣列，長度為 n。\n",
        "        n: nums2 的長度。\n",
        "\n",
        "    Returns:\n",
        "        此函式不回傳任何值，它直接修改 nums1。\n",
        "    \"\"\"\n",
        "\n",
        "    # 分別指向 nums1 和 nums2 有效部分的尾端\n",
        "    end1 = m - 1  # need fix\n",
        "    end2 = n - 1  # need fix\n",
        "\n",
        "    # 指向 nums1 的寫入位置（從尾端開始）\n",
        "    write_idx = m + n - 1 # need fix\n",
        "\n",
        "    # 從兩個陣列的尾端開始比較，將較大的元素放到 nums1 的寫入位置\n",
        "    while end1 >= 0 and end2 >= 0:\n",
        "        if nums1[end1] > nums2[end2]:\n",
        "            nums1[write_idx] = ___________ # need fix\n",
        "            end1 -= 1  # nums1 的指標往前移\n",
        "        else:\n",
        "            nums1[write_idx] = ___________ # need fix\n",
        "            end2 -= 1  # nums2 的指標往前移\n",
        "        write_idx -= 1  # 寫入位置往前移\n",
        "\n",
        "    # 如果 nums2 還有剩餘元素，將它們複製到 nums1 的開頭\n",
        "    while end2 >= 0:\n",
        "        nums1[write_idx] = nums2[end2]\n",
        "        end2 -= 1\n",
        "        write_idx -= 1\n"
      ]
    },
    {
      "cell_type": "code",
      "execution_count": null,
      "metadata": {
        "id": "7h1pebkC5b9t"
      },
      "outputs": [],
      "source": [
        "nums1 = [5,13,17,None,None,None,None,None]\n",
        "merge_two_sorted_arrays(nums1, 3, [3,7,11,19], 4)\n",
        "print(nums1[:7]) #[3, 5, 7, 11, 13, 17, 19]\n",
        "nums1 = [-1,None,None,None,None,None,None]\n",
        "merge_two_sorted_arrays(nums1, 1, [-3,-1,0,3], 4)\n",
        "print(nums1[:5]) #[-3, -1, -1, 0, 3]\n",
        "nums1 = [-4,1,1,2]\n",
        "merge_two_sorted_arrays(nums1, 4, [], 0)\n",
        "print(nums1[:4]) #[-4, 1, 1, 2]\n",
        "nums1 = [None,None,None,None,None,None,None,None,None,None,None,None,None]\n",
        "merge_two_sorted_arrays(nums1, 0, [-13,-12,-12,-7,-1,2,5,6,6,13], 10)\n",
        "print(nums1[:10]) #[-13, -12, -12, -7, -1, 2, 5, 6, 6, 13]\n",
        "nums1 = [0,0,None,None,None,None,None,None]\n",
        "merge_two_sorted_arrays(nums1, 2, [-5, -5, 1, 2, 4, 5], 6)\n",
        "print(nums1[:8]) #[-5, -5, 0, 0, 1, 2, 4, 5]"
      ]
    },
    {
      "cell_type": "code",
      "execution_count": 2,
      "metadata": {
        "id": "1ryz71me6SUk"
      },
      "outputs": [],
      "source": [
        "import heapq\n",
        "# version 1: O(n log k)\n",
        "def find_closest_elements(arr, k, x):\n",
        "    \"\"\"\n",
        "    在一個已排序的整數陣列 arr 中，找出 k 個最接近 x 的元素。\n",
        "\n",
        "    Args:\n",
        "        arr: 已排序的整數陣列。\n",
        "        k: 要找出的最接近元素的數量。\n",
        "        x: 目標值。\n",
        "\n",
        "    Returns:\n",
        "        一個包含 k 個最接近 x 的元素的列表，並以遞增順序排列。\n",
        "    \"\"\"\n",
        "    heap = []  # 初始化一個空的 heap (最小堆積)\n",
        "    \n",
        "    for num in arr:\n",
        "        dist = abs(num - x)  # 計算目前數字與 x 的距離\n",
        "        heapq.heappush (heap, (-dist, -num))   # second element is a tuple\n",
        "        # need fix 將 (-距離, -數字) 推入 heap。\n",
        "        # 使用負號是因為 heapq 實作的是最小堆積，我們需要的是最大堆積 (距離越大越優先)\n",
        "        \n",
        "        if len(heap) > k:\n",
        "            heapq.heappop(heap)  # 如果 heap 中的元素數量超過 k，移除堆頂元素 (距離最大的)\n",
        "\n",
        "    result = [-num for _, num in heap]  # 從 heap 中取出數字部分 (原本存的是負數，這裡轉回正數)\n",
        "    result.sort()  \n",
        "    return result"
      ]
    },
    {
      "cell_type": "code",
      "execution_count": 7,
      "metadata": {
        "id": "0IS4IplM6f5A"
      },
      "outputs": [],
      "source": [
        "import heapq\n",
        "# version 2: O(n log n)\n",
        "def find_closest_elements2(arr, k, x):\n",
        "    data = [(abs(num - x),num) for num in arr] # 建立一個包含 (距離, 數字) tuples的 list\n",
        "    print(data)\n",
        "    \n",
        "    result = [num for _, num in heapq.nsmallest(k,data)] # need fix 找出 k 個最小的(距離, 數字)tuples，並取出數字部分\n",
        "    print(result)\n",
        "    result.sort() \n",
        "    return result"
      ]
    },
    {
      "cell_type": "code",
      "execution_count": 8,
      "metadata": {
        "id": "l7NyxRiF6_88"
      },
      "outputs": [
        {
          "name": "stdout",
          "output_type": "stream",
          "text": [
            "[(2, 1), (1, 2), (0, 3), (1, 4), (2, 5)]\n",
            "[3, 2]\n",
            "[2, 3]\n"
          ]
        }
      ],
      "source": [
        "print(find_closest_elements2([1,2,3,4,5], 2, 3)) # [2, 3]\n",
        "# print(find_closest_elements([1,2,3,4,5], 4, 3)) # [1, 2, 3, 4]\n",
        "# print(find_closest_elements([1,2,3,4,5], 4, -1)) # [1, 2, 3, 4]\n",
        "# print(find_closest_elements([1,1,1,10,10,10], 1, 9)) #[10]\n",
        "# print(find_closest_elements([-2, -1, 0, 0, 1, 2], 4, 0)) #[-1, 0, 0, 1]"
      ]
    },
    {
      "cell_type": "markdown",
      "metadata": {
        "id": "KmijyVloH_tX"
      },
      "source": [
        "# Sorting"
      ]
    },
    {
      "cell_type": "code",
      "execution_count": 1,
      "metadata": {
        "id": "RMm8IIGMok9I"
      },
      "outputs": [
        {
          "name": "stdout",
          "output_type": "stream",
          "text": [
            "\u001b[0;31mSignature:\u001b[0m \u001b[0mlist\u001b[0m\u001b[0;34m.\u001b[0m\u001b[0msort\u001b[0m\u001b[0;34m(\u001b[0m\u001b[0mself\u001b[0m\u001b[0;34m,\u001b[0m \u001b[0;34m/\u001b[0m\u001b[0;34m,\u001b[0m \u001b[0;34m*\u001b[0m\u001b[0;34m,\u001b[0m \u001b[0mkey\u001b[0m\u001b[0;34m=\u001b[0m\u001b[0;32mNone\u001b[0m\u001b[0;34m,\u001b[0m \u001b[0mreverse\u001b[0m\u001b[0;34m=\u001b[0m\u001b[0;32mFalse\u001b[0m\u001b[0;34m)\u001b[0m\u001b[0;34m\u001b[0m\u001b[0;34m\u001b[0m\u001b[0m\n",
            "\u001b[0;31mDocstring:\u001b[0m\n",
            "Sort the list in ascending order and return None.\n",
            "\n",
            "The sort is in-place (i.e. the list itself is modified) and stable (i.e. the\n",
            "order of two equal elements is maintained).\n",
            "\n",
            "If a key function is given, apply it once to each list item and sort them,\n",
            "ascending or descending, according to their function values.\n",
            "\n",
            "The reverse flag can be set to sort in descending order.\n",
            "\u001b[0;31mType:\u001b[0m      method_descriptor"
          ]
        }
      ],
      "source": [
        "list.sort?"
      ]
    },
    {
      "cell_type": "code",
      "execution_count": 2,
      "metadata": {
        "id": "TAjbs1_WVLFZ"
      },
      "outputs": [
        {
          "name": "stdout",
          "output_type": "stream",
          "text": [
            "None [1, 2, 3, 4, 5, 6, 7, 9]\n"
          ]
        }
      ],
      "source": [
        "nums=[2,3,1,7,9,4,6,5]\n",
        "result = nums.sort()\n",
        "print(result, nums)"
      ]
    },
    {
      "cell_type": "code",
      "execution_count": 11,
      "metadata": {
        "id": "4wjMBj4uo-_d"
      },
      "outputs": [
        {
          "name": "stdout",
          "output_type": "stream",
          "text": [
            "\u001b[0;31mSignature:\u001b[0m \u001b[0msorted\u001b[0m\u001b[0;34m(\u001b[0m\u001b[0miterable\u001b[0m\u001b[0;34m,\u001b[0m \u001b[0;34m/\u001b[0m\u001b[0;34m,\u001b[0m \u001b[0;34m*\u001b[0m\u001b[0;34m,\u001b[0m \u001b[0mkey\u001b[0m\u001b[0;34m=\u001b[0m\u001b[0;32mNone\u001b[0m\u001b[0;34m,\u001b[0m \u001b[0mreverse\u001b[0m\u001b[0;34m=\u001b[0m\u001b[0;32mFalse\u001b[0m\u001b[0;34m)\u001b[0m\u001b[0;34m\u001b[0m\u001b[0;34m\u001b[0m\u001b[0m\n",
            "\u001b[0;31mDocstring:\u001b[0m\n",
            "Return a new list containing all items from the iterable in ascending order.\n",
            "\n",
            "A custom key function can be supplied to customize the sort order, and the\n",
            "reverse flag can be set to request the result in descending order.\n",
            "\u001b[0;31mType:\u001b[0m      builtin_function_or_method"
          ]
        }
      ],
      "source": [
        "sorted?"
      ]
    },
    {
      "cell_type": "code",
      "execution_count": 3,
      "metadata": {
        "id": "tNqyWhAlreE_"
      },
      "outputs": [
        {
          "name": "stdout",
          "output_type": "stream",
          "text": [
            "[1, 2, 3, 4, 5, 6, 7, 9]\n",
            "[2, 3, 1, 7, 9, 4, 6, 5]\n"
          ]
        }
      ],
      "source": [
        "nums=[2,3,1,7,9,4,6,5]\n",
        "print(sorted(nums))\n",
        "print(nums)   # not in place"
      ]
    },
    {
      "cell_type": "code",
      "execution_count": 13,
      "metadata": {
        "id": "VkhB2KXcdpxG"
      },
      "outputs": [
        {
          "name": "stdout",
          "output_type": "stream",
          "text": [
            "[1, 2, 3, 4, 5, 6, 7, 9]\n",
            "(2, 3, 1, 7, 9, 4, 6, 5) <class 'tuple'>\n"
          ]
        }
      ],
      "source": [
        "nums = (2,3,1,7,9,4,6,5)\n",
        "print(sorted(nums))\n",
        "print(nums,type(nums))"
      ]
    },
    {
      "cell_type": "markdown",
      "metadata": {},
      "source": [
        "會考"
      ]
    },
    {
      "cell_type": "code",
      "execution_count": 20,
      "metadata": {
        "id": "3Il5mE_BdUtb"
      },
      "outputs": [
        {
          "name": "stdout",
          "output_type": "stream",
          "text": [
            "True\n",
            "False\n"
          ]
        }
      ],
      "source": [
        "s = \"bgdsyiomo7fr\"\n",
        "t = \"bgdsyio7mofr\"\n",
        "print(sorted(s) == sorted(t))\n",
        "print(s == t)  # not inplace "
      ]
    },
    {
      "cell_type": "code",
      "execution_count": 21,
      "metadata": {
        "id": "zQOuMq1xdvG5"
      },
      "outputs": [
        {
          "data": {
            "text/plain": [
              "(['7', 'b', 'd', 'f', 'g', 'i', 'm', 'o', 'o', 'r', 's', 'y'],\n",
              " ['7', 'b', 'd', 'f', 'g', 'i', 'm', 'o', 'o', 'r', 's', 'y'])"
            ]
          },
          "execution_count": 21,
          "metadata": {},
          "output_type": "execute_result"
        }
      ],
      "source": [
        "sorted(s), sorted(t)"
      ]
    },
    {
      "cell_type": "code",
      "execution_count": 24,
      "metadata": {
        "id": "bKvAcKUAp3WH"
      },
      "outputs": [
        {
          "name": "stdout",
          "output_type": "stream",
          "text": [
            "True\n",
            "False\n"
          ]
        }
      ],
      "source": [
        "print(sorted(\"earth\") ==  sorted(\"heart\"))\n",
        "print(\"earth\" == \"heart\")"
      ]
    },
    {
      "cell_type": "markdown",
      "metadata": {
        "id": "Nibmwl5ZKDGF"
      },
      "source": [
        "# Quicksort"
      ]
    },
    {
      "cell_type": "markdown",
      "metadata": {},
      "source": [
        "partition : \n",
        "- find pivot 基準值\n",
        "- s.t. all left ele < pivot and all right ele >= pivot "
      ]
    },
    {
      "cell_type": "markdown",
      "metadata": {},
      "source": [
        "- left wall 代表小於pivot ele 的邊界\n",
        "- leftwall 的 location 就是 pivot 最後應該在的位置 "
      ]
    },
    {
      "cell_type": "code",
      "execution_count": 4,
      "metadata": {},
      "outputs": [],
      "source": [
        "# for below quick sort\n",
        "\n",
        "def partition(nums:list, low:int, high:int)->int:\n",
        "  pivot = nums[low]   # leftmost ele as pivot\n",
        "  leftwall = low\n",
        "  \n",
        "  for i in range(low+1,high+1):\n",
        "    if nums[i] < pivot:\n",
        "      leftwall += 1\n",
        "      nums[i], nums[leftwall] = nums[leftwall], nums[i]\n",
        "  nums[low], nums[leftwall] = nums[leftwall], nums[low]\n",
        "  \n",
        "  return leftwall, nums"
      ]
    },
    {
      "cell_type": "code",
      "execution_count": 8,
      "metadata": {},
      "outputs": [
        {
          "name": "stdout",
          "output_type": "stream",
          "text": [
            "(6, [-9, 23, 8, 4, -14, 21, 29, 37, 34, 30])\n"
          ]
        }
      ],
      "source": [
        "nums = [29, 23, 30, 8, 4, -14, 21, 37, 34, -9]\n",
        "result = partition(nums, 0, len(nums)-1)\n",
        "print(result)"
      ]
    },
    {
      "cell_type": "code",
      "execution_count": 6,
      "metadata": {
        "id": "BHbAJCt0J72y"
      },
      "outputs": [],
      "source": [
        "def quicksort(nums:list, low:int, high:int):\n",
        "  if low < high:\n",
        "    pivot_idx = partition(nums, low, high)\n",
        "    print(\"pivot is:\",nums[pivot_idx], nums)   # 這邊只是找到 pivot 而已\n",
        "    \n",
        "    quicksort(nums, low, pivot_idx-1)\n",
        "    quicksort(nums, pivot_idx+1, high)"
      ]
    },
    {
      "cell_type": "code",
      "execution_count": 7,
      "metadata": {
        "id": "BxG7Q0IgKg8o"
      },
      "outputs": [
        {
          "ename": "TypeError",
          "evalue": "list indices must be integers or slices, not tuple",
          "output_type": "error",
          "traceback": [
            "\u001b[0;31m---------------------------------------------------------------------------\u001b[0m",
            "\u001b[0;31mTypeError\u001b[0m                                 Traceback (most recent call last)",
            "Cell \u001b[0;32mIn[7], line 2\u001b[0m\n\u001b[1;32m      1\u001b[0m nums \u001b[38;5;241m=\u001b[39m [\u001b[38;5;241m29\u001b[39m, \u001b[38;5;241m23\u001b[39m, \u001b[38;5;241m30\u001b[39m, \u001b[38;5;241m8\u001b[39m, \u001b[38;5;241m4\u001b[39m, \u001b[38;5;241m-\u001b[39m\u001b[38;5;241m14\u001b[39m, \u001b[38;5;241m21\u001b[39m, \u001b[38;5;241m37\u001b[39m, \u001b[38;5;241m34\u001b[39m, \u001b[38;5;241m-\u001b[39m\u001b[38;5;241m9\u001b[39m]\n\u001b[0;32m----> 2\u001b[0m \u001b[43mquicksort\u001b[49m\u001b[43m(\u001b[49m\u001b[43mnums\u001b[49m\u001b[43m,\u001b[49m\u001b[43m \u001b[49m\u001b[38;5;241;43m0\u001b[39;49m\u001b[43m,\u001b[49m\u001b[43m \u001b[49m\u001b[38;5;28;43mlen\u001b[39;49m\u001b[43m(\u001b[49m\u001b[43mnums\u001b[49m\u001b[43m)\u001b[49m\u001b[38;5;241;43m-\u001b[39;49m\u001b[38;5;241;43m1\u001b[39;49m\u001b[43m)\u001b[49m\n\u001b[1;32m      3\u001b[0m \u001b[38;5;28mprint\u001b[39m(nums)\n",
            "Cell \u001b[0;32mIn[6], line 4\u001b[0m, in \u001b[0;36mquicksort\u001b[0;34m(nums, low, high)\u001b[0m\n\u001b[1;32m      2\u001b[0m \u001b[38;5;28;01mif\u001b[39;00m low \u001b[38;5;241m<\u001b[39m high:\n\u001b[1;32m      3\u001b[0m   pivot_idx \u001b[38;5;241m=\u001b[39m partition(nums, low, high)\n\u001b[0;32m----> 4\u001b[0m   \u001b[38;5;28mprint\u001b[39m(\u001b[38;5;124m\"\u001b[39m\u001b[38;5;124mpivot is:\u001b[39m\u001b[38;5;124m\"\u001b[39m,\u001b[43mnums\u001b[49m\u001b[43m[\u001b[49m\u001b[43mpivot_idx\u001b[49m\u001b[43m]\u001b[49m, nums)   \u001b[38;5;66;03m# 這邊只是找到 pivot 而已\u001b[39;00m\n\u001b[1;32m      6\u001b[0m   quicksort(nums, low, pivot_idx\u001b[38;5;241m-\u001b[39m\u001b[38;5;241m1\u001b[39m)\n\u001b[1;32m      7\u001b[0m   quicksort(nums, pivot_idx\u001b[38;5;241m+\u001b[39m\u001b[38;5;241m1\u001b[39m, high)\n",
            "\u001b[0;31mTypeError\u001b[0m: list indices must be integers or slices, not tuple"
          ]
        }
      ],
      "source": [
        "nums = [29, 23, 30, 8, 4, -14, 21, 37, 34, -9]\n",
        "quicksort(nums, 0, len(nums)-1)\n",
        "print(nums)"
      ]
    },
    {
      "cell_type": "code",
      "execution_count": null,
      "metadata": {
        "id": "m1skNBr5LOOo"
      },
      "outputs": [],
      "source": [
        "# dancing version\n",
        "def partition(nums:list, low:int, high:int)->int:\n",
        "  pivot, hat, step = low, high, -1\n",
        "  while pivot != hat:\n",
        "    if step == -1 and nums[pivot] > nums[hat]:\n",
        "      nums[pivot], nums[hat] = nums[hat], nums[pivot]\n",
        "      pivot, hat, step = hat, pivot, 1\n",
        "    elif step == 1 and nums[pivot] < nums[hat]:\n",
        "      nums[pivot], nums[hat] = nums[hat], nums[pivot]\n",
        "      pivot, hat, step = hat, pivot, -1\n",
        "    hat += step\n",
        "  return pivot"
      ]
    },
    {
      "cell_type": "code",
      "execution_count": null,
      "metadata": {
        "id": "yCgR8_d1nmhq"
      },
      "outputs": [],
      "source": [
        "nums = [3,0,1,8,7,2,5,4,9,6]\n",
        "quicksort(nums, 0, len(nums)-1)\n",
        "print(nums)"
      ]
    },
    {
      "cell_type": "markdown",
      "metadata": {},
      "source": [
        "Test "
      ]
    },
    {
      "cell_type": "code",
      "execution_count": null,
      "metadata": {
        "id": "SznamT25K0zL"
      },
      "outputs": [],
      "source": []
    }
  ],
  "metadata": {
    "colab": {
      "provenance": [],
      "toc_visible": true
    },
    "kernelspec": {
      "display_name": "Python 3",
      "name": "python3"
    },
    "language_info": {
      "codemirror_mode": {
        "name": "ipython",
        "version": 3
      },
      "file_extension": ".py",
      "mimetype": "text/x-python",
      "name": "python",
      "nbconvert_exporter": "python",
      "pygments_lexer": "ipython3",
      "version": "3.12.9"
    }
  },
  "nbformat": 4,
  "nbformat_minor": 0
}
