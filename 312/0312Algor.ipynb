{
  "cells": [
    {
      "cell_type": "markdown",
      "metadata": {
        "id": "boKRfbLtXFSb"
      },
      "source": [
        "# Review: 0302 Zuvio"
      ]
    },
    {
      "cell_type": "markdown",
      "metadata": {
        "id": "R6r_R_UveHwk"
      },
      "source": [
        "# Review: Programming Exercise 02"
      ]
    },
    {
      "cell_type": "code",
      "execution_count": 1,
      "metadata": {
        "id": "ex0BOhRqtwPP"
      },
      "outputs": [],
      "source": [
        "class ListNode:\n",
        "    def __init__(self, data:int):\n",
        "        self.data = data\n",
        "        self.next = None\n",
        "    def __iter__(self):\n",
        "        current = self\n",
        "        while current is not None:\n",
        "            yield current # suspend and output current ListNode object\n",
        "            current = current.next\n",
        "\n",
        "def init_list(seq:list)->ListNode:\n",
        "    head = None\n",
        "    for seq_idx,i in enumerate(seq):\n",
        "        if head is None:\n",
        "            head = ListNode(i)\n",
        "            tail = head\n",
        "        elif type(i) is int and i < 0:\n",
        "            for idx,n in enumerate(head):\n",
        "                if idx == seq_idx+i:\n",
        "                    tail.next = n\n",
        "                    break\n",
        "        else:\n",
        "            tail.next = ListNode(i)\n",
        "            tail = tail.next\n",
        "    return head"
      ]
    },
    {
      "cell_type": "code",
      "execution_count": 4,
      "metadata": {
        "id": "QyFF1d3Z36Fk"
      },
      "outputs": [],
      "source": [
        "def has_cycle(head):\n",
        "    turtle = rabbit = head\n",
        "    while rabbit and rabbit.next: \n",
        "        turtle = turtle.next # 烏龜一次走一格\n",
        "        rabbit = rabbit.next.next\n",
        "        if rabbit is turtle: # 兩者碰到\n",
        "            rabbit = head # 兔子從頭開始 (very beginning)\n",
        "            while not rabbit is turtle:  # 兩者沒碰到 --> the math below \n",
        "                rabbit = rabbit.next # 這次烏龜兔子都一次走一格\n",
        "                turtle = turtle.next\n",
        "            return rabbit.data\n",
        "    return None"
      ]
    },
    {
      "cell_type": "code",
      "execution_count": null,
      "metadata": {
        "id": "q_EBzh6YtwPS"
      },
      "outputs": [],
      "source": [
        "print(has_cycle(init_list([1,2,3,4,5]))) #None\n",
        "print(has_cycle(init_list([1,2,3,4,5,6,7,8,-5]))) #4\n"
      ]
    },
    {
      "cell_type": "code",
      "execution_count": null,
      "metadata": {},
      "outputs": [],
      "source": [
        "print(has_cycle(init_list([1]))) #None\n",
        "print(has_cycle(init_list([1,2,3,4,5,6,7,8,9,10,11,12,13,14,15,16,17,18,19,20,-20]))) #1\n",
        "print(has_cycle(init_list([1,2,3,4,5,6,7,8,9,10,11,12,13,14,15,16,17,18,19,20,-1]))) #20\n",
        "print(has_cycle(init_list([3,4,6,9,10,11,19]))) #None\n",
        "print(has_cycle(init_list([3,4,6,9,10,11,19,-4]))) #9\n",
        "print(has_cycle(init_list([8,7,6,5,4,3,2,1,1,1,1]))) #None\n",
        "print(has_cycle(init_list([3,0,1,2,5,8,5,7,9,6,-10]))) #3\n",
        "print(has_cycle(init_list(['Lincoln', 'Jefferson', 'Bush', 'Clinton', 'Bush', 'Obama', 'Trump', -1]))) #Trump"
      ]
    },
    {
      "cell_type": "markdown",
      "metadata": {},
      "source": [
        "### sodoku problem "
      ]
    },
    {
      "cell_type": "code",
      "execution_count": 7,
      "metadata": {
        "id": "GJKke4jStwPT"
      },
      "outputs": [],
      "source": [
        "# Hint: magic formula for 3x3 subarray: [(i//3)*3+j//3][(i%3)*3+j%3]\n",
        "def is_valid_sudoku(board:list)->bool:\n",
        "    for i in range(9):\n",
        "        row = [board[i][j]for j in range(9) if board[i][j] != 0]    #need to fix \"將第i個Row裡的所有非0值生成list\"\n",
        "        column = [board[j][i]for j in range(9) if board[j][i] != 0]   #need to fix \"將第i個Column裡的所有非0值生成list\"\n",
        "        block = [board[(i//3)*3+j//3][(i%3)*3+j%3] for j in range(9) if board[(i//3)*3+j//3][(i%3)*3+j%3] != 0] #need to fix \"將第i個Block裡的所有非0值生成list\"\n",
        "        if len(row) != len(set(row)) or len(column) != len(set(column)) or len(block) != len(set(block)): #need to fix \"block裡有重複值\":\n",
        "            return False\n",
        "    return True"
      ]
    },
    {
      "cell_type": "code",
      "execution_count": null,
      "metadata": {
        "id": "jW3WfDdaHW3f"
      },
      "outputs": [],
      "source": [
        "board = \\\n",
        "[[0, 0, 0, 0, 0, 0, 0, 8, 1],\n",
        " [9, 0, 0, 0, 7, 0, 3, 0, 0],\n",
        " [0, 0, 0, 9, 2, 4, 0, 6, 0],\n",
        " [0, 8, 5, 0, 0, 0, 0, 0, 0],\n",
        " [7, 4, 0, 0, 3, 0, 0, 2, 6],\n",
        " [0, 1, 0, 0, 0, 9, 7, 0, 0],\n",
        " [0, 6, 0, 0, 0, 1, 0, 0, 3],\n",
        " [3, 2, 0, 0, 8, 7, 0, 0, 0],\n",
        " [8, 0, 0, 0, 5, 6, 2, 1, 4]]\n"
      ]
    },
    {
      "cell_type": "code",
      "execution_count": null,
      "metadata": {
        "id": "XQxevxWRfrD9"
      },
      "outputs": [],
      "source": [
        "print(is_valid_sudoku(\n",
        "[[0, 0, 0, 0, 0, 0, 0, 8, 1],\n",
        " [9, 0, 0, 0, 7, 0, 3, 0, 0],\n",
        " [0, 0, 0, 9, 2, 4, 0, 6, 0],\n",
        " [0, 8, 5, 0, 0, 0, 0, 0, 0],\n",
        " [7, 4, 0, 0, 3, 0, 0, 2, 6],\n",
        " [0, 1, 0, 0, 0, 9, 7, 0, 0],\n",
        " [0, 6, 0, 0, 0, 1, 0, 0, 3],\n",
        " [3, 2, 0, 0, 8, 7, 0, 0, 0],\n",
        " [8, 0, 0, 0, 5, 6, 2, 1, 4]])) #True"
      ]
    },
    {
      "cell_type": "code",
      "execution_count": null,
      "metadata": {
        "id": "IFkhOMxNtwPY"
      },
      "outputs": [],
      "source": [
        "print(is_valid_sudoku(\n",
        "[[0, 0, 0, 0, 0, 0, 0, 8, 1],\n",
        " [9, 0, 0, 0, 7, 0, 3, 0, 0],\n",
        " [0, 0, 0, 9, 2, 4, 0, 6, 0],\n",
        " [0, 8, 5, 0, 0, 0, 0, 0, 0],\n",
        " [7, 4, 0, 0, 3, 0, 0, 2, 6],\n",
        " [0, 1, 0, 0, 0, 9, 7, 0, 0],\n",
        " [0, 6, 0, 0, 0, 1, 0, 0, 3],\n",
        " [3, 2, 0, 0, 8, 7, 0, 0, 0],\n",
        " [8, 0, 0, 0, 5, 6, 2, 1, 4]])) #True\n",
        "print(is_valid_sudoku(\n",
        "[[0, 0, 0, 0, 0, 0, 0, 0, 0],\n",
        " [0, 0, 0, 0, 0, 0, 1, 0, 0],\n",
        " [0, 0, 0, 0, 7, 0, 0, 0, 0],\n",
        " [8, 0, 7, 0, 0, 0, 0, 0, 4],\n",
        " [0, 0, 3, 0, 5, 4, 0, 0, 0],\n",
        " [0, 0, 1, 0, 0, 0, 3, 4, 0],\n",
        " [0, 0, 8, 0, 0, 0, 0, 0, 0],\n",
        " [0, 0, 0, 0, 4, 2, 0, 0, 6],\n",
        " [0, 0, 0, 0, 0, 0, 0, 0, 3]])) #False\n",
        "print(is_valid_sudoku(\n",
        "[[4, 2, 9, 5, 3, 7, 1, 8, 6],\n",
        " [3, 8, 6, 2, 1, 4, 7, 9, 5],\n",
        " [1, 5, 7, 6, 9, 8, 2, 4, 3],\n",
        " [7, 9, 2, 1, 8, 6, 3, 5, 4],\n",
        " [8, 1, 5, 3, 4, 9, 6, 2, 7],\n",
        " [6, 4, 3, 7, 5, 2, 8, 1, 9],\n",
        " [9, 6, 1, 4, 2, 3, 5, 7, 8],\n",
        " [5, 3, 8, 9, 7, 1, 4, 6, 2],\n",
        " [2, 7, 4, 8, 6, 5, 9, 3, 1]])) #True\n",
        "print(is_valid_sudoku(\n",
        "[[4, 2, 9, 5, 3, 7, 1, 8, 6],\n",
        " [3, 8, 6, 2, 1, 4, 7, 9, 5],\n",
        " [1, 5, 7, 6, 9, 8, 2, 4, 3],\n",
        " [7, 9, 2, 1, 3, 6, 3, 5, 4],\n",
        " [8, 1, 5, 3, 4, 9, 6, 2, 7],\n",
        " [6, 4, 3, 7, 5, 2, 8, 1, 9],\n",
        " [9, 6, 1, 4, 2, 3, 5, 7, 8],\n",
        " [5, 3, 8, 9, 7, 1, 4, 6, 2],\n",
        " [2, 7, 4, 8, 6, 5, 9, 3, 1]])) #False\n",
        "print(is_valid_sudoku(\n",
        "[[0, 0, 0, 0, 0, 0, 3, 0, 4],\n",
        " [0, 0, 0, 1, 0, 9, 8, 0, 0],\n",
        " [0, 8, 0, 0, 5, 0, 0, 9, 7],\n",
        " [0, 0, 5, 0, 0, 8, 7, 0, 2],\n",
        " [1, 7, 0, 5, 0, 2, 0, 0, 0],\n",
        " [9, 0, 6, 0, 0, 4, 0, 0, 0],\n",
        " [6, 3, 0, 0, 9, 0, 0, 0, 1],\n",
        " [0, 1, 0, 0, 2, 0, 5, 0, 9],\n",
        " [0, 0, 4, 7, 3, 0, 0, 0, 6]])) #True"
      ]
    },
    {
      "cell_type": "markdown",
      "metadata": {
        "id": "r3BOA_z1-hpV"
      },
      "source": [
        "# Binary Search Trees(二元搜尋樹)"
      ]
    },
    {
      "cell_type": "markdown",
      "metadata": {},
      "source": [
        "time complexity : O(h) \n",
        "- h: height of tree \n",
        "\n",
        "\n",
        "Note : \n",
        "1. what are max and min element in binary search tree : \n",
        "    - in here we assume larger on the right, smaller on the left \n",
        "\n",
        "2. If 𝑋has two children ... \n",
        "    - its predecessor is the maximum value in its left subtree and \n",
        "    - its successor(後繼子) the minimum value in its right subtree.\n",
        "    "
      ]
    },
    {
      "cell_type": "code",
      "execution_count": 1,
      "metadata": {
        "id": "2GwU_GqC-iwJ"
      },
      "outputs": [],
      "source": [
        "class BinaryTreeNode:\n",
        "    def __init__(self, data):\n",
        "        self.data = data\n",
        "        self.parent = None # optional \n",
        "        self.left = None\n",
        "        self.right = None\n",
        "    \n",
        "    def search_tree(self, key):\n",
        "        if self.data == key:\n",
        "            return self\n",
        "        if key < self.data:\n",
        "            if self.left:\n",
        "                return self.left.search_tree(key)\n",
        "        else:\n",
        "            if self.right:\n",
        "                return self.right.search_tree(key)\n",
        "        return None\n",
        "    \n",
        "    def insert_tree(self, new_node):  # *** \n",
        "        if self.data > new_node.data:\n",
        "            if self.left is None:\n",
        "                self.left = new_node\n",
        "                new_node.parent = self\n",
        "            else:\n",
        "                self.left.insert_tree(new_node)\n",
        "        else:\n",
        "            if self.right is None:\n",
        "                self.right = new_node\n",
        "                new_node.parent = self\n",
        "            else:\n",
        "                self.right.insert_tree(new_node)\n",
        "    \n",
        "    def find_minimum(self):\n",
        "        min_node = self\n",
        "        while min_node.left:\n",
        "            min_node = min_node.left\n",
        "        return min_node\n",
        "    \n",
        "    def find_maximum(self):\n",
        "        max_node = self\n",
        "        while max_node.right:\n",
        "            max_node = max_node.right\n",
        "        return max_node\n",
        "    \n",
        "    def tree_traversal(self): #in order\n",
        "        if self.left:\n",
        "            self.left.tree_traversal()\n",
        "        print(self.data, end=' ')\n",
        "        if self.right:\n",
        "            self.right.tree_traversal()\n",
        "            \n",
        "            \n",
        "    def create(self, sequence, index): #create tree from list sequence\n",
        "        if index >= len(sequence) or sequence[index] == None:   # 作為遞迴呼叫的出口條件\n",
        "            return None\n",
        "        else:\n",
        "            tempNode = BinaryTreeNode(sequence[index])\n",
        "            # 建立左子樹\n",
        "            tempNode.left = self.create(sequence, 2*index+1)\n",
        "            # 建立右子樹\n",
        "            tempNode.right = self.create(sequence, 2*index+2)\n",
        "            tempNode.parent = self\n",
        "            return tempNode"
      ]
    },
    {
      "cell_type": "markdown",
      "metadata": {},
      "source": [
        "### Practice "
      ]
    },
    {
      "cell_type": "markdown",
      "metadata": {},
      "source": [
        "tree traversal "
      ]
    },
    {
      "cell_type": "code",
      "execution_count": 3,
      "metadata": {},
      "outputs": [
        {
          "name": "stdout",
          "output_type": "stream",
          "text": [
            "A B C D E F G H H\n"
          ]
        }
      ],
      "source": [
        "chars = 'HAFBDGCE'\n",
        "root = None\n",
        "for c in chars:\n",
        "    if root is None:\n",
        "        root = BinaryTreeNode(c)\n",
        "    else:\n",
        "        root.insert_tree(BinaryTreeNode(c))\n",
        "\n",
        "\n",
        "root.tree_traversal()\n",
        "print(root.data)\n"
      ]
    },
    {
      "cell_type": "code",
      "execution_count": 4,
      "metadata": {},
      "outputs": [
        {
          "name": "stdout",
          "output_type": "stream",
          "text": [
            "       H\n",
            "  _____ \n",
            " /      \n",
            " A      \n",
            " ____   \n",
            "     \\  \n",
            "     F  \n",
            "   __   \n",
            "  /   \\ \n",
            "  B   G \n",
            "  _     \n",
            "   \\    \n",
            "   D    \n",
            "        \n",
            "  / \\   \n",
            "  C E   \n"
          ]
        }
      ],
      "source": [
        "from pretty_tree_printer import pretty_print_tree\n",
        "pretty_print_tree(root)\n"
      ]
    },
    {
      "cell_type": "markdown",
      "metadata": {},
      "source": [
        "insert node "
      ]
    },
    {
      "cell_type": "code",
      "execution_count": 6,
      "metadata": {},
      "outputs": [],
      "source": [
        "# 创建根节点\n",
        "root = BinaryTreeNode(26)\n",
        "\n",
        "# 创建并插入新节点\n",
        "node1 = BinaryTreeNode(5)\n",
        "node2 = BinaryTreeNode(77)\n",
        "node3 = BinaryTreeNode(19)\n",
        "node4 = BinaryTreeNode(13)\n",
        "node5 = BinaryTreeNode(2)\n",
        "node6 = BinaryTreeNode(55)\n",
        "node7 = BinaryTreeNode(49)\n",
        "# 插入节点\n",
        "root.insert_tree(node1)  \n",
        "root.insert_tree(node2)  \n",
        "root.insert_tree(node3)  \n",
        "root.insert_tree(node4)  \n",
        "root.insert_tree(node5)  \n",
        "root.insert_tree(node6)  \n",
        "root.insert_tree(node7)  "
      ]
    },
    {
      "cell_type": "code",
      "execution_count": 7,
      "metadata": {},
      "outputs": [
        {
          "name": "stdout",
          "output_type": "stream",
          "text": [
            "      26      \n",
            "  ____  _____ \n",
            " /           \\\n",
            " 5          77\n",
            "  ___         \n",
            "/    \\     /  \n",
            "2   19    55  \n",
            "              \n",
            "   /     /    \n",
            "  13    49    \n"
          ]
        }
      ],
      "source": [
        "from pretty_tree_printer import pretty_print_tree\n",
        "pretty_print_tree(root)\n"
      ]
    },
    {
      "cell_type": "markdown",
      "metadata": {},
      "source": [
        "Build Tree by sequence "
      ]
    },
    {
      "cell_type": "code",
      "execution_count": 4,
      "metadata": {},
      "outputs": [],
      "source": [
        "temp = BinaryTreeNode(0)\n",
        "\n",
        "sequence = [26, 5, 77, 19, 13, 2, 55, 49]\n",
        "root = temp.create(sequence, 0)"
      ]
    },
    {
      "cell_type": "code",
      "execution_count": 5,
      "metadata": {},
      "outputs": [
        {
          "name": "stdout",
          "output_type": "stream",
          "text": [
            "       26     \n",
            "     __  __   \n",
            "    /      \\  \n",
            "    5     77  \n",
            "     _      _ \n",
            "   /  \\  /   \\\n",
            "  19 13  2  55\n",
            "              \n",
            " /            \n",
            "49            \n"
          ]
        }
      ],
      "source": [
        "pretty_print_tree(root)"
      ]
    },
    {
      "cell_type": "markdown",
      "metadata": {},
      "source": [
        "search "
      ]
    },
    {
      "cell_type": "code",
      "execution_count": 9,
      "metadata": {},
      "outputs": [
        {
          "name": "stdout",
          "output_type": "stream",
          "text": [
            "find 12\n"
          ]
        }
      ],
      "source": [
        "result = root.search_tree(12)\n",
        "if result: \n",
        "    print(f'find {result.data}')\n",
        "else:\n",
        "    print('not found')\n",
        "\n"
      ]
    },
    {
      "cell_type": "code",
      "execution_count": 11,
      "metadata": {},
      "outputs": [
        {
          "name": "stdout",
          "output_type": "stream",
          "text": [
            "min node: 3\n",
            "max node: 20\n"
          ]
        }
      ],
      "source": [
        "min_node = root.find_minimum()\n",
        "print(f'min node: {min_node.data}')\n",
        "max_node = root.find_maximum()\n",
        "print(f'max node: {max_node.data}')\n",
        "\n",
        "\n"
      ]
    },
    {
      "cell_type": "code",
      "execution_count": 12,
      "metadata": {},
      "outputs": [
        {
          "name": "stdout",
          "output_type": "stream",
          "text": [
            "3 5 7 10 12 15 20 "
          ]
        }
      ],
      "source": [
        "root.tree_traversal()"
      ]
    },
    {
      "cell_type": "markdown",
      "metadata": {},
      "source": [
        "test "
      ]
    },
    {
      "cell_type": "code",
      "execution_count": 13,
      "metadata": {},
      "outputs": [
        {
          "name": "stdout",
          "output_type": "stream",
          "text": [
            "         10            \n",
            "     ____  _________   \n",
            "    /               \\  \n",
            "    5              15  \n",
            "  __ _         ____  _ \n",
            " /    \\       /       \\\n",
            " 3    7      12      20\n",
            "  _    _       ___     \n",
            "/  \\ /  \\   /     \\    \n",
            "1  3 6  8  10    14    \n",
            "                       \n",
            "   \\   /        /      \n",
            "   4   7       13      \n"
          ]
        }
      ],
      "source": [
        "seq = [8, 3, 10, 1, 6, 14, 4, 7, 13]\n",
        "for i in seq:\n",
        "    root.insert_tree(BinaryTreeNode(i))\n",
        "pretty_print_tree(root)\n",
        "\n",
        "\n",
        "\n"
      ]
    },
    {
      "cell_type": "code",
      "execution_count": 14,
      "metadata": {},
      "outputs": [],
      "source": [
        "class BinaryTreeNode:\n",
        "    def __init__(self, data):\n",
        "        self.data = data\n",
        "        self.parent = None # optional \n",
        "        self.left = None\n",
        "        self.right = None\n",
        "    \n",
        "    def search_tree(self, key):\n",
        "        if self.data == key:\n",
        "            return self\n",
        "        if key < self.data:\n",
        "            if self.left:\n",
        "                return self.left.search_tree(key)\n",
        "        else:\n",
        "            if self.right:\n",
        "                return self.right.search_tree(key)\n",
        "        return None\n",
        "    \n",
        "    def insert_tree(self, new_node):  # *** \n",
        "        if self.data > new_node.data:\n",
        "            if self.left is None:\n",
        "                self.left = new_node\n",
        "                new_node.parent = self\n",
        "            else:\n",
        "                self.left.insert_tree(new_node)\n",
        "        else:\n",
        "            if self.right is None:\n",
        "                self.right = new_node\n",
        "                new_node.parent = self\n",
        "            else:\n",
        "                self.right.insert_tree(new_node)\n",
        "    \n",
        "    def find_minimum(self):\n",
        "        min_node = self\n",
        "        while min_node.left:\n",
        "            min_node = min_node.left\n",
        "        return min_node\n",
        "    \n",
        "    def find_maximum(self):\n",
        "        max_node = self\n",
        "        while max_node.right:\n",
        "            max_node = max_node.right\n",
        "        return max_node\n",
        "    \n",
        "    def tree_traversal(self): #inorder\n",
        "        if self.left:\n",
        "            self.left.tree_traversal()\n",
        "        print(self.data, end=' ')\n",
        "        if self.right:\n",
        "            self.right.tree_traversal()\n",
        "            \n",
        "            \n",
        "    def create(self, sequence, index): #create tree from list sequence\n",
        "        if index >= len(sequence) or sequence[index] == None:   # 作為遞迴呼叫的出口條件\n",
        "            return None\n",
        "        else:\n",
        "            tempNode = BinaryTreeNode(sequence[index])\n",
        "            # 建立左子樹\n",
        "            tempNode.left = self.create(sequence, 2*index+1)\n",
        "            # 建立右子樹\n",
        "            tempNode.right = self.create(sequence, 2*index+2)\n",
        "            tempNode.parent = self\n",
        "            return tempNode"
      ]
    },
    {
      "cell_type": "markdown",
      "metadata": {},
      "source": [
        "查找node, 如果找到print他所有的child 和 parent node "
      ]
    },
    {
      "cell_type": "code",
      "execution_count": 16,
      "metadata": {},
      "outputs": [
        {
          "name": "stdout",
          "output_type": "stream",
          "text": [
            "parent: 0\n",
            "left: 6\n",
            "right: 8\n"
          ]
        }
      ],
      "source": [
        "def find_node_info(root, key):\n",
        "    node = root.search_tree(key)\n",
        "    if node:\n",
        "       print(f'parent: {node.parent.data if node.parent else None}')\n",
        "       print(f'left: {node.left.data if node.left else None}')\n",
        "       print(f'right: {node.right.data if node.right else None}')\n",
        "    else:\n",
        "        print('not found')\n",
        "\n",
        "\n",
        "\n",
        "find_node_info(root, 7)\n",
        "\n",
        "\n"
      ]
    },
    {
      "cell_type": "markdown",
      "metadata": {},
      "source": [
        "tree height "
      ]
    },
    {
      "cell_type": "code",
      "execution_count": 17,
      "metadata": {},
      "outputs": [
        {
          "name": "stdout",
          "output_type": "stream",
          "text": [
            "5\n"
          ]
        }
      ],
      "source": [
        "def tree_height(root):\n",
        "    if root is None :\n",
        "        return 0\n",
        "    \n",
        "    else: \n",
        "        left_height = tree_height(root.left)\n",
        "        right_height = tree_height(root.right)\n",
        "        return max(left_height, right_height) + 1\n",
        "\n",
        "print(tree_height(root))\n",
        "\n"
      ]
    },
    {
      "cell_type": "markdown",
      "metadata": {},
      "source": [
        "delete node : complex --> still needing to figure out "
      ]
    },
    {
      "cell_type": "code",
      "execution_count": 39,
      "metadata": {},
      "outputs": [],
      "source": [
        "def delete_node(root, key):\n",
        "    \n",
        "    # 如果树为空，直接返回\n",
        "    if root is None:\n",
        "        return None\n",
        "    \n",
        "    # 搜索要删除的节点\n",
        "    if key < root.data:\n",
        "        \n",
        "        root.left = delete_node(root.left, key)\n",
        "        if root.left:\n",
        "            root.left.parent = root\n",
        "    elif key > root.data:\n",
        "        # 如果要删除的值大于当前节点，则在右子树中删除\n",
        "        root.right = delete_node(root.right, key)\n",
        "        if root.right:\n",
        "            root.right.parent = root\n",
        "    else:\n",
        "        \n",
        "        \n",
        "        # leaf node \n",
        "        if root.left is None and root.right is None:\n",
        "            return None\n",
        "            \n",
        "        # only one child \n",
        "        elif root.left is None:\n",
        "            # 只有右子节点\n",
        "            child = root.right\n",
        "            child.parent = root.parent\n",
        "            return child\n",
        "        elif root.right is None:\n",
        "            # 只有左子节点\n",
        "            child = root.left\n",
        "            child.parent = root.parent\n",
        "            return child\n",
        "            \n",
        "        # have two children \n",
        "        else:\n",
        "            # 找到右子树中的最小值节点（后继节点） --> 拿來當root \n",
        "            successor = root.right.find_minimum()\n",
        "            \n",
        "            # 将当前节点的值替换为后继节点的值\n",
        "            root.data = successor.data\n",
        "            \n",
        "            # 删除后继节点\n",
        "            root.right = delete_node(root.right, successor.data)\n",
        "            if root.right:\n",
        "                root.right.parent = root\n",
        "    \n",
        "    return root"
      ]
    },
    {
      "cell_type": "code",
      "execution_count": 35,
      "metadata": {},
      "outputs": [
        {
          "name": "stdout",
          "output_type": "stream",
          "text": [
            "         10            \n",
            "     ____  _________   \n",
            "    /               \\  \n",
            "    5              15  \n",
            "  __ _         ____  _ \n",
            " /    \\       /       \\\n",
            " 3    7      12      20\n",
            "  _    _       ___     \n",
            "/  \\ /  \\   /     \\    \n",
            "1  3 6  8  10    14    \n",
            "                       \n",
            "   \\   /        /      \n",
            "   4   7       13      \n"
          ]
        }
      ],
      "source": [
        "pretty_print_tree(root)"
      ]
    },
    {
      "cell_type": "code",
      "execution_count": 36,
      "metadata": {},
      "outputs": [
        {
          "name": "stdout",
          "output_type": "stream",
          "text": [
            "        10            \n",
            "     ___  _________   \n",
            "    /              \\  \n",
            "    5             15  \n",
            "  __ _        ____  _ \n",
            " /    \\      /       \\\n",
            " 3    7     12      20\n",
            "  _   _       ___     \n",
            "/  \\   \\   /     \\    \n",
            "1  3   8  10    14    \n",
            "                      \n",
            "   \\  /        /      \n",
            "   4  7       13      \n"
          ]
        }
      ],
      "source": [
        "delete_node(root, 6)\n",
        "pretty_print_tree(root)\n",
        "\n",
        "\n",
        "\n",
        "\n"
      ]
    },
    {
      "cell_type": "code",
      "execution_count": 37,
      "metadata": {},
      "outputs": [
        {
          "name": "stdout",
          "output_type": "stream",
          "text": [
            "        10          \n",
            "     ___  _______   \n",
            "    /            \\  \n",
            "    5           15  \n",
            "  __ _        __  _ \n",
            " /    \\      /     \\\n",
            " 3    7     12    20\n",
            "  _   _       _     \n",
            "/  \\   \\   /   \\    \n",
            "1  3   8  10  13    \n",
            "                    \n",
            "   \\  /             \n",
            "   4  7             \n"
          ]
        }
      ],
      "source": [
        "delete_node(root, 14)\n",
        "pretty_print_tree(root)"
      ]
    },
    {
      "cell_type": "code",
      "execution_count": 38,
      "metadata": {},
      "outputs": [
        {
          "name": "stdout",
          "output_type": "stream",
          "text": [
            "       10          \n",
            "     __  _______   \n",
            "    /           \\  \n",
            "    7          15  \n",
            "  __ _       __  _ \n",
            " /    \\     /     \\\n",
            " 3    8    12    20\n",
            "  _          _     \n",
            "/  \\ /    /   \\    \n",
            "1  3 7   10  13    \n",
            "                   \n",
            "   \\               \n",
            "   4               \n"
          ]
        }
      ],
      "source": [
        "delete_node(root, 5)\n",
        "pretty_print_tree(root)"
      ]
    },
    {
      "cell_type": "markdown",
      "metadata": {},
      "source": [
        "烏龜畫圖"
      ]
    },
    {
      "cell_type": "code",
      "execution_count": null,
      "metadata": {},
      "outputs": [],
      "source": [
        "from turtle import *\n",
        "shape('turtle')\n",
        "\n",
        "def draw_node(x,y,text):\n",
        "    up()\n",
        "    goto(x-8,y-15)\n",
        "    down()\n",
        "    write(text, font=(\"Arial\", 20, \"bold\"))\n",
        "    up()\n",
        "    goto(x,y-20)\n",
        "    down()\n",
        "    seth(0)\n",
        "    circle(20)\n",
        "    up()\n",
        "    goto(x,y)\n",
        "    down()\n",
        "\n",
        "def draw_edge(x, y, left, level):\n",
        "    up()\n",
        "    goto(x,y-20)\n",
        "    seth(0)\n",
        "    if left:\n",
        "        circle(20,-45)\n",
        "        seth(225)\n",
        "    else:\n",
        "        circle(20,45)\n",
        "        seth(-45)\n",
        "    down()\n",
        "    fd(round(128/2**(level if level < 3 else 2)*1.4)-25)\n",
        "    seth(0)\n",
        "\n",
        "def draw_tree(root, x, y):\n",
        "    draw_node(x, y, root.data)\n",
        "    if root.left:\n",
        "        draw_edge(x, y, True)\n",
        "        draw_tree(root.left,x-40,y-55)\n",
        "    if root.right:\n",
        "        draw_edge(x, y, False)\n",
        "        draw_tree(root.right,x+40,y-55)\n",
        "\n",
        "def draw_edge2(x, y, left, level):\n",
        "    up()\n",
        "    goto(x,y-20)\n",
        "    seth(0)\n",
        "    if left:\n",
        "        circle(20,-45)\n",
        "        seth(225)\n",
        "    else:\n",
        "        circle(20,45)\n",
        "        seth(-45)\n",
        "    down()\n",
        "    fd(round(128/2**(level if level < 3 else 2)*1.4)-25)\n",
        "    seth(0)\n",
        "\n",
        "def draw_tree2(root, x, y, level=0):\n",
        "    draw_node(x, y, root.data)\n",
        "    if root.left:\n",
        "        draw_edge2(x, y, True, level)\n",
        "        draw_tree2(root.left, x-int(128/2**(level if level < 3 else 2))*1-10,y-int(128/2**(level if level < 3 else 2))*1-10,level+1)\n",
        "    if root.right:\n",
        "        draw_edge2(x, y, False, level)\n",
        "        draw_tree2(root.right, x+int(128/2**(level if level < 3 else 2))*1+10,y-int(128/2**(level if level < 3 else 2))*1-10,level+1)\n",
        "\n",
        "\n"
      ]
    },
    {
      "cell_type": "markdown",
      "metadata": {},
      "source": [
        "Hash Function"
      ]
    },
    {
      "cell_type": "markdown",
      "metadata": {},
      "source": [
        "Design to solve encode: \n",
        "1. Middle Square \n",
        "2. mod \n",
        "3. Folding addition \n",
        "4. digital ... \n"
      ]
    },
    {
      "cell_type": "markdown",
      "metadata": {},
      "source": [
        "Handle collusion : \n",
        "1. separate chaining: one key , one chain with multiple value \n",
        "    - save as --> unsorted doubly linked list \n",
        "    - will have many empty space \n",
        "\n",
        "2. open addressing 開放新的 : 我們希望可以讓資料分散且平均\n",
        "    - linear probing 探測\n",
        "        - if we collide, we linearly search for next slot \n",
        "        - 可能發生被站位，因此被擠太遠的狀況 --> clustering \n",
        "\n",
        "    - quadratic probing \n",
        "        - explore : (H(x) +- i^2 )mod b , b = bucket \n",
        "    - rehasing / double hashing "
      ]
    },
    {
      "cell_type": "markdown",
      "metadata": {},
      "source": []
    }
  ],
  "metadata": {
    "colab": {
      "provenance": [],
      "toc_visible": true
    },
    "kernelspec": {
      "display_name": "Python 3",
      "name": "python3"
    },
    "language_info": {
      "codemirror_mode": {
        "name": "ipython",
        "version": 3
      },
      "file_extension": ".py",
      "mimetype": "text/x-python",
      "name": "python",
      "nbconvert_exporter": "python",
      "pygments_lexer": "ipython3",
      "version": "3.12.9"
    }
  },
  "nbformat": 4,
  "nbformat_minor": 0
}
