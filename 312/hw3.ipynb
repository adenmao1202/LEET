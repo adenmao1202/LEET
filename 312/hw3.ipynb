{
 "cells": [
  {
   "cell_type": "code",
   "execution_count": 9,
   "metadata": {},
   "outputs": [
    {
     "data": {
      "text/plain": [
       "' \\nWrite a method in python as following :\\n\\ndef find_nearest_repeated_word(s:list)->int:\\nGiven an list of words, return the distance between a closest pair of equal entries.\\nIf no answer can be found, return -1\\n\\nFor example:\\n\\nTest\\tResult\\nprint(find_nearest_repeated_word([\"all\", \"work\", \"and\", \"no\", \"play\", \"makes\", \"for\", \"no\", \"work\", \"no\", \"fun\", \"and\", \"no\", \"results\"]))\\n2\\nprint(find_nearest_repeated_word([\"foo\", \"bar\", \"widget\", \"adnan\"]))\\n-1\\n\\n'"
      ]
     },
     "execution_count": 9,
     "metadata": {},
     "output_type": "execute_result"
    }
   ],
   "source": [
    "\"\"\" \n",
    "Write a method in python as following :\n",
    "\n",
    "def find_nearest_repeated_word(s:list)->int:\n",
    "Given an list of words, return the distance between a closest pair of equal entries.\n",
    "If no answer can be found, return -1\n",
    "\n",
    "For example:\n",
    "\n",
    "Test\tResult\n",
    "print(find_nearest_repeated_word([\"all\", \"work\", \"and\", \"no\", \"play\", \"makes\", \"for\", \"no\", \"work\", \"no\", \"fun\", \"and\", \"no\", \"results\"]))\n",
    "2\n",
    "print(find_nearest_repeated_word([\"foo\", \"bar\", \"widget\", \"adnan\"]))\n",
    "-1\n",
    "\n",
    "\"\"\""
   ]
  },
  {
   "cell_type": "code",
   "execution_count": 6,
   "metadata": {},
   "outputs": [],
   "source": [
    "def find_nearest_repeated_word(words: list) -> int:\n",
    "    last_seen = {}\n",
    "    min_distance = float('inf')\n",
    "    \n",
    "    for index, word in enumerate(words):\n",
    "        if word in last_seen:\n",
    "            distance = index - last_seen[word]\n",
    "            min_distance = min(min_distance, distance)\n",
    "        last_seen[word] = index  # if not seen, store the word in dic with index --> to cal len \n",
    "        print(last_seen)   \n",
    "        \n",
    "    return min_distance if min_distance != float('inf') else -1\n",
    "\n"
   ]
  },
  {
   "cell_type": "code",
   "execution_count": 7,
   "metadata": {},
   "outputs": [
    {
     "name": "stdout",
     "output_type": "stream",
     "text": [
      "{'foo': 0}\n",
      "{'foo': 0, 'bar': 1}\n",
      "{'foo': 0, 'bar': 1, 'widget': 2}\n",
      "{'foo': 0, 'bar': 1, 'widget': 2, 'adnan': 3}\n",
      "-1\n"
     ]
    }
   ],
   "source": [
    "# 測試範例\n",
    "\n",
    "print(find_nearest_repeated_word([\"foo\", \"bar\", \"widget\", \"adnan\"]))  # 輸出 -1"
   ]
  },
  {
   "cell_type": "code",
   "execution_count": 8,
   "metadata": {},
   "outputs": [
    {
     "name": "stdout",
     "output_type": "stream",
     "text": [
      "{'all': 0}\n",
      "{'all': 0, 'work': 1}\n",
      "{'all': 0, 'work': 1, 'and': 2}\n",
      "{'all': 0, 'work': 1, 'and': 2, 'no': 3}\n",
      "{'all': 0, 'work': 1, 'and': 2, 'no': 3, 'play': 4}\n",
      "{'all': 0, 'work': 1, 'and': 2, 'no': 3, 'play': 4, 'makes': 5}\n",
      "{'all': 0, 'work': 1, 'and': 2, 'no': 3, 'play': 4, 'makes': 5, 'for': 6}\n",
      "{'all': 0, 'work': 1, 'and': 2, 'no': 7, 'play': 4, 'makes': 5, 'for': 6}\n",
      "{'all': 0, 'work': 8, 'and': 2, 'no': 7, 'play': 4, 'makes': 5, 'for': 6}\n",
      "{'all': 0, 'work': 8, 'and': 2, 'no': 9, 'play': 4, 'makes': 5, 'for': 6}\n",
      "{'all': 0, 'work': 8, 'and': 2, 'no': 9, 'play': 4, 'makes': 5, 'for': 6, 'fun': 10}\n",
      "{'all': 0, 'work': 8, 'and': 11, 'no': 9, 'play': 4, 'makes': 5, 'for': 6, 'fun': 10}\n",
      "{'all': 0, 'work': 8, 'and': 11, 'no': 12, 'play': 4, 'makes': 5, 'for': 6, 'fun': 10}\n",
      "{'all': 0, 'work': 8, 'and': 11, 'no': 12, 'play': 4, 'makes': 5, 'for': 6, 'fun': 10, 'results': 13}\n",
      "2\n"
     ]
    }
   ],
   "source": [
    "print(find_nearest_repeated_word([\"all\", \"work\", \"and\", \"no\", \"play\", \"makes\", \"for\", \"no\", \"work\", \"no\", \"fun\", \"and\", \"no\", \"results\"]))  # 輸出 2"
   ]
  },
  {
   "cell_type": "code",
   "execution_count": 10,
   "metadata": {},
   "outputs": [
    {
     "data": {
      "text/plain": [
       "' \\nWrite a method in python as following :\\n\\ndef two_sum(nums:list, target:int)->list:\\nGiven an list of integers, return indices of the two numbers such that they add up to a specific target.\\n\\nYou may assume that each input would have exactly one solution, and you may not use the same element twice.\\n\\nIf no answer can be found, return [-1, -1]\\n\\nFor example:\\n\\nTest\\tResult\\nprint(two_sum([2,7,11,15],9))\\n[0, 1]\\nprint(two_sum([3,4,5,2],10))\\n[-1, -1]\\n'"
      ]
     },
     "execution_count": 10,
     "metadata": {},
     "output_type": "execute_result"
    }
   ],
   "source": [
    "\"\"\" \n",
    "Write a method in python as following :\n",
    "\n",
    "def two_sum(nums:list, target:int)->list:\n",
    "Given an list of integers, return indices of the two numbers such that they add up to a specific target.\n",
    "\n",
    "You may assume that each input would have exactly one solution, and you may not use the same element twice.\n",
    "\n",
    "If no answer can be found, return [-1, -1]\n",
    "\n",
    "For example:\n",
    "\n",
    "Test\tResult\n",
    "print(two_sum([2,7,11,15],9))\n",
    "[0, 1]\n",
    "print(two_sum([3,4,5,2],10))\n",
    "[-1, -1]\n",
    "\"\"\" "
   ]
  },
  {
   "cell_type": "code",
   "execution_count": 24,
   "metadata": {},
   "outputs": [],
   "source": [
    "def two_sum(nums:list, target:int)->list:\n",
    "    dic = {}  # this will be in format --> num, index \n",
    "    for i, num in enumerate(nums): \n",
    "        comp  = target - num\n",
    "        if comp in dic: \n",
    "            return [dic[comp], i]\n",
    "        dic[num] = i \n",
    "    return [-1, -1]\n",
    "        \n",
    "    \n",
    "    "
   ]
  },
  {
   "cell_type": "code",
   "execution_count": 25,
   "metadata": {},
   "outputs": [
    {
     "name": "stdout",
     "output_type": "stream",
     "text": [
      "[0, 1]\n"
     ]
    }
   ],
   "source": [
    "print(two_sum([2,7,11,15],9))"
   ]
  },
  {
   "cell_type": "code",
   "execution_count": null,
   "metadata": {},
   "outputs": [],
   "source": []
  }
 ],
 "metadata": {
  "kernelspec": {
   "display_name": "Python 3",
   "language": "python",
   "name": "python3"
  },
  "language_info": {
   "codemirror_mode": {
    "name": "ipython",
    "version": 3
   },
   "file_extension": ".py",
   "mimetype": "text/x-python",
   "name": "python",
   "nbconvert_exporter": "python",
   "pygments_lexer": "ipython3",
   "version": "3.12.9"
  }
 },
 "nbformat": 4,
 "nbformat_minor": 2
}
